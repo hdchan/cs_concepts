{
 "cells": [
  {
   "cell_type": "code",
   "execution_count": 1,
   "metadata": {},
   "outputs": [],
   "source": [
    "%load_ext autoreload\n",
    "%autoreload 2"
   ]
  },
  {
   "cell_type": "code",
   "execution_count": 109,
   "metadata": {},
   "outputs": [],
   "source": [
    "from data_structure.linked_list_double import LinkedListDouble\n",
    "from data_structure.stack import Stack\n",
    "from data_structure.stack_double_link import StackDoubleLink\n",
    "from data_structure.queue import Queue\n",
    "from data_structure.avl_tree import AVLTree\n",
    "from data_structure.binary_search_tree import BinarySearchTree\n",
    "from data_structure.graph_adjacency_list import GraphAdjacencyList\n",
    "from data_structure.graph_edge import EdgeType\n",
    "from data_structure.helper import generate_randomized_stack, generate_randomized_stack_double_link, generate_randomized_linked_list\n",
    "\n",
    "import random\n",
    "from random import randint\n",
    "import unittest\n",
    "import copy"
   ]
  },
  {
   "cell_type": "markdown",
   "metadata": {},
   "source": [
    "### Unit Testing Data Structures"
   ]
  },
  {
   "cell_type": "code",
   "execution_count": 44,
   "metadata": {},
   "outputs": [
    {
     "name": "stderr",
     "output_type": "stream",
     "text": [
      ".........\n",
      "----------------------------------------------------------------------\n",
      "Ran 9 tests in 0.009s\n",
      "\n",
      "OK\n"
     ]
    },
    {
     "data": {
      "text/plain": [
       "<unittest.runner.TextTestResult run=9 errors=0 failures=0>"
      ]
     },
     "execution_count": 44,
     "metadata": {},
     "output_type": "execute_result"
    }
   ],
   "source": [
    "loader = unittest.TestLoader()\n",
    "start_dir = 'tests'\n",
    "suite = loader.discover(start_dir)\n",
    "\n",
    "runner = unittest.TextTestRunner()\n",
    "runner.run(suite)"
   ]
  },
  {
   "cell_type": "markdown",
   "metadata": {},
   "source": [
    "## Cracking the Coding Interview"
   ]
  },
  {
   "cell_type": "markdown",
   "metadata": {},
   "source": [
    "### Chapter 2 - Linked Lists"
   ]
  },
  {
   "cell_type": "markdown",
   "metadata": {
    "collapsed": true
   },
   "source": [
    "**2.1** Write Code to remove duplicates from an unsorted linked list.<br> \n",
    "FOLLOW UP<br>\n",
    "How would you solve this problem if a temporary buffer is not allowed?"
   ]
  },
  {
   "cell_type": "code",
   "execution_count": 45,
   "metadata": {},
   "outputs": [
    {
     "name": "stdout",
     "output_type": "stream",
     "text": [
      "Stack before: [9 <-> 7 <-> 8 <-> 3 <-> 7 <-> 3 <-> 5 <-> 8 <-> 6 <-> 1]\n",
      "Stack after: [9 <-> 7 <-> 8 <-> 3 <-> 5 <-> 6]\n"
     ]
    }
   ],
   "source": [
    "random_stack = generate_randomized_stack_double_link()\n",
    "print(\"Stack before: {}\".format(random_stack))\n",
    "\n",
    "def remove_duplicates_from_stack(stack):\n",
    "    current_node = stack.linked_list.head\n",
    "    runner_node = None\n",
    "    while (current_node.next != None):\n",
    "        runner_node = current_node.next\n",
    "        while (runner_node.next != None):\n",
    "            if (runner_node.value == current_node.value):\n",
    "                runner_node.next.previous = runner_node.previous\n",
    "                runner_node.previous.next = runner_node.next\n",
    "                \n",
    "            runner_node = runner_node.next\n",
    "            \n",
    "        current_node = current_node.next\n",
    "        \n",
    "    if (runner_node.next == None):\n",
    "        # bug for the last duplicate item\n",
    "        # we'll handle this now here\n",
    "        if (runner_node.value == current_node.value):\n",
    "            runner_node.previous.next = None\n",
    "            runner_node.previous = None\n",
    "\n",
    "remove_duplicates_from_stack(random_stack)\n",
    "\n",
    "print(\"Stack after: {}\".format(random_stack))"
   ]
  },
  {
   "cell_type": "markdown",
   "metadata": {},
   "source": [
    "**2.2** Implement an algorithm to find the kth to last elemnt of a singly linked list."
   ]
  },
  {
   "cell_type": "code",
   "execution_count": 46,
   "metadata": {},
   "outputs": [
    {
     "name": "stdout",
     "output_type": "stream",
     "text": [
      "[7 -> 5 -> 3 -> 2 -> 3 -> 6 -> 8 -> 1 -> 1 -> 0]\n",
      "4th position value: 8\n"
     ]
    }
   ],
   "source": [
    "# even though this stack is doubly linked\n",
    "# we'll pretend it is singly linked\n",
    "# and no size property\n",
    "random_stack = generate_randomized_stack()\n",
    "\n",
    "print(random_stack)\n",
    "\n",
    "def node_for_kth_to_last_index(stack, k):\n",
    "    runner_node = stack.linked_list.head\n",
    "    for i in range(k-1):\n",
    "        runner_node = runner_node.next\n",
    "        \n",
    "    current_node = stack.linked_list.head\n",
    "    stack_size = 1\n",
    "    while (runner_node.next != None):\n",
    "        stack_size += 1\n",
    "        current_node = current_node.next\n",
    "        runner_node = runner_node.next\n",
    "    \n",
    "    return current_node\n",
    "    \n",
    "    # O(2n) implementation\n",
    "#     index = stack_size - k\n",
    "    \n",
    "#     if (index < 0):\n",
    "#         raise Exception(\"to far left!\")\n",
    "#     else:\n",
    "#         counter = 0\n",
    "#         current_node = stack.head\n",
    "#         while (current_node.next != None):\n",
    "#             if (counter == index):\n",
    "#                 return current_node\n",
    "#             counter += 1\n",
    "#             current_node = current_node.next\n",
    "#     raise Exception(\"nothing found\")\n",
    "\n",
    "the_node = node_for_kth_to_last_index(random_stack, 4) # which means 4th to last, or 6th in a list of 10\n",
    "print(\"4th position value: {}\".format(the_node.value))"
   ]
  },
  {
   "cell_type": "markdown",
   "metadata": {
    "collapsed": true
   },
   "source": [
    "**2.3** Implement an algorithm to delete a node in the middle of a singly linked list, given only acess to that node.<br>\n",
    "EXAMPLE<br>\n",
    "Input: the code c from the linked list a → b → c → d → e<br>\n",
    "Result: nothing is returned, but the new linked list looks like a → b → c → d\n"
   ]
  },
  {
   "cell_type": "code",
   "execution_count": 47,
   "metadata": {},
   "outputs": [
    {
     "name": "stdout",
     "output_type": "stream",
     "text": [
      "Stack before: [7 <-> 9 <-> 4 <-> 8 <-> 0 <-> 7 <-> 7 <-> 0 <-> 4]\n",
      "Stack after: [7 <-> 9 <-> 4 <-> 8 <-> 7 <-> 7 <-> 0 <-> 4]\n"
     ]
    }
   ],
   "source": [
    "random_stack = generate_randomized_stack_double_link(stack_size=9)\n",
    "print(\"Stack before: {}\".format(random_stack))\n",
    "\n",
    "def get_middle_node(stack):\n",
    "    current_node = stack.linked_list.head\n",
    "    runner_node = current_node.next\n",
    "    while (runner_node != None):\n",
    "        current_node = current_node.next\n",
    "        if (runner_node.next == None):\n",
    "            raise Exception(\"There is even amount of items in list.\")\n",
    "        runner_node = runner_node.next.next\n",
    "        \n",
    "    return current_node\n",
    "\n",
    "def remove_middle_node(stack):\n",
    "    middle_node = get_middle_node(stack)\n",
    "    middle_node.next.previous = middle_node.previous\n",
    "    middle_node.previous.next = middle_node.next\n",
    "    \n",
    "remove_middle_node(random_stack)\n",
    "print(\"Stack after: {}\".format(random_stack))\n"
   ]
  },
  {
   "cell_type": "markdown",
   "metadata": {},
   "source": [
    "**2.4** Write code to partition a linked list around a value x, such that all nodes less than x comes before all nodes greater than or equal to x."
   ]
  },
  {
   "cell_type": "code",
   "execution_count": 48,
   "metadata": {},
   "outputs": [
    {
     "name": "stdout",
     "output_type": "stream",
     "text": [
      "Stack before: [4 -> 7 -> 1 -> 3 -> 7 -> 4 -> 5 -> 1 -> 9 -> 6]\n",
      "Stack after: [6 -> 9 -> 7 -> 7]\n"
     ]
    }
   ],
   "source": [
    "random_stack = generate_randomized_stack()\n",
    "print(\"Stack before: {}\".format(random_stack))\n",
    "\n",
    "def partition_stack_around_value(stack, pivot):\n",
    "    lower_stack = Stack()\n",
    "    higher_stack = Stack()\n",
    "    \n",
    "    current_node = stack.linked_list.head\n",
    "    while(current_node != None):\n",
    "        if (current_node.value < pivot):\n",
    "            lower_stack.push(current_node.value)\n",
    "        else:\n",
    "            higher_stack.push(current_node.value)\n",
    "        current_node = current_node.next\n",
    "            \n",
    "    lower_stack.linked_list.append(higher_stack.linked_list.head)\n",
    "    return lower_stack\n",
    "    \n",
    "partitioned_stack = partition_stack_around_value(random_stack, 6)\n",
    "print(\"Stack after: {}\".format(partitioned_stack))"
   ]
  },
  {
   "cell_type": "markdown",
   "metadata": {},
   "source": [
    "**2.5.** You have two numbers represented by a linked list, where each node contains a single digit. The digits are stored in reverse order, such that the 1's digit is at the head of the list. Write a function that adds the two numbers and returns the sum as a linked list.<br>\n",
    "EXAMPLE<br>\n",
    "Input: (7 → 1 → 6) + (5 → 9 → 2). that is, 617 + 295.<br>\n",
    "Output: 2 → 1 → 9. That is, 912.<br>\n",
    "FOLLOW UP<br>\n",
    "Suppose the digits are stored in forward order. Repeat the above problem.<br>\n",
    "EXAMPLE<br>\n",
    "Input: (6 → 1 → 7) + (2 → 9 → 5). That is, 617 + 295.<br>\n",
    "Output: 9 → 1 → 2. That is 912.\n"
   ]
  },
  {
   "cell_type": "code",
   "execution_count": 49,
   "metadata": {},
   "outputs": [
    {
     "name": "stdout",
     "output_type": "stream",
     "text": [
      "First stack: [4 -> 6 -> 0]\n",
      "Second stack: [1 -> 4 -> 1]\n",
      "Reversed summation result: 205\n",
      "Forward summation result: 601\n"
     ]
    }
   ],
   "source": [
    "first_stack = generate_randomized_stack(stack_size=3)\n",
    "second_stack = generate_randomized_stack(stack_size=3)\n",
    "print(\"First stack: {}\".format(first_stack))\n",
    "print(\"Second stack: {}\".format(second_stack))\n",
    "\n",
    "# Assumption that at most, we will only need to carry a 1 over\n",
    "# Assuming that both nodes have the same node count\n",
    "def sum_of_nodes(node_1, node_2):\n",
    "    return node_1.value + node_2.value\n",
    "\n",
    "def recursive_sum_of_nodes(node_1, node_2, stack_count, current_count=0):\n",
    "    summation = 0\n",
    "    current_count += 1\n",
    "    \n",
    "    multiplier = (10 ** (stack_count - current_count))\n",
    "#     print(multiplier)\n",
    "    \n",
    "    if (node_1.next == None):\n",
    "        return (node_1.value + node_2.value) * multiplier\n",
    "    else:\n",
    "        \n",
    "        summation += (node_1.value + node_2.value) * multiplier + recursive_sum_of_nodes(node_1.next, node_2.next, stack_count, current_count)\n",
    "        \n",
    "    return summation\n",
    "\n",
    "def sum_stack_values(stack_1, stack_2, forward=True):\n",
    "    current_node_stack_1 = stack_1.linked_list.head\n",
    "    current_node_stack_2 = stack_2.linked_list.head\n",
    "    carry_over = 0\n",
    "    sum_string = \"\"\n",
    "    \n",
    "    if (forward == False):\n",
    "        while(current_node_stack_1 != None):\n",
    "            \n",
    "            current_sum = sum_of_nodes(current_node_stack_1, current_node_stack_2)\n",
    "            current_sum += carry_over\n",
    "            \n",
    "            carry_over = current_sum // 10 # we want the 10's place value to carry over\n",
    "            \n",
    "            current_value = current_sum % 10\n",
    "            \n",
    "            sum_string = str(current_value) + sum_string\n",
    "            \n",
    "            current_node_stack_1 = current_node_stack_1.next\n",
    "            current_node_stack_2 = current_node_stack_2.next\n",
    "            \n",
    "        if (carry_over == 1): # the last carry over\n",
    "            sum_string = str(carry_over) + sum_string\n",
    "        \n",
    "    else:\n",
    "        # Recursion?\n",
    "        stack_count = 0\n",
    "        current_node = current_node_stack_1\n",
    "        while(current_node != None):\n",
    "            stack_count += 1\n",
    "            current_node = current_node.next\n",
    "\n",
    "        sum_string = str(recursive_sum_of_nodes(current_node_stack_1, current_node_stack_2, stack_count, 0))\n",
    "        \n",
    "    return sum_string\n",
    "\n",
    "summation_reverse = sum_stack_values(first_stack, second_stack, forward=False)\n",
    "print(\"Reversed summation result: \" + summation_reverse)\n",
    "\n",
    "summation_forward = sum_stack_values(first_stack, second_stack)\n",
    "print(\"Forward summation result: \" + summation_forward)"
   ]
  },
  {
   "cell_type": "markdown",
   "metadata": {},
   "source": [
    "**2.6** Given a circular linked list, implement an algorithm which returns the node at the beginning of the loop.<br>\n",
    "DEFINITION<br>\n",
    "Circular linked list: A (corrupt) linked list in which a node's next pointer points to an earlier node, so as to make a looop in the linked list.<br>\n",
    "EXAMPLE<br>\n",
    "Input: A → B → C → D → E → C<br>\n",
    "Output: C\n"
   ]
  },
  {
   "cell_type": "code",
   "execution_count": 54,
   "metadata": {},
   "outputs": [
    {
     "name": "stdout",
     "output_type": "stream",
     "text": [
      "Your list: [4 <-> 5 <-> 6 <-> 7 <-> 7]\n",
      "Last node is looped with node at index: 1\n",
      "Reduant node value: 5\n",
      "Retrieved reduant node value: 5\n"
     ]
    }
   ],
   "source": [
    "def generate_circular_linked_list(list_size=5):\n",
    "    random_list = generate_randomized_linked_list(stack_size=list_size)\n",
    "    random_position = random.randint(0, list_size - 2) # subtract 1 more because we don't want to use the last position\n",
    "    count = 0\n",
    "    current_node = random_list.head\n",
    "    while (count != random_position):\n",
    "        current_node = current_node.next\n",
    "        count += 1\n",
    "    \n",
    "    print(\"Your list: {}\".format(random_list))\n",
    "    \n",
    "    random_list.tail.next = current_node\n",
    "    \n",
    "    print(\"Last node is looped with node at index: {}\".format(random_position))\n",
    "    \n",
    "    return random_list, current_node\n",
    "    \n",
    "circular_linked_list, redudant_node = generate_circular_linked_list()\n",
    "\n",
    "def find_redudant_node(circular_linked_list):\n",
    "    runner_1 = circular_linked_list.head\n",
    "    runner_2 = runner_1\n",
    "    while (runner_1 != None):\n",
    "        \n",
    "        runner_1 = runner_1.next\n",
    "        runner_2 = runner_2.next.next\n",
    "        \n",
    "        if (runner_1 == runner_2):\n",
    "            break\n",
    "    \n",
    "    runner_3 = circular_linked_list.head\n",
    "    while (runner_3 != runner_1):\n",
    "        runner_3 = runner_3.next\n",
    "        runner_1 = runner_1.next\n",
    "        \n",
    "    return runner_1\n",
    "        \n",
    "        \n",
    "retrieved_redundant_node = find_redudant_node(circular_linked_list)\n",
    "\n",
    "print(\"Reduant node value: {}\".format(str(redudant_node.value)))\n",
    "# print(redudant_node.value)\n",
    "print(\"Retrieved reduant node value: {}\".format(str(retrieved_redundant_node.value)))\n",
    "# print(retrieved_redundant_node.value)"
   ]
  },
  {
   "cell_type": "markdown",
   "metadata": {},
   "source": [
    "**In depth**\n",
    "\n",
    "Given a circular linked list: A → B → C → D → E → F → G → H → I → D<br>\n",
    "**k = 3** <i>(Steps between start of list and start of loop)</i><br>\n",
    "**LOOP_SIZE = 7**<br>\n",
    "<br>\n",
    "First we determine their collision point, where Runner 1 is taking 1 step, and Runner 2 is taking 2 steps.\n",
    "\n",
    "| Step # | Runner 1 | Runner 2 |\n",
    "|:---:|:---:|:---:|\n",
    "| Start | A | A |\n",
    "| 1 | B | D |\n",
    "| 2 | C | F | \n",
    "| 3 | D | H |\n",
    "| 4 | E | C |\n",
    "| 5 | F | E |\n",
    "| 6 | G | G |\n",
    "\n",
    "We find that both pointers meet at Node G after 6 steps.<br>\n",
    "Node G is also 4 steps away from the the start of the loop, which we can calculate from **K = mod(k, LOOP_SIZE)**.\n",
    "\n",
    "To find the start of the loop we can move Runner 2 back to the start of the list, but this time taking 1 step.\n",
    "Both Runner 1 and Runner 2 are now K steps away from the start of the loop, and when we run them, the next time they will meet (in K - 1 steps) will indicate the start of the loop.\n",
    "\n",
    "| Step # | Runner 1 | Runner 2 |\n",
    "|:---:|:---:|:---:|\n",
    "| Start | A | G |\n",
    "| 1 | B | H |\n",
    "| 2 | C | I | \n",
    "| 3 | D | D |\n",
    "\n"
   ]
  },
  {
   "cell_type": "markdown",
   "metadata": {},
   "source": [
    "**2.7** Implement a function to check if a linked list is a palindrome."
   ]
  },
  {
   "cell_type": "code",
   "execution_count": 157,
   "metadata": {},
   "outputs": [],
   "source": [
    "# Helper to generate palindromes\n",
    "def generate_palindrome_list(list_size=5):\n",
    "    half_size = list_size // 2\n",
    "    first_half_list = generate_randomized_linked_list(stack_size=half_size)\n",
    "    \n",
    "    palindrome_list = copy.deepcopy(first_half_list)\n",
    "    \n",
    "    if (list_size % 2 == 1):\n",
    "        palindrome_list.append(random.randint(0, 9))\n",
    "    \n",
    "    current_node = first_half_list.tail\n",
    "    \n",
    "    while(current_node != None):\n",
    "        palindrome_list.append(current_node.value)\n",
    "        current_node = current_node.previous    \n",
    "    \n",
    "    return palindrome_list\n"
   ]
  },
  {
   "cell_type": "code",
   "execution_count": 158,
   "metadata": {},
   "outputs": [
    {
     "name": "stdout",
     "output_type": "stream",
     "text": [
      "[5 <-> 1 <-> 7 <-> 1 <-> 5] is a palidrome?\n",
      "True\n"
     ]
    }
   ],
   "source": [
    "def is_palindrome(palindrome_list):\n",
    "    \n",
    "    half_count = palindrome_list.node_count // 2\n",
    "    front_runner = palindrome_list.head\n",
    "    back_runner = palindrome_list.tail\n",
    "    \n",
    "    # We're just going to take advantage of a doubly linked list here\n",
    "    step_count = 0\n",
    "    while (step_count != half_count):\n",
    "        if (front_runner.value != back_runner.value):\n",
    "            return False\n",
    "        \n",
    "        front_runner = front_runner.next\n",
    "        back_runner = back_runner.previous\n",
    "        step_count += 1\n",
    "        \n",
    "    return True\n",
    "\n",
    "palindrome_list = generate_palindrome_list()\n",
    "\n",
    "print(\"{}\".format(palindrome_list) + \" is a palidrome?\")\n",
    "print(is_palindrome(palindrome_list))"
   ]
  },
  {
   "cell_type": "markdown",
   "metadata": {},
   "source": [
    "## Unit Testing Chapter 2 Questions"
   ]
  },
  {
   "cell_type": "code",
   "execution_count": 161,
   "metadata": {},
   "outputs": [
    {
     "name": "stderr",
     "output_type": "stream",
     "text": [
      "......."
     ]
    },
    {
     "name": "stdout",
     "output_type": "stream",
     "text": [
      "Your list: [3 <-> 3 <-> 5 <-> 2 <-> 2]\n",
      "Last node is looped with node at index: 1\n"
     ]
    },
    {
     "name": "stderr",
     "output_type": "stream",
     "text": [
      "\n",
      "----------------------------------------------------------------------\n",
      "Ran 7 tests in 0.008s\n",
      "\n",
      "OK\n"
     ]
    },
    {
     "data": {
      "text/plain": [
       "<unittest.runner.TextTestResult run=7 errors=0 failures=0>"
      ]
     },
     "execution_count": 161,
     "metadata": {},
     "output_type": "execute_result"
    }
   ],
   "source": [
    "class TestCrackingCodeChapter2Questions(unittest.TestCase):\n",
    "    \n",
    "    def setUp(self):\n",
    "        stack = StackDoubleLink()\n",
    "        stack.push(1)\n",
    "        stack.push(2)\n",
    "        stack.push(3)\n",
    "        stack.push(4)\n",
    "        stack.push(1)\n",
    "        stack.push(2)\n",
    "        stack.push(3)\n",
    "        stack.push(4)\n",
    "        stack.push(1)\n",
    "        stack.push(2)\n",
    "        stack.push(3)\n",
    "        self.stack = stack\n",
    "        \n",
    "    def tearDown(self):\n",
    "        self.stack = None\n",
    "        \n",
    "    def test_2_1(self):\n",
    "        remove_duplicates_from_stack(self.stack)\n",
    "        self.assertEqual(self.stack.linked_list.__str__(), \"[3 <-> 2 <-> 1 <-> 4]\")\n",
    "        \n",
    "    def test_2_2(self):\n",
    "        the_node = node_for_kth_to_last_index(self.stack, 4)\n",
    "        self.assertEqual(the_node.value, 4)\n",
    "        \n",
    "    def test_2_3(self):\n",
    "        remove_middle_node(self.stack)\n",
    "        self.assertEqual(\"{}\".format(self.stack), \"[3 <-> 2 <-> 1 <-> 4 <-> 3 <-> 1 <-> 4 <-> 3 <-> 2 <-> 1]\")\n",
    "        \n",
    "        with self.assertRaises(Exception) as context: \n",
    "            remove_middle_node(self.stack)\n",
    "        self.assertTrue('There is even amount of items in list.' in str(context.exception))\n",
    "    \n",
    "    def test_2_4(self):\n",
    "        partitioned_stack = partition_stack_around_value(self.stack, 3)\n",
    "        self.assertEqual(\"{}\".format(partitioned_stack), \"[3 -> 4 -> 3 -> 4 -> 3]\")\n",
    "        \n",
    "    def test_2_5(self):\n",
    "        # Input: (7 → 1 → 6) + (5 → 9 → 2). that is, 617 + 295.\n",
    "        # Output: 2 → 1 → 9. That is, 912.\n",
    "        stack_1 = Stack()\n",
    "        stack_1.push(6)\n",
    "        stack_1.push(1)\n",
    "        stack_1.push(7)\n",
    "        \n",
    "        stack_2 = Stack()\n",
    "        stack_2.push(2)\n",
    "        stack_2.push(9)\n",
    "        stack_2.push(5)\n",
    "        \n",
    "        summation_reverse = sum_stack_values(stack_1, stack_2, forward=False)\n",
    "        self.assertEqual(summation_reverse, \"912\")\n",
    "        \n",
    "        # Input: (6 → 1 → 7) + (2 → 9 → 5). That is, 617 + 295.\n",
    "        # Output: 9 → 1 → 2. That is 912.\n",
    "        stack_3 = Stack()\n",
    "        stack_3.push(7)\n",
    "        stack_3.push(1)\n",
    "        stack_3.push(6)\n",
    "        \n",
    "        stack_4 = Stack()\n",
    "        stack_4.push(5)\n",
    "        stack_4.push(9)\n",
    "        stack_4.push(2)\n",
    "        \n",
    "        summation_forward = sum_stack_values(stack_3, stack_4)\n",
    "        self.assertEqual(summation_forward, \"912\")\n",
    "        \n",
    "    def test_2_6(self):\n",
    "        circular_linked_list, redudant_node = generate_circular_linked_list()\n",
    "        retrieved_redundant_node = find_redudant_node(circular_linked_list)\n",
    "        self.assertEqual(redudant_node.value, retrieved_redundant_node.value)\n",
    "        \n",
    "    def test_2_7(self):\n",
    "        palindrome_list = generate_palindrome_list(11)\n",
    "        self.assertEqual(is_palindrome(palindrome_list), True)\n",
    "        \n",
    "suite = unittest.TestLoader().loadTestsFromModule(TestCrackingCodeChapter2Questions())\n",
    "unittest.TextTestRunner().run(suite)"
   ]
  },
  {
   "cell_type": "markdown",
   "metadata": {},
   "source": [
    "### Chapter 3 - Stacks and Queues"
   ]
  },
  {
   "cell_type": "markdown",
   "metadata": {},
   "source": [
    "**3.1** Describe how you could use a single array to implement three stacks."
   ]
  },
  {
   "cell_type": "code",
   "execution_count": 15,
   "metadata": {},
   "outputs": [],
   "source": [
    "# TODO"
   ]
  },
  {
   "cell_type": "markdown",
   "metadata": {
    "collapsed": true
   },
   "source": [
    "**3.2** How would you design a stack which, in addition to push and pop, also has a function min which returns the minimum element? Push, pop and min should all operate in O(1) time."
   ]
  },
  {
   "cell_type": "code",
   "execution_count": 70,
   "metadata": {},
   "outputs": [
    {
     "name": "stdout",
     "output_type": "stream",
     "text": [
      "[5 -> 2 -> 4 -> 3]\n",
      "2\n"
     ]
    }
   ],
   "source": [
    "# random_stack = generate_randomized_stack(stack_size = 5)\n",
    "# print(random_stack.description())\n",
    "# print(\"Min value is: \" + str(random_stack.min_node().value))\n",
    "\n",
    "class MinStack(Stack):\n",
    "    def __init__(self):\n",
    "        super(MinStack, self).__init__()\n",
    "        self.min_node = None\n",
    "    def get_min_node(self):\n",
    "        # we'll store this so we don't have to traverse the list\n",
    "        return self.min_node\n",
    "    def push(self, value):\n",
    "        # and set it by overriding our push method\n",
    "        super(MinStack, self).push(value)\n",
    "        \n",
    "        if (self.min_node == None):\n",
    "            self.min_node = self.linked_list.head\n",
    "        else:\n",
    "            if self.linked_list.head.value < self.min_node.value:\n",
    "                self.min_node = self.linked_list.head\n",
    "\n",
    "min_stack = MinStack()\n",
    "min_stack.push(3)\n",
    "min_stack.push(4)\n",
    "min_stack.push(2)\n",
    "min_stack.push(5)\n",
    "\n",
    "print(min_stack)\n",
    "print(min_stack.get_min_node().value)"
   ]
  },
  {
   "cell_type": "markdown",
   "metadata": {},
   "source": [
    "**3.3** Image a (literal) stack of plates. If the stack gets too high, it might topple. Therefore, in real life, we would likely start a new stack when the previous stack exceeds some threshold. Implement a data structure <i>SetOfStacks</i> that mimics this. <i>SetOfStacks</i> should be composed of several stacks and should create a new stack once the previous once exceeds capacity. <i>SetOfStacks.push()</i> and <i>SetOfStacks.pop()</i> should behave identically to a single stack (that is, pop() should return the same values as it would if there were just a single stack).<br>\n",
    "FOLLOW UP<br>\n",
    "Implement a function <i>popAt(int index)</i> which performs a pop operation on a specific sub-stack."
   ]
  },
  {
   "cell_type": "code",
   "execution_count": 162,
   "metadata": {},
   "outputs": [
    {
     "ename": "AttributeError",
     "evalue": "'Stack' object has no attribute 'node_count'",
     "output_type": "error",
     "traceback": [
      "\u001b[0;31m---------------------------------------------------------------------------\u001b[0m",
      "\u001b[0;31mAttributeError\u001b[0m                            Traceback (most recent call last)",
      "\u001b[0;32m<ipython-input-162-a6ca7cc54dd4>\u001b[0m in \u001b[0;36m<module>\u001b[0;34m\u001b[0m\n\u001b[1;32m     82\u001b[0m \u001b[0mset_of_stacks\u001b[0m \u001b[0;34m=\u001b[0m \u001b[0mSetOfStacks\u001b[0m\u001b[0;34m(\u001b[0m\u001b[0;36m5\u001b[0m\u001b[0;34m)\u001b[0m\u001b[0;34m;\u001b[0m\u001b[0;34m\u001b[0m\u001b[0;34m\u001b[0m\u001b[0m\n\u001b[1;32m     83\u001b[0m \u001b[0mset_of_stacks\u001b[0m\u001b[0;34m.\u001b[0m\u001b[0mpush\u001b[0m\u001b[0;34m(\u001b[0m\u001b[0;36m1\u001b[0m\u001b[0;34m)\u001b[0m\u001b[0;34m\u001b[0m\u001b[0;34m\u001b[0m\u001b[0m\n\u001b[0;32m---> 84\u001b[0;31m \u001b[0mset_of_stacks\u001b[0m\u001b[0;34m.\u001b[0m\u001b[0mpush\u001b[0m\u001b[0;34m(\u001b[0m\u001b[0;36m2\u001b[0m\u001b[0;34m)\u001b[0m\u001b[0;34m\u001b[0m\u001b[0;34m\u001b[0m\u001b[0m\n\u001b[0m\u001b[1;32m     85\u001b[0m \u001b[0mset_of_stacks\u001b[0m\u001b[0;34m.\u001b[0m\u001b[0mpush\u001b[0m\u001b[0;34m(\u001b[0m\u001b[0;36m3\u001b[0m\u001b[0;34m)\u001b[0m\u001b[0;34m\u001b[0m\u001b[0;34m\u001b[0m\u001b[0m\n\u001b[1;32m     86\u001b[0m \u001b[0mset_of_stacks\u001b[0m\u001b[0;34m.\u001b[0m\u001b[0mpush\u001b[0m\u001b[0;34m(\u001b[0m\u001b[0;36m4\u001b[0m\u001b[0;34m)\u001b[0m\u001b[0;34m\u001b[0m\u001b[0;34m\u001b[0m\u001b[0m\n",
      "\u001b[0;32m<ipython-input-162-a6ca7cc54dd4>\u001b[0m in \u001b[0;36mpush\u001b[0;34m(self, value)\u001b[0m\n\u001b[1;32m      6\u001b[0m \u001b[0;34m\u001b[0m\u001b[0m\n\u001b[1;32m      7\u001b[0m     \u001b[0;32mdef\u001b[0m \u001b[0mpush\u001b[0m\u001b[0;34m(\u001b[0m\u001b[0mself\u001b[0m\u001b[0;34m,\u001b[0m \u001b[0mvalue\u001b[0m\u001b[0;34m)\u001b[0m\u001b[0;34m:\u001b[0m\u001b[0;34m\u001b[0m\u001b[0;34m\u001b[0m\u001b[0m\n\u001b[0;32m----> 8\u001b[0;31m         \u001b[0;32mif\u001b[0m \u001b[0;34m(\u001b[0m\u001b[0mself\u001b[0m\u001b[0;34m.\u001b[0m\u001b[0mlinked_list\u001b[0m\u001b[0;34m.\u001b[0m\u001b[0mhead\u001b[0m \u001b[0;34m==\u001b[0m \u001b[0;32mNone\u001b[0m \u001b[0;32mor\u001b[0m \u001b[0mself\u001b[0m\u001b[0;34m.\u001b[0m\u001b[0mlinked_list\u001b[0m\u001b[0;34m.\u001b[0m\u001b[0mhead\u001b[0m\u001b[0;34m.\u001b[0m\u001b[0mvalue\u001b[0m\u001b[0;34m.\u001b[0m\u001b[0mnode_count\u001b[0m \u001b[0;34m==\u001b[0m \u001b[0mself\u001b[0m\u001b[0;34m.\u001b[0m\u001b[0mstack_limit\u001b[0m\u001b[0;34m)\u001b[0m\u001b[0;34m:\u001b[0m\u001b[0;34m\u001b[0m\u001b[0;34m\u001b[0m\u001b[0m\n\u001b[0m\u001b[1;32m      9\u001b[0m             \u001b[0mnew_stack\u001b[0m \u001b[0;34m=\u001b[0m \u001b[0mStack\u001b[0m\u001b[0;34m(\u001b[0m\u001b[0;34m)\u001b[0m\u001b[0;34m\u001b[0m\u001b[0;34m\u001b[0m\u001b[0m\n\u001b[1;32m     10\u001b[0m             \u001b[0msuper\u001b[0m\u001b[0;34m(\u001b[0m\u001b[0mSetOfStacks\u001b[0m\u001b[0;34m,\u001b[0m \u001b[0mself\u001b[0m\u001b[0;34m)\u001b[0m\u001b[0;34m.\u001b[0m\u001b[0mpush\u001b[0m\u001b[0;34m(\u001b[0m\u001b[0mnew_stack\u001b[0m\u001b[0;34m)\u001b[0m\u001b[0;34m\u001b[0m\u001b[0;34m\u001b[0m\u001b[0m\n",
      "\u001b[0;31mAttributeError\u001b[0m: 'Stack' object has no attribute 'node_count'"
     ]
    }
   ],
   "source": [
    "class SetOfStacks(Stack):\n",
    "    \n",
    "    def __init__(self, stack_limit):\n",
    "        super(SetOfStacks, self).__init__()\n",
    "        self.stack_limit = stack_limit\n",
    "    \n",
    "    def push(self, value):\n",
    "        if (self.linked_list.head == None or self.linked_list.head.value.node_count == self.stack_limit):\n",
    "            new_stack = Stack()\n",
    "            super(SetOfStacks, self).push(new_stack)\n",
    "                \n",
    "        self.linked_list.head.value.push(value)\n",
    "        \n",
    "        return\n",
    "    \n",
    "    def pop(self):\n",
    "        popped_node = self.linked_list.head.value.pop() # pop the head node's stack\n",
    "        \n",
    "        if (self.linked_list.head.value.is_empty()): \n",
    "            super(SetOfStacks, self).pop() # if it's empty, then remove this pointer node\n",
    "        return popped_node\n",
    "    \n",
    "    def pull_last(self, from_stack):\n",
    "        \n",
    "        if (from_stack.linked_list.node_count == 1):\n",
    "            return self.pop()\n",
    "        \n",
    "        pulled_node = None\n",
    "        pulled_node = from_stack.linked_list.tail\n",
    "        \n",
    "        if (pulled_node.previous != None):\n",
    "            pulled_node.previous.next = None\n",
    "            pulled_node.previous = None\n",
    "        \n",
    "        \n",
    "        return pulled_node\n",
    "    \n",
    "    \n",
    "    def popAt(self, index):\n",
    "        popped_node = None\n",
    "        if (index + 1 > self.linked_list.node_count):\n",
    "            raise Exception(\"Out of bounds!\")\n",
    "        \n",
    "        if (index == 0):\n",
    "            popped_node = self.pop()\n",
    "            return popped_node\n",
    "        \n",
    "        stack_count = 0\n",
    "        current_stack = self.linked_list.head\n",
    "        while (stack_count < index):\n",
    "            \n",
    "            next_n = current_stack.next\n",
    "            if (stack_count + 1 == index):\n",
    "                popped_node = next_n.value.pop()\n",
    "            \n",
    "            next_n = current_stack.next\n",
    "            temp_node = self.pull_last(current_stack.value)\n",
    "\n",
    "            next_n.value.push(temp_node)\n",
    "                \n",
    "            stack_count += 1\n",
    "            current_stack = next_n\n",
    "        \n",
    "        return popped_node\n",
    "    \n",
    "    def description(self):\n",
    "        string = \"\"\n",
    "        current_node = self.head\n",
    "        while (current_node != None):\n",
    "            if (isinstance(current_node.value, Stack)):\n",
    "                string += current_node.value.description()\n",
    "            else:\n",
    "                string += str(current_node.value)\n",
    "                \n",
    "            current_node = current_node.next\n",
    "            if (current_node != None):\n",
    "                string += \", \"\n",
    "\n",
    "        string = \"[\"+string+\"]\"\n",
    "        return string\n",
    "    \n",
    "set_of_stacks = SetOfStacks(5);\n",
    "set_of_stacks.push(1)\n",
    "set_of_stacks.push(2)\n",
    "set_of_stacks.push(3)\n",
    "set_of_stacks.push(4)\n",
    "set_of_stacks.push(5)\n",
    "set_of_stacks.push(6)\n",
    "set_of_stacks.push(7)\n",
    "set_of_stacks.push(8)\n",
    "set_of_stacks.push(9)\n",
    "set_of_stacks.push(1)\n",
    "set_of_stacks.push(2)\n",
    "set_of_stacks.push(3)\n",
    "set_of_stacks.push(4)\n",
    "set_of_stacks.push(5)\n",
    "set_of_stacks.push(6)\n",
    "set_of_stacks.push(7)\n",
    "set_of_stacks.push(8)\n",
    "set_of_stacks.push(9)\n",
    "set_of_stacks.pop()\n",
    "set_of_stacks.pop()\n",
    "print(set_of_stacks)\n",
    "print(set_of_stacks.popAt(3).value)\n",
    "print(set_of_stacks)\n",
    "        "
   ]
  },
  {
   "cell_type": "markdown",
   "metadata": {},
   "source": [
    "**3.4** In the classic proble of the Towers of Hanoi, you have 3 towers and N disks of different sizes which can slide onto any tower. The puzzle starts with disks sorted in ascending order of size from top to bottom (i.e., each disk sits on top of an even larger one). You have the following constraints:<br>\n",
    "(1) Only one disk can be moved at a time.<br>\n",
    "(2) A disk is slid off the top of one tower onto the next tower.<br>\n",
    "(3) A disk can only be placed on top of a larger disk.<br>\n",
    "Write a program to move the disks from the first tower to the last using stacks.\n",
    "\n",
    "![title](img/tower_of_hanoi.gif)"
   ]
  },
  {
   "cell_type": "code",
   "execution_count": 166,
   "metadata": {},
   "outputs": [
    {
     "name": "stdout",
     "output_type": "stream",
     "text": [
      "Initial: ([1, 2, 3, 4, 5], 'source'), ([], 'target'), ([], 'helper')\n",
      "Moving disk 5 from source to target\n",
      "Moving disk 4 from source to helper\n",
      "Moving disk 5 from target to helper\n",
      "Moving disk 3 from source to target\n",
      "Moving disk 5 from helper to source\n",
      "Moving disk 4 from helper to target\n",
      "Moving disk 5 from source to target\n",
      "Moving disk 2 from source to helper\n",
      "Moving disk 5 from target to helper\n",
      "Moving disk 4 from target to source\n",
      "Moving disk 5 from helper to source\n",
      "Moving disk 3 from target to helper\n",
      "Moving disk 5 from source to target\n",
      "Moving disk 4 from source to helper\n",
      "Moving disk 5 from target to helper\n",
      "Moving disk 1 from source to target\n",
      "Moving disk 5 from helper to source\n",
      "Moving disk 4 from helper to target\n",
      "Moving disk 5 from source to target\n",
      "Moving disk 3 from helper to source\n",
      "Moving disk 5 from target to helper\n",
      "Moving disk 4 from target to source\n",
      "Moving disk 5 from helper to source\n",
      "Moving disk 2 from helper to target\n",
      "Moving disk 5 from source to target\n",
      "Moving disk 4 from source to helper\n",
      "Moving disk 5 from target to helper\n",
      "Moving disk 3 from source to target\n",
      "Moving disk 5 from helper to source\n",
      "Moving disk 4 from helper to target\n",
      "Moving disk 5 from source to target\n",
      "Solved: ([], 'source'), ([1, 2, 3, 4, 5], 'target'), ([], 'helper')\n"
     ]
    }
   ],
   "source": [
    "class TowerOfHanoi(object):\n",
    "    \n",
    "    def __init__(self, tower_size):\n",
    "        self.source = [], \"source\"\n",
    "        self.helper = [], \"helper\" \n",
    "        self.target = [], \"target\"\n",
    "        self.debug = False\n",
    "        \n",
    "        for i in range(tower_size):\n",
    "            self.source[0].append(i + 1)\n",
    "\n",
    "    def solve(self, debug=False):\n",
    "        self.debug = debug\n",
    "        self.move(len(self.source[0]), self.source, self.target, self.helper)\n",
    "        \n",
    "    def move(self, n, source, target, helper):\n",
    "        if n > 0:\n",
    "            self.move(n - 1, source, helper, target) # move all top disks to our helper\n",
    "\n",
    "            if source[0]: # moving the last disk to our target\n",
    "                disk = source[0].pop()\n",
    "                if self.debug:\n",
    "                    print(\"Moving disk {} from {} to {}\".format(disk, source[1], target[1]))\n",
    "#                     print(source, target, helper)\n",
    "                target[0].append(disk)\n",
    "            \n",
    "            self.move(n - 1, helper, target, source) # moving top disks to target\n",
    "    \n",
    "    def __str__(self):\n",
    "        return \"{}, {}, {}\".format(self.source, self.target, self.helper)\n",
    "    \n",
    "\n",
    "    \n",
    "tower_of_hanoi = TowerOfHanoi(5)\n",
    "print(\"Initial: {}\".format(tower_of_hanoi))\n",
    "tower_of_hanoi.solve(True)\n",
    "print(\"Solved: {}\".format(tower_of_hanoi))"
   ]
  },
  {
   "cell_type": "markdown",
   "metadata": {},
   "source": [
    "**In depth** \n",
    "\n",
    "Here we're trying to solve the smaller problems through recursion. A the highest level, we're trying to move disks D<sub>n - 1</sub> ... D<sub>1</sub> to a helper tower, an D<sub>n</sub> to our target tower. All subsequent moves are just the same problem, but one less.\n",
    "\n",
    "![title](img/towers_of_hanoi_n_disks.jpg)\n",
    "\n",
    "https://www.youtube.com/watch?v=rVPuzFYlfYE"
   ]
  },
  {
   "cell_type": "markdown",
   "metadata": {},
   "source": [
    "**3.5** Implement a <i>MyQueue</i> class which implements a queue using two stacks."
   ]
  },
  {
   "cell_type": "code",
   "execution_count": 168,
   "metadata": {},
   "outputs": [
    {
     "name": "stdout",
     "output_type": "stream",
     "text": [
      "1\n",
      "2\n",
      "Push stack: [4 -> 3]\n",
      "Queue stack: [3 -> 4]\n"
     ]
    }
   ],
   "source": [
    "class MyQueue(object):\n",
    "    def __init__(self):\n",
    "        self.push_stack = Stack()\n",
    "        self.queue_stack = Stack()\n",
    "    \n",
    "    def enqueue(self, value):\n",
    "        self.push_stack.push(value)\n",
    "        self.queue_stack = Stack()\n",
    "        current_node = self.push_stack.linked_list.head\n",
    "        while (current_node != None):\n",
    "            self.queue_stack.push(current_node.value)\n",
    "            current_node = current_node.next\n",
    "        return\n",
    "    \n",
    "    def dequeue(self):\n",
    "        popped_node = self.queue_stack.pop()\n",
    "        self.push_stack = Stack()\n",
    "        current_node = self.queue_stack.linked_list.head\n",
    "        while (current_node != None):\n",
    "            self.push_stack.push(current_node.value)\n",
    "            current_node = current_node.next\n",
    "        return popped_node\n",
    "    \n",
    "my_queue = MyQueue();\n",
    "my_queue.enqueue(1)\n",
    "my_queue.enqueue(2)\n",
    "my_queue.enqueue(3)\n",
    "my_queue.enqueue(4)\n",
    "print(my_queue.dequeue().value)\n",
    "print(my_queue.dequeue().value)\n",
    "print(\"Push stack: {}\".format(my_queue.push_stack))\n",
    "print(\"Queue stack: {}\".format(my_queue.queue_stack))"
   ]
  },
  {
   "cell_type": "markdown",
   "metadata": {},
   "source": [
    "**3.6** Write a program to sort a stack in ascending order (with biggest items on top). You may use at most one additional stack to hold items, but you may not copy the elements into any other data structure (such as an array). The stack supports the following operations: push, pop, peek, and isEmpty."
   ]
  },
  {
   "cell_type": "code",
   "execution_count": 170,
   "metadata": {},
   "outputs": [
    {
     "name": "stdout",
     "output_type": "stream",
     "text": [
      "[0 -> 0 -> 1 -> 1 -> 8 -> 4 -> 3 -> 0 -> 8 -> 8]\n",
      "[8 -> 8 -> 8 -> 4 -> 3 -> 1 -> 1 -> 0 -> 0 -> 0]\n"
     ]
    }
   ],
   "source": [
    "random_stack = generate_randomized_stack()\n",
    "\n",
    "def sort_stack(unsorted_stack):\n",
    "    temp_node = None\n",
    "    sorted_stack = Stack()\n",
    "    temp_node = None\n",
    "    while not unsorted_stack.is_empty():\n",
    "        temp_node = unsorted_stack.pop()\n",
    "        \n",
    "        if (sorted_stack.linked_list.head == None):\n",
    "            pass\n",
    "        \n",
    "        elif (sorted_stack.linked_list.head.value > temp_node.value):\n",
    "            while sorted_stack.linked_list.head.value > temp_node.value:\n",
    "                sorted_stack_popped_node = sorted_stack.pop()\n",
    "                unsorted_stack.push(sorted_stack_popped_node.value)\n",
    "                if (sorted_stack.is_empty()):\n",
    "                    break\n",
    "        \n",
    "        sorted_stack.push(temp_node.value)\n",
    "        temp_node = None\n",
    "        \n",
    "    return sorted_stack\n",
    "    \n",
    "print(random_stack)\n",
    "sorted_stack = sort_stack(random_stack)\n",
    "print(sorted_stack)"
   ]
  },
  {
   "cell_type": "markdown",
   "metadata": {},
   "source": [
    "**3.7** An animal shelter holds only dogs and cats, and operates on strictly \"first in, first out\" basis. People must adopt either the \"oldest\" (based on arrival time) of all animals at the shelter, or they can select whether they would prefer a dog or cat (and will receive the oldest animal of that type). They cannot select which specific animal they would like. Create the data structures to maintain this system and implement operations such as enqueue, dequeueAny, dequeueDog and dequeueCat. You may use the build-in LinkedList data structure."
   ]
  },
  {
   "cell_type": "code",
   "execution_count": 164,
   "metadata": {},
   "outputs": [],
   "source": [
    "class Animal(object):\n",
    "    def __init__(self, name):\n",
    "        self.name = name\n",
    "        \n",
    "class Dog(Animal):\n",
    "    def __str__(self):\n",
    "        return \"You received a dog named \" + self.name\n",
    "    \n",
    "class Cat(Animal):\n",
    "    def __str__(self):\n",
    "        return \"You received a cat named \" + self.name\n"
   ]
  },
  {
   "cell_type": "code",
   "execution_count": 171,
   "metadata": {},
   "outputs": [
    {
     "name": "stdout",
     "output_type": "stream",
     "text": [
      "You received a dog named Elvis\n",
      "You received a dog named Buster\n",
      "You received a cat named Eve\n",
      "Dogs: [Fido]\n",
      "Cats: [Falaffal, Garfield]\n"
     ]
    }
   ],
   "source": [
    "class AnimalShelter(object):\n",
    "    \n",
    "    def __init__(self):\n",
    "        self.dogs = Queue()\n",
    "        self.cats = Queue()\n",
    "    \n",
    "    def enqueue(self, animal):\n",
    "        if (isinstance(animal, Dog)):\n",
    "            self.dogs.enqueue(animal)\n",
    "        elif (isinstance(animal, Cat)):\n",
    "            self.cats.enqueue(animal)\n",
    "        \n",
    "    def dequeueAny(self):\n",
    "        rand = randint(0,1)\n",
    "        if (rand == 0):\n",
    "            return self.dequeueDog()\n",
    "        else:\n",
    "            return self.dequeueCat()\n",
    "        \n",
    "    def dequeueDog(self):\n",
    "        return self.dogs.dequeue()\n",
    "    \n",
    "    def dequeueCat(self):\n",
    "        return self.cats.dequeue()\n",
    "    \n",
    "    def __str__(self):\n",
    "        dog_description = self.list_description(self.dogs)\n",
    "        cat_description = self.list_description(self.cats)\n",
    "        return \"Dogs: \" + dog_description + \"\\nCats: \" + cat_description + \"\"\n",
    "    \n",
    "    def list_description(self, list):\n",
    "        string = \"\"\n",
    "        current_node = list.linked_list.head\n",
    "        while (current_node != None):\n",
    "            \n",
    "            string += str(current_node.value.name)\n",
    "                \n",
    "            current_node = current_node.next\n",
    "            if (current_node != None):\n",
    "                string += \", \"\n",
    "\n",
    "        string = \"[\"+string+\"]\"\n",
    "#         print(string)\n",
    "        return string\n",
    "    \n",
    "animal_shelter = AnimalShelter()\n",
    "dog_1 = Dog(\"Elvis\")\n",
    "dog_2 = Dog(\"Buster\")\n",
    "dog_3 = Dog(\"Fido\")\n",
    "cat_1 = Cat(\"Eve\")\n",
    "cat_2 = Cat(\"Falaffal\")\n",
    "cat_3 = Cat(\"Garfield\")\n",
    "animal_shelter.enqueue(dog_1)\n",
    "animal_shelter.enqueue(dog_2)\n",
    "animal_shelter.enqueue(dog_3)\n",
    "animal_shelter.enqueue(cat_1)\n",
    "animal_shelter.enqueue(cat_2)\n",
    "animal_shelter.enqueue(cat_3)\n",
    "print(animal_shelter.dequeueAny().value)\n",
    "print(animal_shelter.dequeueDog().value)\n",
    "print(animal_shelter.dequeueCat().value)\n",
    "print(animal_shelter)\n"
   ]
  },
  {
   "cell_type": "markdown",
   "metadata": {},
   "source": [
    "## Unit Testing Chapter 3 Questions"
   ]
  },
  {
   "cell_type": "code",
   "execution_count": 173,
   "metadata": {},
   "outputs": [
    {
     "name": "stderr",
     "output_type": "stream",
     "text": [
      ".E....\n",
      "======================================================================\n",
      "ERROR: test_3_3 (__main__.TestCrackingCodeChapter3Questions)\n",
      "----------------------------------------------------------------------\n",
      "Traceback (most recent call last):\n",
      "  File \"<ipython-input-173-3e7a44c87467>\", line 21, in test_3_3\n",
      "    set_of_stacks.push(3)\n",
      "  File \"<ipython-input-162-a6ca7cc54dd4>\", line 8, in push\n",
      "    if (self.linked_list.head == None or self.linked_list.head.value.node_count == self.stack_limit):\n",
      "AttributeError: 'Stack' object has no attribute 'node_count'\n",
      "\n",
      "----------------------------------------------------------------------\n",
      "Ran 6 tests in 0.011s\n",
      "\n",
      "FAILED (errors=1)\n"
     ]
    },
    {
     "data": {
      "text/plain": [
       "<unittest.runner.TextTestResult run=6 errors=1 failures=0>"
      ]
     },
     "execution_count": 173,
     "metadata": {},
     "output_type": "execute_result"
    }
   ],
   "source": [
    "class TestCrackingCodeChapter3Questions(unittest.TestCase):\n",
    "    \n",
    "    def setUp(self):\n",
    "        return\n",
    "    \n",
    "    def tearDown(self):\n",
    "        return\n",
    "    \n",
    "    def test_3_2(self):\n",
    "        min_stack = MinStack()\n",
    "        min_stack.push(3)\n",
    "        min_stack.push(4)\n",
    "        min_stack.push(2)\n",
    "        min_stack.push(1)\n",
    "        min_stack.push(5)\n",
    "        self.assertEqual(min_stack.get_min_node().value, 1)\n",
    "        \n",
    "    def test_3_3(self):\n",
    "        set_of_stacks = SetOfStacks(5);\n",
    "        set_of_stacks.push(7)\n",
    "        set_of_stacks.push(3)\n",
    "        set_of_stacks.push(6)\n",
    "        set_of_stacks.push(7)\n",
    "        set_of_stacks.push(3)\n",
    "        set_of_stacks.push(2)\n",
    "        set_of_stacks.push(3)\n",
    "        set_of_stacks.push(4)\n",
    "        set_of_stacks.push(8)\n",
    "        set_of_stacks.push(1)\n",
    "        set_of_stacks.push(3)\n",
    "        set_of_stacks.push(5)\n",
    "        set_of_stacks.push(7)\n",
    "        set_of_stacks.push(2)\n",
    "        set_of_stacks.push(9)\n",
    "        set_of_stacks.pop()\n",
    "        set_of_stacks.pop()\n",
    "        self.assertEqual(\"{}\".format(set_of_stacks), \"[[7 <-> 5 <-> 3] <-> [1 <-> 8 <-> 4 <-> 3 <-> 2] <-> [3 <-> 7 <-> 6 <-> 3 <-> 7]]\")\n",
    "        self.assertEqual(set_of_stacks.popAt(2).value, 3)\n",
    "        self.assertEqual(\"{}\".format(set_of_stacks), \"[[7 <-> 5] <-> [3 <-> 1 <-> 8 <-> 4 <-> 3] <-> [2 <-> 7 <-> 6 <-> 3 <-> 7]]\")\n",
    "        \n",
    "        with self.assertRaises(Exception) as context: \n",
    "            set_of_stacks.popAt(100)\n",
    "        self.assertTrue('Out of bounds!' in str(context.exception))\n",
    "        \n",
    "      \n",
    "    def test_3_4(self):\n",
    "        tower_of_hanoi = TowerOfHanoi(6)\n",
    "        tower_of_hanoi.solve()\n",
    "        self.assertEqual(tower_of_hanoi.target[0], [1, 2, 3, 4, 5, 6])\n",
    "    \n",
    "    def test_3_5(self):\n",
    "        my_queue = MyQueue();\n",
    "        my_queue.enqueue(7)\n",
    "        my_queue.enqueue(5)\n",
    "        my_queue.enqueue(9)\n",
    "        my_queue.enqueue(3)\n",
    "        self.assertEqual(my_queue.dequeue().value, 7)\n",
    "        self.assertEqual(my_queue.dequeue().value, 5)\n",
    "        \n",
    "    def test_3_6(self):\n",
    "        random_stack = generate_randomized_stack()\n",
    "        sorted_stack = sort_stack(random_stack)\n",
    "        \n",
    "        current_node = sorted_stack.linked_list.head\n",
    "        while (current_node.next != None):\n",
    "            self.assertTrue(current_node.value >= current_node.next.value)\n",
    "            current_node = current_node.next\n",
    "        \n",
    "    \n",
    "    def test_3_7(self):\n",
    "        animal_shelter = AnimalShelter()\n",
    "        dog_1 = Dog(\"Elvis\")\n",
    "        dog_2 = Dog(\"Buster\")\n",
    "        dog_3 = Dog(\"Fido\")\n",
    "        cat_1 = Cat(\"Eve\")\n",
    "        cat_2 = Cat(\"Falaffal\")\n",
    "        cat_3 = Cat(\"Garfield\")\n",
    "        \n",
    "        animal_shelter.enqueue(dog_1)\n",
    "        animal_shelter.enqueue(dog_2)\n",
    "        animal_shelter.enqueue(dog_3)\n",
    "        animal_shelter.enqueue(cat_1)\n",
    "        animal_shelter.enqueue(cat_2)\n",
    "        animal_shelter.enqueue(cat_3)\n",
    "        \n",
    "        self.assertEqual(animal_shelter.dequeueDog().value, dog_1)\n",
    "        self.assertEqual(animal_shelter.dequeueCat().value, cat_1)\n",
    "    \n",
    "        random_animal = animal_shelter.dequeueAny().value\n",
    "        \n",
    "        if (isinstance(random_animal, Dog)):\n",
    "            self.assertEqual(random_animal, dog_2)\n",
    "        else:\n",
    "            self.assertEqual(random_animal, cat_2)   \n",
    "        \n",
    "        \n",
    "suite = unittest.TestLoader().loadTestsFromModule(TestCrackingCodeChapter3Questions())\n",
    "unittest.TextTestRunner().run(suite)"
   ]
  },
  {
   "cell_type": "markdown",
   "metadata": {
    "collapsed": true
   },
   "source": [
    "### Chapter 4 - Trees and Graphs"
   ]
  },
  {
   "cell_type": "markdown",
   "metadata": {},
   "source": [
    "**4.1** Implement a function to check if a binary tree is balanced. For the purposes of this question, a balanced tree is defined to be a tree such that the heights of the two subtrees of any node never differ by more than one."
   ]
  },
  {
   "cell_type": "code",
   "execution_count": 81,
   "metadata": {},
   "outputs": [
    {
     "name": "stdout",
     "output_type": "stream",
     "text": [
      "False\n",
      "True\n"
     ]
    }
   ],
   "source": [
    "# Assumption: Should ask if we are checking a tree upon insert, or at anytime\n",
    "\n",
    "# Solution from book assumes to check a potentially unbalanced tree\n",
    "def get_height(node):\n",
    "    if node == None:\n",
    "        return -1\n",
    "    return max(get_height(node.left), get_height(node.right)) + 1\n",
    "\n",
    "def is_balanced(node):\n",
    "    balance_factor = get_height(node.left) - get_height(node.right)\n",
    "    return balance_factor < 2 and balance_factor > -2\n",
    "\n",
    "unbalanced_tree = BinarySearchTree()\n",
    "unbalanced_tree.insert(50)\n",
    "unbalanced_tree.insert(75)\n",
    "unbalanced_tree.insert(25)\n",
    "unbalanced_tree.insert(37)\n",
    "unbalanced_tree.insert(40)\n",
    "print(is_balanced(unbalanced_tree.root))\n",
    "\n",
    "balanced_tree = AVLTree()\n",
    "for counter in range(0, 15):\n",
    "    balanced_tree.insert(counter)\n",
    "print(is_balanced(balanced_tree.root))"
   ]
  },
  {
   "cell_type": "markdown",
   "metadata": {},
   "source": [
    "**4.2** Given a directed graph, design an algorithm to find out whether there is a route between two nodes."
   ]
  },
  {
   "cell_type": "code",
   "execution_count": 88,
   "metadata": {},
   "outputs": [
    {
     "name": "stdout",
     "output_type": "stream",
     "text": [
      "True\n",
      "False\n"
     ]
    }
   ],
   "source": [
    "graph = GraphAdjacencyList()\n",
    "a = graph.create_vertex(\"A\")\n",
    "b = graph.create_vertex(\"B\")\n",
    "c = graph.create_vertex(\"C\")\n",
    "d = graph.create_vertex(\"D\")\n",
    "e = graph.create_vertex(\"E\")\n",
    "f = graph.create_vertex(\"F\")\n",
    "g = graph.create_vertex(\"G\")\n",
    "h = graph.create_vertex(\"H\")\n",
    "i = graph.create_vertex(\"I\") # not reachable\n",
    "\n",
    "graph.add(EdgeType.UNDIRECTED, a, d)\n",
    "graph.add(EdgeType.UNDIRECTED, a, b)\n",
    "graph.add(EdgeType.UNDIRECTED, b, e)\n",
    "graph.add(EdgeType.UNDIRECTED, e, h)\n",
    "graph.add(EdgeType.UNDIRECTED, e, f)\n",
    "graph.add(EdgeType.UNDIRECTED, f, g)\n",
    "graph.add(EdgeType.UNDIRECTED, f, c)\n",
    "graph.add(EdgeType.UNDIRECTED, g, c)\n",
    "graph.add(EdgeType.UNDIRECTED, c, a)\n",
    "\n",
    "def has_route(source, target):\n",
    "    reachable_nodes = []\n",
    "    visit = lambda x: reachable_nodes.append(x)\n",
    "    graph.depth_first_search(a, visit)\n",
    "    return target in reachable_nodes\n",
    "\n",
    "print(has_route(a, c))\n",
    "print(has_route(a, i))"
   ]
  },
  {
   "cell_type": "markdown",
   "metadata": {},
   "source": [
    "**4.3** Given a sorted (increasing order) array with unique integer elements, write an algorithm to create a binary search tree with minimal height."
   ]
  },
  {
   "cell_type": "code",
   "execution_count": null,
   "metadata": {},
   "outputs": [],
   "source": []
  },
  {
   "cell_type": "markdown",
   "metadata": {},
   "source": [
    "**4.4** Given a binary tree, design an algorithm which creates a linked list of all the nodes at each depth (e.g. if you have a tree with depth D, you'll have D linked lists)."
   ]
  },
  {
   "cell_type": "code",
   "execution_count": null,
   "metadata": {},
   "outputs": [],
   "source": []
  },
  {
   "cell_type": "markdown",
   "metadata": {},
   "source": [
    "**4.5** Implement a funciton to check if a binary tree is a binary search tree."
   ]
  },
  {
   "cell_type": "code",
   "execution_count": null,
   "metadata": {},
   "outputs": [],
   "source": []
  },
  {
   "cell_type": "markdown",
   "metadata": {},
   "source": [
    "**4.6** Write an algorithm to find the 'next' node (i.e., in-order successor) of a given node in a binary search tree. You may assume that each node has a link to its parent."
   ]
  },
  {
   "cell_type": "code",
   "execution_count": null,
   "metadata": {},
   "outputs": [],
   "source": []
  },
  {
   "cell_type": "markdown",
   "metadata": {},
   "source": [
    "**4.7** Design an algorithm and write code to find the first common ancestor of two nodes in a binary tree. Avoid storing additional nodes in a data structure. NOTE: THis is not necessarily a binary seach tree."
   ]
  },
  {
   "cell_type": "code",
   "execution_count": null,
   "metadata": {},
   "outputs": [],
   "source": []
  },
  {
   "cell_type": "markdown",
   "metadata": {},
   "source": [
    "**4.8** You have two very large binary trees: T1, with millions of nodes, and T2, with hundres of nodes. Create an algorithm to decide if T2 is a subtree of T1.\n",
    "\n",
    "A tree T2 is a subtree of T1 if there exists a node n in T1 such that the subtree of n is identical to T2. That is, if you cut off the tree at node n, the two trees would be identical."
   ]
  },
  {
   "cell_type": "code",
   "execution_count": null,
   "metadata": {},
   "outputs": [],
   "source": []
  },
  {
   "cell_type": "markdown",
   "metadata": {},
   "source": [
    "**4.9** You are given a binary tree in which each node contains a value. Design an algorithm to print all paths which sum to a given value. The path does not need to start or end at the root or a leaf, but it must go in a straight line down."
   ]
  },
  {
   "cell_type": "code",
   "execution_count": null,
   "metadata": {},
   "outputs": [],
   "source": []
  },
  {
   "cell_type": "markdown",
   "metadata": {},
   "source": [
    "## Unit Testing Chapter 4 Questions"
   ]
  },
  {
   "cell_type": "code",
   "execution_count": 25,
   "metadata": {},
   "outputs": [
    {
     "name": "stderr",
     "output_type": "stream",
     "text": [
      ".........\n",
      "----------------------------------------------------------------------\n",
      "Ran 9 tests in 0.013s\n",
      "\n",
      "OK\n"
     ]
    },
    {
     "data": {
      "text/plain": [
       "<unittest.runner.TextTestResult run=9 errors=0 failures=0>"
      ]
     },
     "execution_count": 25,
     "metadata": {},
     "output_type": "execute_result"
    }
   ],
   "source": [
    "class TestCrackingCodeChapter4Questions(unittest.TestCase):\n",
    "    \n",
    "    def setUp(self):\n",
    "        pass\n",
    "    \n",
    "    def tearDown(self):\n",
    "        pass\n",
    "    \n",
    "    def test_4_1(self):\n",
    "        pass\n",
    "    \n",
    "    def test_4_2(self):\n",
    "        pass\n",
    "    \n",
    "    def test_4_3(self):\n",
    "        pass\n",
    "    \n",
    "    def test_4_4(self):\n",
    "        pass\n",
    "    \n",
    "    def test_4_5(self):\n",
    "        pass\n",
    "    \n",
    "    def test_4_6(self):\n",
    "        pass\n",
    "    \n",
    "    def test_4_7(self):\n",
    "        pass\n",
    "    \n",
    "    def test_4_8(self):\n",
    "        pass\n",
    "    \n",
    "    def test_4_9(self):\n",
    "        pass\n",
    "        \n",
    "     \n",
    "        \n",
    "        \n",
    "suite = unittest.TestLoader().loadTestsFromModule(TestCrackingCodeChapter4Questions())\n",
    "unittest.TextTestRunner().run(suite)"
   ]
  }
 ],
 "metadata": {
  "kernelspec": {
   "display_name": "Python 3",
   "language": "python",
   "name": "python3"
  },
  "language_info": {
   "codemirror_mode": {
    "name": "ipython",
    "version": 3
   },
   "file_extension": ".py",
   "mimetype": "text/x-python",
   "name": "python",
   "nbconvert_exporter": "python",
   "pygments_lexer": "ipython3",
   "version": "3.7.1"
  }
 },
 "nbformat": 4,
 "nbformat_minor": 1
}
