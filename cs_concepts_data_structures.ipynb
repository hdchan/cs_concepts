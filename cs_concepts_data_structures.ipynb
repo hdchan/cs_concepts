{
 "cells": [
  {
   "cell_type": "markdown",
   "metadata": {},
   "source": [
    "# Data Structures\n",
    "\n",
    "### A Node"
   ]
  },
  {
   "cell_type": "code",
   "execution_count": 138,
   "metadata": {
    "collapsed": false
   },
   "outputs": [],
   "source": [
    "class Node(object):\n",
    "    \n",
    "    def __init__(self, value):\n",
    "        self.value = value\n",
    "        self.next_node = None\n",
    "        self.previous_node = None\n",
    "        \n",
    "    def append_node(self, node):\n",
    "        self.next_node = node\n",
    "        self.next_node.previous_node = self"
   ]
  },
  {
   "cell_type": "markdown",
   "metadata": {},
   "source": [
    "### Stacks\n",
    "\n",
    "LIFO"
   ]
  },
  {
   "cell_type": "code",
   "execution_count": 182,
   "metadata": {
    "collapsed": false
   },
   "outputs": [],
   "source": [
    "class Stack(object):\n",
    "    \n",
    "    def __init__(self):\n",
    "        self.head_node = None\n",
    "        self.tail_node = None\n",
    "        self.node_count = 0\n",
    "        \n",
    "    def push(self, value):\n",
    "        new_node = Node(value)\n",
    "        \n",
    "        if (self.head_node == None):\n",
    "            self.head_node = new_node\n",
    "            self.tail_node = new_node\n",
    "        else:\n",
    "            self.tail_node.append_node(new_node)\n",
    "            self.tail_node = new_node\n",
    "        \n",
    "        self.node_count += 1\n",
    "        \n",
    "    def pop(self):\n",
    "        if (self.node_count == 0):\n",
    "            raise Exception(\"nothing to pop!\")\n",
    "        \n",
    "        if (self.head_node == self.tail_node):\n",
    "            self.head_node = None\n",
    "            self.tail_node = None\n",
    "        else:\n",
    "            self.tail_node = self.tail_node.previous_node\n",
    "            self.tail_node.next_node = None\n",
    "            \n",
    "        self.node_count -= 1\n",
    "            \n",
    "    \n",
    "    def node_at_index(self, idx):\n",
    "        if (self.node_count == 0):\n",
    "            raise Exception(\"nothing in here\")\n",
    "        current_node = self.head_node\n",
    "        counter = 0\n",
    "        if (counter == idx): \n",
    "            return current_node\n",
    "    \n",
    "        while (current_node.next_node != None):\n",
    "            current_node = current_node.next_node\n",
    "            counter += 1\n",
    "            if (counter == idx):\n",
    "                return current_node\n",
    "            \n",
    "        raise Exception(\"index {} out of bounds\".format(idx)) \n",
    "    \n",
    "    def description(self):\n",
    "        return None   "
   ]
  },
  {
   "cell_type": "markdown",
   "metadata": {},
   "source": [
    "### Testing our Stack"
   ]
  },
  {
   "cell_type": "code",
   "execution_count": 183,
   "metadata": {
    "collapsed": false
   },
   "outputs": [
    {
     "name": "stderr",
     "output_type": "stream",
     "text": [
      "....\n",
      "----------------------------------------------------------------------\n",
      "Ran 4 tests in 0.005s\n",
      "\n",
      "OK\n"
     ]
    },
    {
     "data": {
      "text/plain": [
       "<unittest.runner.TextTestResult run=4 errors=0 failures=0>"
      ]
     },
     "execution_count": 183,
     "metadata": {},
     "output_type": "execute_result"
    }
   ],
   "source": [
    "import unittest\n",
    "\n",
    "class Test_Stack(unittest.TestCase):\n",
    "    \n",
    "    def setUp(self):\n",
    "        self.stack = Stack()\n",
    "    \n",
    "    def push_test_values(self):\n",
    "        self.stack.push(1)\n",
    "        self.stack.push(2)\n",
    "        self.stack.push(3)\n",
    "    \n",
    "    def test_initializer(self):\n",
    "        self.assertEqual(self.stack.node_count, 0)\n",
    "        \n",
    "    def test_push(self):\n",
    "        self.push_test_values()\n",
    "        self.assertEqual(self.stack.node_count, 3)\n",
    "    \n",
    "    def test_pop(self):\n",
    "        self.push_test_values()\n",
    "        self.stack.pop()\n",
    "        self.assertEqual(self.stack.node_count, 2)\n",
    "        self.stack.pop()\n",
    "        self.stack.pop()\n",
    "        self.assertEqual(self.stack.node_count, 0)\n",
    "    \n",
    "    def test_node_at_index(self):\n",
    "        self.push_test_values()\n",
    "        self.assertEqual(self.stack.node_at_index(1).value, 2)\n",
    "    \n",
    "suite = unittest.TestLoader().loadTestsFromModule(Test_Stack())\n",
    "unittest.TextTestRunner().run(suite)"
   ]
  },
  {
   "cell_type": "markdown",
   "metadata": {},
   "source": [
    "### Queues\n",
    "\n",
    "Similar to stacks except FIFO"
   ]
  },
  {
   "cell_type": "code",
   "execution_count": 184,
   "metadata": {
    "collapsed": true
   },
   "outputs": [],
   "source": [
    "class Queue(object):\n",
    "    \n",
    "    def __init__(self):\n",
    "        self.head_node = None\n",
    "        self.tail_node = None\n",
    "        self.node_count = 0\n",
    "        \n",
    "    def enqueue(self, value):\n",
    "        new_node = Node(value)\n",
    "        \n",
    "        if (self.head_node == None):\n",
    "            self.head_node = new_node\n",
    "            self.tail_node = new_node\n",
    "        else:\n",
    "            self.tail_node.append_node(new_node)\n",
    "            self.tail_node = new_node\n",
    "        \n",
    "        self.node_count += 1\n",
    "        \n",
    "    def dequeue(self):\n",
    "        if (self.node_count == 0):\n",
    "            raise Exception(\"nothing to dequeue!\")\n",
    "            \n",
    "        dequeued_node = self.head_node\n",
    "        self.head_node = dequeued_node.next_node\n",
    "        if (self.head_node != None):\n",
    "            self.head_node.previous_node = None\n",
    "        self.node_count -= 1\n",
    "        return dequeued_node\n",
    "        \n",
    "    def node_at_index(self, idx):\n",
    "        if (self.node_count == 0):\n",
    "            raise Exception(\"nothing in here\")\n",
    "        current_node = self.head_node\n",
    "        counter = 0\n",
    "        if (counter == idx): \n",
    "            return current_node\n",
    "    \n",
    "        while (current_node.next_node != None):\n",
    "            current_node = current_node.next_node\n",
    "            counter += 1\n",
    "            if (counter == idx):\n",
    "                return current_node\n",
    "            \n",
    "        raise Exception(\"index {} out of bounds\".format(idx)) \n",
    "    \n",
    "    def description(self):\n",
    "        return None   "
   ]
  },
  {
   "cell_type": "code",
   "execution_count": 185,
   "metadata": {
    "collapsed": false
   },
   "outputs": [
    {
     "name": "stderr",
     "output_type": "stream",
     "text": [
      "....\n",
      "----------------------------------------------------------------------\n",
      "Ran 4 tests in 0.004s\n",
      "\n",
      "OK\n"
     ]
    },
    {
     "data": {
      "text/plain": [
       "<unittest.runner.TextTestResult run=4 errors=0 failures=0>"
      ]
     },
     "execution_count": 185,
     "metadata": {},
     "output_type": "execute_result"
    }
   ],
   "source": [
    "class Test_Queue(unittest.TestCase):\n",
    "    \n",
    "    def setUp(self):\n",
    "        self.queue = Queue()\n",
    "    \n",
    "    def enqueue_test_values(self):\n",
    "        self.queue.enqueue(1)\n",
    "        self.queue.enqueue(2)\n",
    "        self.queue.enqueue(3)\n",
    "    \n",
    "    def test_initializer(self):\n",
    "        self.assertEqual(self.queue.node_count, 0)\n",
    "        \n",
    "    def test_enqueue(self):\n",
    "        self.enqueue_test_values()\n",
    "        self.assertEqual(self.queue.node_count, 3)\n",
    "    \n",
    "    def test_dequeue(self):\n",
    "        self.enqueue_test_values()\n",
    "        self.assertEqual(self.queue.dequeue().value, 1)\n",
    "        self.assertEqual(self.queue.dequeue().value, 2)\n",
    "        self.assertEqual(self.queue.dequeue().value, 3)\n",
    "        \n",
    "    def test_node_at_index(self):\n",
    "        self.enqueue_test_values()\n",
    "        self.assertEqual(self.queue.node_at_index(1).value, 2)\n",
    "        \n",
    "    \n",
    "suite = unittest.TestLoader().loadTestsFromModule(Test_Queue())\n",
    "unittest.TextTestRunner().run(suite)"
   ]
  },
  {
   "cell_type": "code",
   "execution_count": null,
   "metadata": {
    "collapsed": true
   },
   "outputs": [],
   "source": []
  }
 ],
 "metadata": {
  "kernelspec": {
   "display_name": "Python 3",
   "language": "python",
   "name": "python3"
  },
  "language_info": {
   "codemirror_mode": {
    "name": "ipython",
    "version": 3
   },
   "file_extension": ".py",
   "mimetype": "text/x-python",
   "name": "python",
   "nbconvert_exporter": "python",
   "pygments_lexer": "ipython3",
   "version": "3.5.2"
  }
 },
 "nbformat": 4,
 "nbformat_minor": 1
}
