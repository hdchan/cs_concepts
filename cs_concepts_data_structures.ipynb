{
 "cells": [
  {
   "cell_type": "markdown",
   "metadata": {},
   "source": [
    "# Data Structures\n",
    "\n",
    "### A Node"
   ]
  },
  {
   "cell_type": "code",
   "execution_count": 308,
   "metadata": {
    "collapsed": false
   },
   "outputs": [],
   "source": [
    "class Node(object):\n",
    "    \n",
    "    def __init__(self, value):\n",
    "        self.value = value\n",
    "        self.next_node = None\n",
    "        self.previous_node = None\n",
    "        \n",
    "    def append_node(self, node):\n",
    "        self.next_node = node\n",
    "        self.next_node.previous_node = self"
   ]
  },
  {
   "cell_type": "markdown",
   "metadata": {},
   "source": [
    "### Linked List Parent"
   ]
  },
  {
   "cell_type": "code",
   "execution_count": 309,
   "metadata": {
    "collapsed": true
   },
   "outputs": [],
   "source": [
    "class LinkedListBase(object):\n",
    "    \n",
    "    def __init__(self):\n",
    "        self.head_node = None\n",
    "        self.tail_node = None\n",
    "        self.node_count = 0\n",
    "    \n",
    "    def node_at_index(self, idx):\n",
    "        if (self.node_count == 0):\n",
    "            raise Exception(\"List is empty.\")\n",
    "        current_node = self.head_node\n",
    "        counter = 0\n",
    "        if (counter == idx): \n",
    "            return current_node\n",
    "    \n",
    "        while (current_node.next_node != None):\n",
    "            current_node = current_node.next_node\n",
    "            counter += 1\n",
    "            if (counter == idx):\n",
    "                return current_node\n",
    "            \n",
    "        raise Exception(\"Index {} out of bounds\".format(idx))\n",
    "        \n",
    "    def is_empty(self):\n",
    "        return self.node_count == 0\n",
    "    \n",
    "    def __str__(self):\n",
    "        string = \"\"\n",
    "        current_node = self.head_node\n",
    "        while (current_node != None):\n",
    "            string += str(current_node.value)\n",
    "            current_node = current_node.next_node\n",
    "            if (current_node != None):\n",
    "                string += \", \"\n",
    "\n",
    "        string = \"[\"+string+\"]\"\n",
    "#         print(string)\n",
    "        return string  "
   ]
  },
  {
   "cell_type": "markdown",
   "metadata": {},
   "source": [
    "### Stacks\n",
    "\n",
    "LIFO"
   ]
  },
  {
   "cell_type": "code",
   "execution_count": 310,
   "metadata": {
    "collapsed": false
   },
   "outputs": [],
   "source": [
    "class Stack(LinkedListBase):\n",
    "    \n",
    "    def push(self, value):\n",
    "        new_node = None\n",
    "        if (isinstance(value, Node)):\n",
    "            new_node = value\n",
    "        else:\n",
    "            new_node = Node(value)\n",
    "        \n",
    "        \n",
    "        if (self.head_node == None):\n",
    "            self.head_node = new_node\n",
    "            self.tail_node = new_node\n",
    "        else:\n",
    "            new_node.append_node(self.head_node)\n",
    "            self.head_node = new_node\n",
    "        \n",
    "        self.node_count += 1\n",
    "        \n",
    "    def pop(self):\n",
    "        if (self.node_count == 0):\n",
    "            raise Exception(\"There's nothing to pop!\")\n",
    "        \n",
    "        popped_node = None\n",
    "        \n",
    "        if (self.head_node == self.tail_node):\n",
    "            popped_node = self.head_node\n",
    "            self.head_node = None\n",
    "            self.tail_node = None\n",
    "        else:\n",
    "            popped_node = self.head_node\n",
    "            self.head_node = self.head_node.next_node\n",
    "            self.head_node.previous_node = None\n",
    "            \n",
    "        self.node_count -= 1\n",
    "        \n",
    "        popped_node.next_node = None\n",
    "        popped_node.previous_node = None\n",
    "        \n",
    "        return popped_node\n",
    "    \n",
    "    def peek(self):\n",
    "        return self.head_node\n",
    "    \n",
    "    \n",
    "     "
   ]
  },
  {
   "cell_type": "markdown",
   "metadata": {},
   "source": [
    "### Testing our Stack"
   ]
  },
  {
   "cell_type": "code",
   "execution_count": 311,
   "metadata": {
    "collapsed": false
   },
   "outputs": [
    {
     "name": "stderr",
     "output_type": "stream",
     "text": [
      "......\n",
      "----------------------------------------------------------------------\n",
      "Ran 6 tests in 0.012s\n",
      "\n",
      "OK\n"
     ]
    },
    {
     "data": {
      "text/plain": [
       "<unittest.runner.TextTestResult run=6 errors=0 failures=0>"
      ]
     },
     "execution_count": 311,
     "metadata": {},
     "output_type": "execute_result"
    }
   ],
   "source": [
    "import unittest\n",
    "\n",
    "class TestStack(unittest.TestCase):\n",
    "    \n",
    "    def setUp(self):\n",
    "        self.stack = Stack()\n",
    "    \n",
    "    def tearDown(self):\n",
    "        self.stack = None\n",
    "    \n",
    "    def push_test_values(self):\n",
    "        self.stack.push(1)\n",
    "        self.stack.push(2)\n",
    "        self.stack.push(3)\n",
    "    \n",
    "    def test_initializer(self):\n",
    "        self.assertEqual(self.stack.node_count, 0)\n",
    "        \n",
    "    def test_push(self):\n",
    "        self.push_test_values()\n",
    "        self.assertEqual(self.stack.node_count, 3)\n",
    "        self.assertEqual(self.stack.head_node.value, 3)\n",
    "        self.stack.push(4)\n",
    "        self.assertEqual(self.stack.head_node.value, 4)\n",
    "    \n",
    "    def test_pop(self):\n",
    "        self.push_test_values()\n",
    "        self.stack.pop()\n",
    "        self.assertEqual(self.stack.node_count, 2)\n",
    "        self.assertEqual(self.stack.head_node.value, 2)\n",
    "        self.stack.pop()\n",
    "        self.assertEqual(self.stack.head_node.value, 1)\n",
    "        self.stack.pop()\n",
    "        self.assertEqual(self.stack.node_count, 0)\n",
    "    \n",
    "    def test_node_at_index(self):\n",
    "        self.push_test_values()\n",
    "        self.assertEqual(self.stack.node_at_index(1).value, 2)\n",
    "        \n",
    "    def test_is_empty(self):\n",
    "        self.assertTrue(self.stack.is_empty())\n",
    "        self.push_test_values()\n",
    "        self.assertFalse(self.stack.is_empty())\n",
    "        \n",
    "    def test_description(self):\n",
    "        self.push_test_values()\n",
    "        self.assertEqual(\"{}\".format(self.stack), \"[3, 2, 1]\")\n",
    "    \n",
    "suite = unittest.TestLoader().loadTestsFromModule(TestStack())\n",
    "unittest.TextTestRunner().run(suite)"
   ]
  },
  {
   "cell_type": "markdown",
   "metadata": {},
   "source": [
    "### Queues\n",
    "\n",
    "Similar to stacks except FIFO"
   ]
  },
  {
   "cell_type": "code",
   "execution_count": 312,
   "metadata": {
    "collapsed": true
   },
   "outputs": [],
   "source": [
    "class Queue(LinkedListBase):\n",
    "            \n",
    "    def enqueue(self, value):\n",
    "        new_node = Node(value)\n",
    "        \n",
    "        if (self.head_node == None):\n",
    "            self.head_node = new_node\n",
    "            self.tail_node = new_node\n",
    "        else:\n",
    "            self.tail_node.append_node(new_node)\n",
    "            self.tail_node = new_node\n",
    "        \n",
    "        self.node_count += 1\n",
    "        \n",
    "    def dequeue(self):\n",
    "        if (self.node_count == 0):\n",
    "            raise Exception(\"There's nothing to dequeue!\")\n",
    "            \n",
    "        dequeued_node = self.head_node\n",
    "        self.head_node = dequeued_node.next_node\n",
    "        if (self.head_node != None):\n",
    "            self.head_node.previous_node = None\n",
    "        self.node_count -= 1\n",
    "        return dequeued_node\n",
    "        "
   ]
  },
  {
   "cell_type": "markdown",
   "metadata": {},
   "source": [
    "### Testing our Queue"
   ]
  },
  {
   "cell_type": "code",
   "execution_count": 313,
   "metadata": {
    "collapsed": false
   },
   "outputs": [
    {
     "name": "stderr",
     "output_type": "stream",
     "text": [
      "......\n",
      "----------------------------------------------------------------------\n",
      "Ran 6 tests in 0.008s\n",
      "\n",
      "OK\n"
     ]
    },
    {
     "data": {
      "text/plain": [
       "<unittest.runner.TextTestResult run=6 errors=0 failures=0>"
      ]
     },
     "execution_count": 313,
     "metadata": {},
     "output_type": "execute_result"
    }
   ],
   "source": [
    "class TestQueue(unittest.TestCase):\n",
    "    \n",
    "    def setUp(self):\n",
    "        self.queue = Queue()\n",
    "    \n",
    "    def enqueue_test_values(self):\n",
    "        self.queue.enqueue(1)\n",
    "        self.queue.enqueue(2)\n",
    "        self.queue.enqueue(3)\n",
    "    \n",
    "    def test_initializer(self):\n",
    "        self.assertEqual(self.queue.node_count, 0)\n",
    "        \n",
    "    def test_enqueue(self):\n",
    "        self.enqueue_test_values()\n",
    "        self.assertEqual(self.queue.node_count, 3)\n",
    "    \n",
    "    def test_dequeue(self):\n",
    "        self.enqueue_test_values()\n",
    "        self.assertEqual(self.queue.dequeue().value, 1)\n",
    "        self.assertEqual(self.queue.dequeue().value, 2)\n",
    "        self.assertEqual(self.queue.dequeue().value, 3)\n",
    "        \n",
    "    def test_node_at_index(self):\n",
    "        self.enqueue_test_values()\n",
    "        self.assertEqual(self.queue.node_at_index(1).value, 2)\n",
    "    \n",
    "    def test_is_empty(self):\n",
    "        self.assertTrue(self.queue.is_empty())\n",
    "        self.enqueue_test_values()\n",
    "        self.assertFalse(self.queue.is_empty())\n",
    "    \n",
    "    def test_description(self):\n",
    "        self.enqueue_test_values()\n",
    "        self.assertEqual(\"{}\".format(self.queue), \"[1, 2, 3]\")\n",
    "    \n",
    "suite = unittest.TestLoader().loadTestsFromModule(TestQueue())\n",
    "unittest.TextTestRunner().run(suite)"
   ]
  },
  {
   "cell_type": "markdown",
   "metadata": {},
   "source": [
    "## Cracking the Coding Interview"
   ]
  },
  {
   "cell_type": "code",
   "execution_count": 314,
   "metadata": {
    "collapsed": true
   },
   "outputs": [],
   "source": [
    "import random\n",
    "\n",
    "# Helper function\n",
    "def generate_randomized_stack(value_range=9, stack_size=10):\n",
    "    stack = Stack()\n",
    "    for i in range(stack_size):\n",
    "        random_int = random.randint(0, value_range)\n",
    "        stack.push(random_int)\n",
    "    return stack"
   ]
  },
  {
   "cell_type": "markdown",
   "metadata": {
    "collapsed": true
   },
   "source": [
    "**2.1** Write Code to remove duplicates from an unsorted linked list.<br> \n",
    "FOLLOW UP<br>\n",
    "How would you solve this problem if a temporary buffer is not allowed?"
   ]
  },
  {
   "cell_type": "code",
   "execution_count": 315,
   "metadata": {
    "collapsed": false
   },
   "outputs": [
    {
     "name": "stdout",
     "output_type": "stream",
     "text": [
      "Stack before: [5, 5, 6, 5, 6, 3, 2, 9, 7, 4]\n",
      "Stack after: [5, 6, 3, 2, 9, 7]\n"
     ]
    }
   ],
   "source": [
    "random_stack = generate_randomized_stack()\n",
    "print(\"Stack before: {}\".format(random_stack))\n",
    "\n",
    "def remove_duplicates_from_stack(stack):\n",
    "    current_node = stack.head_node\n",
    "    runner_node = None\n",
    "    while (current_node.next_node != None):\n",
    "        runner_node = current_node.next_node\n",
    "        while (runner_node.next_node != None):\n",
    "            if (runner_node.value == current_node.value):\n",
    "                runner_node.next_node.previous_node = runner_node.previous_node\n",
    "                runner_node.previous_node.next_node = runner_node.next_node\n",
    "                \n",
    "            runner_node = runner_node.next_node\n",
    "            \n",
    "        current_node = current_node.next_node\n",
    "        \n",
    "    if (runner_node.next_node == None):\n",
    "        # bug for the last duplicate item\n",
    "        # we'll handle this now here\n",
    "        if (runner_node.value == current_node.value):\n",
    "            runner_node.previous_node.next_node = None\n",
    "            runner_node.previous_node = None\n",
    "\n",
    "remove_duplicates_from_stack(random_stack)\n",
    "\n",
    "print(\"Stack after: {}\".format(random_stack))"
   ]
  },
  {
   "cell_type": "markdown",
   "metadata": {},
   "source": [
    "**2.2** Implement an algorithm to find the kth to last elemnt of a singly linked list."
   ]
  },
  {
   "cell_type": "code",
   "execution_count": 316,
   "metadata": {
    "collapsed": false
   },
   "outputs": [
    {
     "name": "stdout",
     "output_type": "stream",
     "text": [
      "[2, 1, 0, 1, 1, 9, 7, 9, 4, 3]\n",
      "4th position value: 7\n"
     ]
    }
   ],
   "source": [
    "# even though this stack is doubly linked\n",
    "# we'll pretend it is singly linked\n",
    "# and no size property\n",
    "random_stack = generate_randomized_stack()\n",
    "\n",
    "print(random_stack)\n",
    "\n",
    "def node_for_kth_to_last_index(stack, k):\n",
    "    runner_node = stack.head_node\n",
    "    for i in range(k-1):\n",
    "        runner_node = runner_node.next_node\n",
    "        \n",
    "    current_node = stack.head_node\n",
    "    stack_size = 1\n",
    "    while (runner_node.next_node != None):\n",
    "        stack_size += 1\n",
    "        current_node = current_node.next_node\n",
    "        runner_node = runner_node.next_node\n",
    "    \n",
    "    return current_node\n",
    "    \n",
    "    # O(2n) implementation\n",
    "#     index = stack_size - k\n",
    "    \n",
    "#     if (index < 0):\n",
    "#         raise Exception(\"to far left!\")\n",
    "#     else:\n",
    "#         counter = 0\n",
    "#         current_node = stack.head_node\n",
    "#         while (current_node.next_node != None):\n",
    "#             if (counter == index):\n",
    "#                 return current_node\n",
    "#             counter += 1\n",
    "#             current_node = current_node.next_node\n",
    "#     raise Exception(\"nothing found\")\n",
    "\n",
    "the_node = node_for_kth_to_last_index(random_stack, 4) # which means 4th to last, or 6th in a list of 10\n",
    "print(\"4th position value: {}\".format(the_node.value))"
   ]
  },
  {
   "cell_type": "markdown",
   "metadata": {
    "collapsed": true
   },
   "source": [
    "**2.3** Implement an algorithm to delete a node in the middle of a singly linked list, given only acess to that node.<br>\n",
    "EXAMPLE<br>\n",
    "Input: the code c from the linked list a → b → c → d → e<br>\n",
    "Result: nothing is returned, but the new linked list looks like a → b → c → d\n"
   ]
  },
  {
   "cell_type": "code",
   "execution_count": 317,
   "metadata": {
    "collapsed": false
   },
   "outputs": [
    {
     "name": "stdout",
     "output_type": "stream",
     "text": [
      "Stack before: [2, 2, 0, 4, 5, 2, 8, 8, 0]\n",
      "Stack after: [2, 2, 0, 4, 2, 8, 8, 0]\n"
     ]
    }
   ],
   "source": [
    "random_stack = generate_randomized_stack(stack_size=9)\n",
    "print(\"Stack before: {}\".format(random_stack))\n",
    "\n",
    "def get_middle_node(stack):\n",
    "    current_node = stack.head_node\n",
    "    counter = 0\n",
    "    while (current_node.next_node != None):\n",
    "        counter += 1\n",
    "        current_node = current_node.next_node\n",
    "    if (counter % 2 != 0):\n",
    "        raise Exception(\"There is even amount of items in list.\")\n",
    "    \n",
    "    return node_for_kth_to_last_index(stack, int(counter / 2) + 1)\n",
    "\n",
    "def remove_middle_node(stack):\n",
    "    middle_node = get_middle_node(stack)\n",
    "    middle_node.next_node.previous_node = middle_node.previous_node\n",
    "    middle_node.previous_node.next_node = middle_node.next_node\n",
    "    \n",
    "remove_middle_node(random_stack)\n",
    "print(\"Stack after: {}\".format(random_stack))\n"
   ]
  },
  {
   "cell_type": "markdown",
   "metadata": {},
   "source": [
    "**2.4** Write code to partition a linked list around a value x, such that all nodes less than x comes before all nodes greater than or equal to x."
   ]
  },
  {
   "cell_type": "code",
   "execution_count": 318,
   "metadata": {
    "collapsed": false
   },
   "outputs": [
    {
     "name": "stdout",
     "output_type": "stream",
     "text": [
      "Stack before: [8, 2, 2, 2, 5, 5, 5, 8, 3, 5]\n",
      "Stack after: [5, 3, 5, 5, 5, 2, 2, 2, 8, 8]\n"
     ]
    }
   ],
   "source": [
    "random_stack = generate_randomized_stack()\n",
    "print(\"Stack before: {}\".format(random_stack))\n",
    "\n",
    "def partition_stack_around_value(stack, pivot):\n",
    "    lower_stack = Stack()\n",
    "    higher_stack = Stack()\n",
    "    \n",
    "    current_node = stack.head_node\n",
    "    while(current_node != None):\n",
    "        if (current_node.value < pivot):\n",
    "            lower_stack.push(current_node.value)\n",
    "        else:\n",
    "            higher_stack.push(current_node.value)\n",
    "        current_node = current_node.next_node\n",
    "            \n",
    "    lower_stack.tail_node.append_node(higher_stack.head_node)\n",
    "    return lower_stack\n",
    "    \n",
    "partitioned_stack = partition_stack_around_value(random_stack, 6)\n",
    "print(\"Stack after: {}\".format(partitioned_stack))"
   ]
  },
  {
   "cell_type": "markdown",
   "metadata": {},
   "source": [
    "**2.5.** You have two numbers represented by a linked list, where each node contains a single digit. The digits are stored in reverse order, such that the 1's digit is at the head of the list. Write a function that adds the two numbers and returns the sum as a linked list.<br>\n",
    "EXAMPLE<br>\n",
    "Input: (7 → 1 → 6) + (5 → 9 → 2). that is, 617 + 295.<br>\n",
    "Output: 2 → 1 → 9. That is, 912.<br>\n",
    "FOLLOW UP<br>\n",
    "Suppose the digits are stored in forward order. Repeat the above problem.<br>\n",
    "EXAMPLE<br>\n",
    "Input: (6 → 1 → 7) + (2 → 9 → 5). That is, 617 + 295.<br>\n",
    "Output: 9 → 1 → 2. That is 912.\n"
   ]
  },
  {
   "cell_type": "code",
   "execution_count": 319,
   "metadata": {
    "collapsed": false
   },
   "outputs": [
    {
     "name": "stdout",
     "output_type": "stream",
     "text": [
      "First stack: [2, 2, 5]\n",
      "Second stack: [5, 8, 1]\n",
      "Reversed summation result: 707\n",
      "Forward summation result: 806\n"
     ]
    }
   ],
   "source": [
    "first_stack = generate_randomized_stack(stack_size=3)\n",
    "second_stack = generate_randomized_stack(stack_size=3)\n",
    "print(\"First stack: {}\".format(first_stack))\n",
    "print(\"Second stack: {}\".format(second_stack))\n",
    "\n",
    "# Assumption that at most, we will only need to carry a 1 over\n",
    "# Assuming that both nodes have the same node count\n",
    "def sum_of_nodes(node_1, node_2):\n",
    "    return node_1.value + node_2.value\n",
    "\n",
    "def recursive_sum_of_nodes(node_1, node_2, stack_count, current_count=0):\n",
    "    summation = 0\n",
    "    current_count += 1\n",
    "    \n",
    "    multiplier = (10 ** (stack_count - current_count))\n",
    "#     print(multiplier)\n",
    "    \n",
    "    if (node_1.next_node == None):\n",
    "        return (node_1.value + node_2.value) * multiplier\n",
    "    else:\n",
    "        \n",
    "        summation += (node_1.value + node_2.value) * multiplier + recursive_sum_of_nodes(node_1.next_node, node_2.next_node, stack_count, current_count)\n",
    "        \n",
    "    return summation\n",
    "\n",
    "def sum_stack_values(stack_1, stack_2, forward=True):\n",
    "    current_node_stack_1 = stack_1.head_node\n",
    "    current_node_stack_2 = stack_2.head_node\n",
    "    carry_over = 0\n",
    "    sum_string = \"\"\n",
    "    \n",
    "    if (forward == False):\n",
    "        while(current_node_stack_1 != None):\n",
    "            \n",
    "            current_sum = sum_of_nodes(current_node_stack_1, current_node_stack_2)\n",
    "            current_sum += carry_over\n",
    "            \n",
    "            carry_over = current_sum // 10 # we want the 10's place value to carry over\n",
    "            \n",
    "            current_value = current_sum % 10\n",
    "            \n",
    "            sum_string = str(current_value) + sum_string\n",
    "            \n",
    "            current_node_stack_1 = current_node_stack_1.next_node\n",
    "            current_node_stack_2 = current_node_stack_2.next_node\n",
    "            \n",
    "        if (carry_over == 1): # the last carry over\n",
    "            sum_string = str(carry_over) + sum_string\n",
    "        \n",
    "    else:\n",
    "        # Recursion?\n",
    "        stack_count = 0\n",
    "        current_node = current_node_stack_1\n",
    "        while(current_node != None):\n",
    "            stack_count += 1\n",
    "            current_node = current_node.next_node\n",
    "\n",
    "        sum_string = str(recursive_sum_of_nodes(current_node_stack_1, current_node_stack_2, stack_count, 0))\n",
    "        \n",
    "    return sum_string\n",
    "\n",
    "summation_reverse = sum_stack_values(first_stack, second_stack, forward=False)\n",
    "print(\"Reversed summation result: \" + summation_reverse)\n",
    "\n",
    "summation_forward = sum_stack_values(first_stack, second_stack)\n",
    "print(\"Forward summation result: \" + summation_forward)"
   ]
  },
  {
   "cell_type": "markdown",
   "metadata": {},
   "source": [
    "**2.6** Given a circular linked list, implement an algorithm which returns the node at the beginning of the loop.<br>\n",
    "DEFINITION<br>\n",
    "Circular linked list: A (corrupt) linked list in which a node's next pointer points to an earlier node, so as to make a looop in the linked list.<br>\n",
    "EXAMPLE<br>\n",
    "Input: A → B → C → D → E → C<br>\n",
    "Output: C\n"
   ]
  },
  {
   "cell_type": "code",
   "execution_count": 320,
   "metadata": {
    "collapsed": false
   },
   "outputs": [
    {
     "name": "stdout",
     "output_type": "stream",
     "text": [
      "Your list: [7, 5, 5, 4, 6]\n",
      "Last node is looped with node at index: 0\n",
      "Reduant node value: 7\n",
      "<__main__.Node object at 0x134ca6ac8>\n",
      "Retrieved reduant node value: 7\n",
      "<__main__.Node object at 0x134ca6ac8>\n"
     ]
    }
   ],
   "source": [
    "def generate_circular_linked_list(list_size=5):\n",
    "    linked_list = generate_randomized_stack(stack_size=list_size)\n",
    "    random_position = random.randint(0, list_size - 2) # subtract 1 more because we don't want to use the last position\n",
    "    count = 0\n",
    "    current_node = linked_list.head_node\n",
    "    while (count != random_position):\n",
    "        current_node = current_node.next_node\n",
    "        count += 1\n",
    "    \n",
    "    print(\"Your list: {}\".format(linked_list))\n",
    "    \n",
    "    linked_list.tail_node.next_node = current_node\n",
    "    \n",
    "    print(\"Last node is looped with node at index: {}\".format(random_position))\n",
    "    \n",
    "    return linked_list, current_node\n",
    "    \n",
    "circular_linked_list, redudant_node = generate_circular_linked_list()\n",
    "\n",
    "def find_redudant_node(circular_linked_list):\n",
    "    runner_1 = circular_linked_list.head_node\n",
    "    runner_2 = runner_1\n",
    "    while (runner_1 != None):\n",
    "        \n",
    "        runner_1 = runner_1.next_node\n",
    "        runner_2 = runner_2.next_node.next_node\n",
    "        \n",
    "        if (runner_1 == runner_2):\n",
    "            break\n",
    "    \n",
    "    runner_3 = circular_linked_list.head_node\n",
    "    while (runner_3 != runner_1):\n",
    "        runner_3 = runner_3.next_node\n",
    "        runner_1 = runner_1.next_node\n",
    "        \n",
    "    return runner_1\n",
    "        \n",
    "        \n",
    "retrieved_redundant_node = find_redudant_node(circular_linked_list)\n",
    "\n",
    "print(\"Reduant node value: {}\".format(str(redudant_node.value)))\n",
    "print(redudant_node)\n",
    "print(\"Retrieved reduant node value: {}\".format(str(retrieved_redundant_node.value)))\n",
    "print(retrieved_redundant_node)"
   ]
  },
  {
   "cell_type": "markdown",
   "metadata": {},
   "source": [
    "**In depth**\n",
    "\n",
    "Given a circular linked list: A → B → C → D → E → F → G → H → I → D<br>\n",
    "**k = 3** <i>(Steps between start of list and start of loop)</i><br>\n",
    "**LOOP_SIZE = 7**<br>\n",
    "<br>\n",
    "First we determine their collision point, where Runner 1 is taking 1 step, and Runner 2 is taking 2 steps.\n",
    "\n",
    "| Step # | Runner 1 | Runner 2 |\n",
    "|:---:|:---:|:---:|\n",
    "| Start | A | A |\n",
    "| 1 | B | D |\n",
    "| 2 | C | F | \n",
    "| 3 | D | H |\n",
    "| 4 | E | C |\n",
    "| 5 | F | E |\n",
    "| 6 | G | G |\n",
    "\n",
    "We find that both pointers meet at Node G after 6 steps.<br>\n",
    "Node G is also 4 steps away from the the start of the loop, which we can calculate from **K = mod(k, LOOP_SIZE)**.\n",
    "\n",
    "To find the start of the loop we can move Runner 2 back to the start of the list, but this time taking 1 step.\n",
    "Both Runner 1 and Runner 2 are now K steps away from the start of the loop, and when we run them, the next time they will meet (in K - 1 steps) will indicate the start of the loop.\n",
    "\n",
    "| Step # | Runner 1 | Runner 2 |\n",
    "|:---:|:---:|:---:|\n",
    "| Start | A | G |\n",
    "| 1 | B | H |\n",
    "| 2 | C | I | \n",
    "| 3 | D | D |\n",
    "\n"
   ]
  },
  {
   "cell_type": "markdown",
   "metadata": {},
   "source": [
    "**2.7** Implement a function to check if a linked list is a palindrome."
   ]
  },
  {
   "cell_type": "code",
   "execution_count": 321,
   "metadata": {
    "collapsed": false
   },
   "outputs": [],
   "source": [
    "# Helper to generate palindromes\n",
    "def generate_palindrome_list(list_size=5):\n",
    "    half_size = list_size // 2\n",
    "    first_half_list = generate_randomized_stack(stack_size=half_size)\n",
    "    \n",
    "    second_half_list = Stack()\n",
    "    current_node = first_half_list.head_node\n",
    "    while(current_node != None):\n",
    "        second_half_list.push(current_node.value)\n",
    "        current_node = current_node.next_node    \n",
    "    \n",
    "    if (list_size % 2 == 1):\n",
    "        center_node = generate_randomized_stack(stack_size=1).head_node\n",
    "        center_node.previous_node = first_half_list.tail_node\n",
    "        first_half_list.tail_node.next_node = center_node\n",
    "        first_half_list.tail_node = center_node\n",
    "  \n",
    "    first_half_list.tail_node.next_node = second_half_list.head_node\n",
    "    second_half_list.head_node.previous_node = first_half_list.tail_node\n",
    "    first_half_list.tail_node = second_half_list.tail_node\n",
    "    \n",
    "    first_half_list.node_count = list_size\n",
    "    \n",
    "    return first_half_list\n"
   ]
  },
  {
   "cell_type": "code",
   "execution_count": 322,
   "metadata": {
    "collapsed": false
   },
   "outputs": [
    {
     "name": "stdout",
     "output_type": "stream",
     "text": [
      "[2, 5, 3, 5, 2] is a palidrome?\n",
      "True\n"
     ]
    }
   ],
   "source": [
    "def is_palindrome(palindrome_list):\n",
    "    \n",
    "    half_count = palindrome_list.node_count // 2\n",
    "    \n",
    "    front_runner = palindrome_list.head_node\n",
    "    back_runner = palindrome_list.tail_node\n",
    "    \n",
    "    # We're just going to take advantage of a doubly linked list here\n",
    "    step_count = 0\n",
    "    while (step_count != half_count):\n",
    "        \n",
    "        if (front_runner.value != back_runner.value):\n",
    "            return False\n",
    "        \n",
    "        front_runner = front_runner.next_node\n",
    "        back_runner = back_runner.previous_node\n",
    "        step_count += 1\n",
    "        \n",
    "    return True\n",
    "\n",
    "palindrome_list = generate_palindrome_list()\n",
    "\n",
    "print(\"{}\".format(palindrome_list) + \" is a palidrome?\")\n",
    "print(is_palindrome(palindrome_list))"
   ]
  },
  {
   "cell_type": "markdown",
   "metadata": {},
   "source": [
    "## Unit Testing Chapter 2 Questions"
   ]
  },
  {
   "cell_type": "code",
   "execution_count": 323,
   "metadata": {
    "collapsed": false
   },
   "outputs": [
    {
     "name": "stderr",
     "output_type": "stream",
     "text": [
      "......."
     ]
    },
    {
     "name": "stdout",
     "output_type": "stream",
     "text": [
      "Your list: [0, 0, 8, 1, 8]\n",
      "Last node is looped with node at index: 3\n"
     ]
    },
    {
     "name": "stderr",
     "output_type": "stream",
     "text": [
      "\n",
      "----------------------------------------------------------------------\n",
      "Ran 7 tests in 0.007s\n",
      "\n",
      "OK\n"
     ]
    },
    {
     "data": {
      "text/plain": [
       "<unittest.runner.TextTestResult run=7 errors=0 failures=0>"
      ]
     },
     "execution_count": 323,
     "metadata": {},
     "output_type": "execute_result"
    }
   ],
   "source": [
    "class TestCrackingCodeChapter2Questions(unittest.TestCase):\n",
    "    \n",
    "    def setUp(self):\n",
    "        stack = Stack()\n",
    "        stack.push(1)\n",
    "        stack.push(2)\n",
    "        stack.push(3)\n",
    "        stack.push(4)\n",
    "        stack.push(1)\n",
    "        stack.push(2)\n",
    "        stack.push(3)\n",
    "        stack.push(4)\n",
    "        stack.push(1)\n",
    "        stack.push(2)\n",
    "        stack.push(3)\n",
    "        self.stack = stack\n",
    "        \n",
    "    def tearDown(self):\n",
    "        self.stack = None\n",
    "        \n",
    "    def test_2_1(self):\n",
    "        remove_duplicates_from_stack(self.stack)\n",
    "        self.assertEqual(self.stack.__str__(), \"[3, 2, 1, 4]\")\n",
    "        \n",
    "    def test_2_2(self):\n",
    "        the_node = node_for_kth_to_last_index(self.stack, 4)\n",
    "        self.assertEqual(the_node.value, 4)\n",
    "        \n",
    "    def test_2_3(self):\n",
    "        remove_middle_node(self.stack)\n",
    "        self.assertEqual(\"{}\".format(self.stack), \"[3, 2, 1, 4, 3, 1, 4, 3, 2, 1]\")\n",
    "    \n",
    "    def test_2_4(self):\n",
    "        partitioned_stack = partition_stack_around_value(self.stack, 3)\n",
    "        self.assertEqual(\"{}\".format(partitioned_stack), \"[1, 2, 1, 2, 1, 2, 3, 4, 3, 4, 3]\")\n",
    "        \n",
    "    def test_2_5(self):\n",
    "        # Input: (7 → 1 → 6) + (5 → 9 → 2). that is, 617 + 295.\n",
    "        # Output: 2 → 1 → 9. That is, 912.\n",
    "        stack_1 = Stack()\n",
    "        stack_1.push(6)\n",
    "        stack_1.push(1)\n",
    "        stack_1.push(7)\n",
    "        \n",
    "        stack_2 = Stack()\n",
    "        stack_2.push(2)\n",
    "        stack_2.push(9)\n",
    "        stack_2.push(5)\n",
    "        \n",
    "        summation_reverse = sum_stack_values(stack_1, stack_2, forward=False)\n",
    "        self.assertEqual(summation_reverse, \"912\")\n",
    "        \n",
    "        # Input: (6 → 1 → 7) + (2 → 9 → 5). That is, 617 + 295.\n",
    "        # Output: 9 → 1 → 2. That is 912.\n",
    "        stack_3 = Stack()\n",
    "        stack_3.push(7)\n",
    "        stack_3.push(1)\n",
    "        stack_3.push(6)\n",
    "        \n",
    "        stack_4 = Stack()\n",
    "        stack_4.push(5)\n",
    "        stack_4.push(9)\n",
    "        stack_4.push(2)\n",
    "        \n",
    "        summation_forward = sum_stack_values(stack_3, stack_4)\n",
    "        self.assertEqual(summation_forward, \"912\")\n",
    "        \n",
    "    def test_2_6(self):\n",
    "        circular_linked_list, redudant_node = generate_circular_linked_list()\n",
    "        retrieved_redundant_node = find_redudant_node(circular_linked_list)\n",
    "        self.assertEqual(redudant_node.value, retrieved_redundant_node.value)\n",
    "        \n",
    "    def test_2_7(self):\n",
    "        self.assertEqual(is_palindrome(self.stack), False)\n",
    "        \n",
    "        palindrome_list = generate_palindrome_list(11)\n",
    "        self.assertEqual(is_palindrome(palindrome_list), True)\n",
    "        \n",
    "suite = unittest.TestLoader().loadTestsFromModule(TestCrackingCodeChapter2Questions())\n",
    "unittest.TextTestRunner().run(suite)"
   ]
  },
  {
   "cell_type": "markdown",
   "metadata": {
    "collapsed": true
   },
   "source": [
    "**3.2** How would you design a stack which, in addition to push and pop, also has a function min which returns the minimum element? Push, pop and min should all operate in O(1) time."
   ]
  },
  {
   "cell_type": "code",
   "execution_count": 324,
   "metadata": {
    "collapsed": false
   },
   "outputs": [
    {
     "name": "stdout",
     "output_type": "stream",
     "text": [
      "[5, 2, 4, 3]\n",
      "2\n"
     ]
    }
   ],
   "source": [
    "# random_stack = generate_randomized_stack(stack_size = 5)\n",
    "# print(random_stack.description())\n",
    "# print(\"Min value is: \" + str(random_stack.min_node().value))\n",
    "\n",
    "class MinStack(Stack):\n",
    "    def __init__(self):\n",
    "        super(MinStack, self).__init__()\n",
    "        self.min_node = None\n",
    "    def get_min_node(self):\n",
    "        # we'll store this so we don't have to traverse the list\n",
    "        return self.min_node\n",
    "    def push(self, value):\n",
    "        # and set it by overriding our push method\n",
    "        super(MinStack, self).push(value)\n",
    "        \n",
    "        if (self.min_node == None):\n",
    "            self.min_node = self.head_node\n",
    "        else:\n",
    "            if self.head_node.value < self.min_node.value:\n",
    "                self.min_node = self.head_node\n",
    "\n",
    "min_stack = MinStack()\n",
    "min_stack.push(3)\n",
    "min_stack.push(4)\n",
    "min_stack.push(2)\n",
    "min_stack.push(5)\n",
    "\n",
    "print(min_stack)\n",
    "print(min_stack.get_min_node().value)"
   ]
  },
  {
   "cell_type": "markdown",
   "metadata": {},
   "source": [
    "**3.3** Image a (literal) stack of plates. If the stack gets too high, it might topple. Therefore, in real life, we would likely start a new stack when the previous stack exceeds some threshold. Implement a data structure <i>SetOfStacks</i> that mimics this. <i>SetOfStacks</i> should be composed of several stacks and should create a new stack once the previous once exceeds capacity. <i>SetOfStacks.push()</i> and <i>SetOfStacks.pop()</i> should behave identically to a single stack (that is, pop() should return the same values as it would if there were just a single stack).<br>\n",
    "FOLLOW UP<br>\n",
    "Implement a function <i>popAt(int index)</i> which performs a pop operation on a specific sub-stack."
   ]
  },
  {
   "cell_type": "code",
   "execution_count": 325,
   "metadata": {
    "collapsed": false
   },
   "outputs": [
    {
     "name": "stdout",
     "output_type": "stream",
     "text": [
      "[[7], [6, 5, 4, 3, 2], [1, 9, 8, 7, 6], [5, 4, 3, 2, 1]]\n",
      "5\n",
      "[[7, 6, 5, 4, 3], [2, 1, 9, 8, 7], [6, 4, 3, 2, 1]]\n"
     ]
    }
   ],
   "source": [
    "class SetOfStacks(Stack):\n",
    "    \n",
    "    def __init__(self, stack_limit):\n",
    "        super(SetOfStacks, self).__init__()\n",
    "        self.stack_limit = stack_limit\n",
    "    \n",
    "    def push(self, value):\n",
    "        if (self.head_node == None or self.head_node.value.node_count == self.stack_limit):\n",
    "            new_stack = Stack()\n",
    "            super(SetOfStacks, self).push(new_stack)\n",
    "                \n",
    "        self.head_node.value.push(value)\n",
    "        \n",
    "        return\n",
    "    \n",
    "    def pop(self):\n",
    "        popped_node = self.head_node.value.pop() # pop the head node's stack\n",
    "        \n",
    "        if (self.head_node.value.is_empty()): \n",
    "            super(SetOfStacks, self).pop() # if it's empty, then remove this pointer node\n",
    "        return popped_node\n",
    "    \n",
    "    def pull_last(self, from_stack):\n",
    "        \n",
    "        if (from_stack.node_count == 1):\n",
    "            return self.pop()\n",
    "        \n",
    "        pulled_node = None\n",
    "        pulled_node = from_stack.tail_node\n",
    "        \n",
    "        if (pulled_node.previous_node != None):\n",
    "            pulled_node.previous_node.next_node = None\n",
    "            pulled_node.previous_node = None\n",
    "        \n",
    "        \n",
    "        return pulled_node\n",
    "    \n",
    "    \n",
    "    def popAt(self, index):\n",
    "        popped_node = None\n",
    "        if (index + 1 > self.node_count):\n",
    "            raise Exception(\"Out of bounds!\")\n",
    "        \n",
    "        if (index == 0):\n",
    "            popped_node = self.pop()\n",
    "            return popped_node\n",
    "        \n",
    "        stack_count = 0\n",
    "        current_stack = self.head_node\n",
    "        while (stack_count < index):\n",
    "            \n",
    "            next_n = current_stack.next_node\n",
    "            if (stack_count + 1 == index):\n",
    "                popped_node = next_n.value.pop()\n",
    "            \n",
    "            next_n = current_stack.next_node\n",
    "            temp_node = self.pull_last(current_stack.value)\n",
    "\n",
    "            next_n.value.push(temp_node)\n",
    "                \n",
    "            stack_count += 1\n",
    "            current_stack = next_n\n",
    "        \n",
    "        return popped_node\n",
    "    \n",
    "    def description(self):\n",
    "        string = \"\"\n",
    "        current_node = self.head_node\n",
    "        while (current_node != None):\n",
    "            if (isinstance(current_node.value, Stack)):\n",
    "                string += current_node.value.description()\n",
    "            else:\n",
    "                string += str(current_node.value)\n",
    "                \n",
    "            current_node = current_node.next_node\n",
    "            if (current_node != None):\n",
    "                string += \", \"\n",
    "\n",
    "        string = \"[\"+string+\"]\"\n",
    "        return string\n",
    "    \n",
    "set_of_stacks = SetOfStacks(5);\n",
    "set_of_stacks.push(1)\n",
    "set_of_stacks.push(2)\n",
    "set_of_stacks.push(3)\n",
    "set_of_stacks.push(4)\n",
    "set_of_stacks.push(5)\n",
    "set_of_stacks.push(6)\n",
    "set_of_stacks.push(7)\n",
    "set_of_stacks.push(8)\n",
    "set_of_stacks.push(9)\n",
    "set_of_stacks.push(1)\n",
    "set_of_stacks.push(2)\n",
    "set_of_stacks.push(3)\n",
    "set_of_stacks.push(4)\n",
    "set_of_stacks.push(5)\n",
    "set_of_stacks.push(6)\n",
    "set_of_stacks.push(7)\n",
    "set_of_stacks.push(8)\n",
    "set_of_stacks.push(9)\n",
    "set_of_stacks.pop()\n",
    "set_of_stacks.pop()\n",
    "print(set_of_stacks)\n",
    "print(set_of_stacks.popAt(3).value)\n",
    "print(set_of_stacks)\n",
    "        "
   ]
  },
  {
   "cell_type": "markdown",
   "metadata": {},
   "source": [
    "**3.4** In the classic proble of the Towers of Hanoi, you have 3 towers and N disks of different sizes which can slide onto any tower. The puzzle starts with disks sorted in ascending order of size from top to bottom (i.e., each disk sits on top of an even larger one). You have the following constraints:<br>\n",
    "(1) Only one disk can be moved at a time.<br>\n",
    "(2) A disk is slid off the top of one tower onto the next tower.<br>\n",
    "(3) A disk can only be placed on top of a larger disk.<br>\n",
    "Write a program to move the disks from the first tower to the last using stacks.\n",
    "\n",
    "![title](img/tower_of_hanoi.gif)"
   ]
  },
  {
   "cell_type": "code",
   "execution_count": 340,
   "metadata": {
    "collapsed": false
   },
   "outputs": [
    {
     "name": "stdout",
     "output_type": "stream",
     "text": [
      "Initial: ([1, 2, 3, 4, 5], 'source'), ([], 'helper'), ([], 'target')\n",
      "Moving disk 5 from source to target\n",
      "Moving disk 4 from source to helper\n",
      "Moving disk 5 from target to helper\n",
      "Moving disk 3 from source to target\n",
      "Moving disk 5 from helper to source\n",
      "Moving disk 4 from helper to target\n",
      "Moving disk 5 from source to target\n",
      "Moving disk 2 from source to helper\n",
      "Moving disk 5 from target to helper\n",
      "Moving disk 4 from target to source\n",
      "Moving disk 5 from helper to source\n",
      "Moving disk 3 from target to helper\n",
      "Moving disk 5 from source to target\n",
      "Moving disk 4 from source to helper\n",
      "Moving disk 5 from target to helper\n",
      "Moving disk 1 from source to target\n",
      "Moving disk 5 from helper to source\n",
      "Moving disk 4 from helper to target\n",
      "Moving disk 5 from source to target\n",
      "Moving disk 3 from helper to source\n",
      "Moving disk 5 from target to helper\n",
      "Moving disk 4 from target to source\n",
      "Moving disk 5 from helper to source\n",
      "Moving disk 2 from helper to target\n",
      "Moving disk 5 from source to target\n",
      "Moving disk 4 from source to helper\n",
      "Moving disk 5 from target to helper\n",
      "Moving disk 3 from source to target\n",
      "Moving disk 5 from helper to source\n",
      "Moving disk 4 from helper to target\n",
      "Moving disk 5 from source to target\n",
      "Solved: ([], 'source'), ([], 'helper'), ([1, 2, 3, 4, 5], 'target')\n"
     ]
    }
   ],
   "source": [
    "class TowerOfHanoi(object):\n",
    "    \n",
    "    def __init__(self, tower_size):\n",
    "        self.source = [], \"source\"\n",
    "        self.helper = [], \"helper\" \n",
    "        self.target = [], \"target\"\n",
    "        self.debug = False\n",
    "        \n",
    "        for i in range(tower_size):\n",
    "            self.source[0].append(i + 1)\n",
    "\n",
    "    def solve(self, debug=False):\n",
    "        self.debug = debug\n",
    "        self.move(len(self.source[0]), self.source, self.target, self.helper)\n",
    "        \n",
    "    def move(self, n, source, target, helper):\n",
    "        if n > 0:\n",
    "            self.move(n - 1, source, helper, target) # move all top disks to our helper\n",
    "\n",
    "            if source[0]: # moving the last disk to our target\n",
    "                disk = source[0].pop()\n",
    "                if self.debug:\n",
    "                    print(\"Moving disk {} from {} to {}\".format(disk, source[1], target[1]))\n",
    "                target[0].append(disk)\n",
    "            \n",
    "            self.move(n - 1, helper, target, source) # moving top disks to target\n",
    "    \n",
    "    def __str__(self):\n",
    "        return \"{}, {}, {}\".format(self.source, self.helper, self.target)\n",
    "    \n",
    "\n",
    "    \n",
    "tower_of_hanoi = TowerOfHanoi(5)\n",
    "print(\"Initial: {}\".format(tower_of_hanoi))\n",
    "tower_of_hanoi.solve(True)\n",
    "print(\"Solved: {}\".format(tower_of_hanoi))"
   ]
  },
  {
   "cell_type": "markdown",
   "metadata": {},
   "source": [
    "**3.5** Implement a <i>MyQueue</i> class which implements a queue using two stacks."
   ]
  },
  {
   "cell_type": "code",
   "execution_count": 265,
   "metadata": {
    "collapsed": false
   },
   "outputs": [
    {
     "name": "stdout",
     "output_type": "stream",
     "text": [
      "1\n",
      "2\n",
      "Push stack: [4, 3]\n",
      "Queue stack: [3, 4]\n"
     ]
    }
   ],
   "source": [
    "class MyQueue(object):\n",
    "    def __init__(self):\n",
    "        self.push_stack = Stack()\n",
    "        self.queue_stack = Stack()\n",
    "    \n",
    "    def enqueue(self, value):\n",
    "        self.push_stack.push(value)\n",
    "        self.queue_stack = Stack()\n",
    "        current_node = self.push_stack.head_node\n",
    "        while (current_node != None):\n",
    "            self.queue_stack.push(current_node.value)\n",
    "            current_node = current_node.next_node\n",
    "        return\n",
    "    \n",
    "    def dequeue(self):\n",
    "        popped_node = self.queue_stack.pop()\n",
    "        self.push_stack = Stack()\n",
    "        current_node = self.queue_stack.head_node\n",
    "        while (current_node != None):\n",
    "            self.push_stack.push(current_node.value)\n",
    "            current_node = current_node.next_node\n",
    "        return popped_node\n",
    "    \n",
    "my_queue = MyQueue();\n",
    "my_queue.enqueue(1)\n",
    "my_queue.enqueue(2)\n",
    "my_queue.enqueue(3)\n",
    "my_queue.enqueue(4)\n",
    "print(my_queue.dequeue().value)\n",
    "print(my_queue.dequeue().value)\n",
    "print(\"Push stack: {}\".format(my_queue.push_stack))\n",
    "print(\"Queue stack: {}\".format(my_queue.queue_stack))"
   ]
  },
  {
   "cell_type": "markdown",
   "metadata": {},
   "source": [
    "**3.6** Write a program to sort a stack in ascending order (with biggest items on top). You may use at most one additional stack to hold items, but you may not copy the elements into any other data structure (such as an array). The stack supports the following operations: push, pop, peek, and isEmpty."
   ]
  },
  {
   "cell_type": "code",
   "execution_count": 266,
   "metadata": {
    "collapsed": false
   },
   "outputs": [
    {
     "name": "stdout",
     "output_type": "stream",
     "text": [
      "[0, 9, 9, 1, 3, 7, 9, 3, 3, 2]\n",
      "[9, 9, 9, 7, 3, 3, 3, 2, 1, 0]\n"
     ]
    }
   ],
   "source": [
    "random_stack = generate_randomized_stack()\n",
    "\n",
    "def sort_stack(unsorted_stack):\n",
    "    temp_node = None\n",
    "    sorted_stack = Stack()\n",
    "    temp_node = None\n",
    "    while not unsorted_stack.is_empty():\n",
    "        temp_node = unsorted_stack.pop()\n",
    "        \n",
    "        if (sorted_stack.head_node == None):\n",
    "            pass\n",
    "        \n",
    "        elif (sorted_stack.head_node.value > temp_node.value):\n",
    "            while sorted_stack.head_node.value > temp_node.value:\n",
    "                unsorted_stack.push(sorted_stack.pop())\n",
    "                if (sorted_stack.is_empty()):\n",
    "                    break\n",
    "            \n",
    "        sorted_stack.push(temp_node)\n",
    "        temp_node = None\n",
    "        \n",
    "    return sorted_stack\n",
    "    \n",
    "print(random_stack)\n",
    "sorted_stack = sort_stack(random_stack)\n",
    "print(sorted_stack)"
   ]
  },
  {
   "cell_type": "markdown",
   "metadata": {},
   "source": [
    "**3.7** An animal shelter holds only dogs and cats, and operates on strictly \"first in, first out\" basis. People must adopt either the \"oldest\" (based on arrival time) of all animals at the shelter, or they can select whether they would prefer a dog or cat (and will receive the oldest animal of that type). They cannot select which specific animal they would like. Create the data structures to maintain this system and implement operations such as enqueue, dequeueAny, dequeueDog and dequeueCat. You may use the build-in LinkedList data structure."
   ]
  },
  {
   "cell_type": "code",
   "execution_count": 267,
   "metadata": {
    "collapsed": false
   },
   "outputs": [],
   "source": [
    "class Animal(object):\n",
    "    def __init__(self, name):\n",
    "        self.name = name\n",
    "        \n",
    "class Dog(Animal):\n",
    "    def __str__(self):\n",
    "        return \"You received a dog named \" + self.name\n",
    "    \n",
    "class Cat(Animal):\n",
    "    def __str__(self):\n",
    "        return \"You received a cat named \" + self.name\n"
   ]
  },
  {
   "cell_type": "code",
   "execution_count": 268,
   "metadata": {
    "collapsed": false
   },
   "outputs": [
    {
     "name": "stdout",
     "output_type": "stream",
     "text": [
      "You received a cat named Eve\n",
      "You received a dog named Elvis\n",
      "You received a cat named Falaffal\n",
      "Dogs: [Buster, Fido]\n",
      "Cats: [Garfield]\n"
     ]
    }
   ],
   "source": [
    "from random import randint\n",
    "\n",
    "class AnimalShelter(object):\n",
    "    \n",
    "    def __init__(self):\n",
    "        self.dogs = Queue()\n",
    "        self.cats = Queue()\n",
    "    \n",
    "    def enqueue(self, animal):\n",
    "        if (isinstance(animal, Dog)):\n",
    "            self.dogs.enqueue(animal)\n",
    "        elif (isinstance(animal, Cat)):\n",
    "            self.cats.enqueue(animal)\n",
    "        \n",
    "    def dequeueAny(self):\n",
    "        rand = randint(0,1)\n",
    "        if (rand == 0):\n",
    "            return self.dequeueDog()\n",
    "        else:\n",
    "            return self.dequeueCat()\n",
    "        \n",
    "    def dequeueDog(self):\n",
    "        return self.dogs.dequeue()\n",
    "    \n",
    "    def dequeueCat(self):\n",
    "        return self.cats.dequeue()\n",
    "    \n",
    "    def __str__(self):\n",
    "        dog_description = self.list_description(self.dogs)\n",
    "        cat_description = self.list_description(self.cats)\n",
    "        return \"Dogs: \" + dog_description + \"\\nCats: \" + cat_description + \"\"\n",
    "    \n",
    "    def list_description(self, list):\n",
    "        string = \"\"\n",
    "        current_node = list.head_node\n",
    "        while (current_node != None):\n",
    "            \n",
    "            string += str(current_node.value.name)\n",
    "                \n",
    "            current_node = current_node.next_node\n",
    "            if (current_node != None):\n",
    "                string += \", \"\n",
    "\n",
    "        string = \"[\"+string+\"]\"\n",
    "#         print(string)\n",
    "        return string\n",
    "    \n",
    "animal_shelter = AnimalShelter()\n",
    "dog_1 = Dog(\"Elvis\")\n",
    "dog_2 = Dog(\"Buster\")\n",
    "dog_3 = Dog(\"Fido\")\n",
    "cat_1 = Cat(\"Eve\")\n",
    "cat_2 = Cat(\"Falaffal\")\n",
    "cat_3 = Cat(\"Garfield\")\n",
    "animal_shelter.enqueue(dog_1)\n",
    "animal_shelter.enqueue(dog_2)\n",
    "animal_shelter.enqueue(dog_3)\n",
    "animal_shelter.enqueue(cat_1)\n",
    "animal_shelter.enqueue(cat_2)\n",
    "animal_shelter.enqueue(cat_3)\n",
    "print(animal_shelter.dequeueAny().value)\n",
    "print(animal_shelter.dequeueDog().value)\n",
    "print(animal_shelter.dequeueCat().value)\n",
    "print(animal_shelter)\n"
   ]
  },
  {
   "cell_type": "markdown",
   "metadata": {},
   "source": [
    "## Unit Testing Chapter 3 Questions"
   ]
  },
  {
   "cell_type": "code",
   "execution_count": 343,
   "metadata": {
    "collapsed": false
   },
   "outputs": [
    {
     "name": "stderr",
     "output_type": "stream",
     "text": [
      "......\n",
      "----------------------------------------------------------------------\n",
      "Ran 6 tests in 0.011s\n",
      "\n",
      "OK\n"
     ]
    },
    {
     "data": {
      "text/plain": [
       "<unittest.runner.TextTestResult run=6 errors=0 failures=0>"
      ]
     },
     "execution_count": 343,
     "metadata": {},
     "output_type": "execute_result"
    }
   ],
   "source": [
    "class TestCrackingCodeChapter3Questions(unittest.TestCase):\n",
    "    \n",
    "    def setUp(self):\n",
    "        return\n",
    "    \n",
    "    def tearDown(self):\n",
    "        return\n",
    "    \n",
    "    def test_3_2(self):\n",
    "        min_stack = MinStack()\n",
    "        min_stack.push(3)\n",
    "        min_stack.push(4)\n",
    "        min_stack.push(2)\n",
    "        min_stack.push(1)\n",
    "        min_stack.push(5)\n",
    "        self.assertEqual(min_stack.get_min_node().value, 1)\n",
    "        \n",
    "    def test_3_3(self):\n",
    "        set_of_stacks = SetOfStacks(5);\n",
    "        set_of_stacks.push(7)\n",
    "        set_of_stacks.push(3)\n",
    "        set_of_stacks.push(6)\n",
    "        set_of_stacks.push(7)\n",
    "        set_of_stacks.push(3)\n",
    "        set_of_stacks.push(2)\n",
    "        set_of_stacks.push(3)\n",
    "        set_of_stacks.push(4)\n",
    "        set_of_stacks.push(8)\n",
    "        set_of_stacks.push(1)\n",
    "        set_of_stacks.push(3)\n",
    "        set_of_stacks.push(5)\n",
    "        set_of_stacks.push(7)\n",
    "        set_of_stacks.push(2)\n",
    "        set_of_stacks.push(9)\n",
    "        set_of_stacks.pop()\n",
    "        set_of_stacks.pop()\n",
    "        self.assertEqual(\"{}\".format(set_of_stacks), \"[[7, 5, 3], [1, 8, 4, 3, 2], [3, 7, 6, 3, 7]]\")\n",
    "        self.assertEqual(set_of_stacks.popAt(2).value, 3)\n",
    "        self.assertEqual(\"{}\".format(set_of_stacks), \"[[7, 5], [3, 1, 8, 4, 3], [2, 7, 6, 3, 7]]\")\n",
    "        \n",
    "      \n",
    "    def test_3_4(self):\n",
    "        tower_of_hanoi = TowerOfHanoi(6)\n",
    "        tower_of_hanoi.solve()\n",
    "        self.assertEqual(tower_of_hanoi.target[0], [1, 2, 3, 4, 5, 6])\n",
    "    \n",
    "    def test_3_5(self):\n",
    "        my_queue = MyQueue();\n",
    "        my_queue.enqueue(7)\n",
    "        my_queue.enqueue(5)\n",
    "        my_queue.enqueue(9)\n",
    "        my_queue.enqueue(3)\n",
    "        self.assertEqual(my_queue.dequeue().value, 7)\n",
    "        self.assertEqual(my_queue.dequeue().value, 5)\n",
    "        \n",
    "    def test_3_6(self):\n",
    "        random_stack = generate_randomized_stack()\n",
    "        sorted_stack = sort_stack(random_stack)\n",
    "        \n",
    "        current_node = sorted_stack.head_node\n",
    "        while (current_node.next_node != None):\n",
    "            self.assertTrue(current_node.value >= current_node.next_node.value)\n",
    "            current_node = current_node.next_node\n",
    "        \n",
    "    \n",
    "    def test_3_7(self):\n",
    "        animal_shelter = AnimalShelter()\n",
    "        dog_1 = Dog(\"Elvis\")\n",
    "        dog_2 = Dog(\"Buster\")\n",
    "        dog_3 = Dog(\"Fido\")\n",
    "        cat_1 = Cat(\"Eve\")\n",
    "        cat_2 = Cat(\"Falaffal\")\n",
    "        cat_3 = Cat(\"Garfield\")\n",
    "        \n",
    "        animal_shelter.enqueue(dog_1)\n",
    "        animal_shelter.enqueue(dog_2)\n",
    "        animal_shelter.enqueue(dog_3)\n",
    "        animal_shelter.enqueue(cat_1)\n",
    "        animal_shelter.enqueue(cat_2)\n",
    "        animal_shelter.enqueue(cat_3)\n",
    "        \n",
    "        self.assertEqual(animal_shelter.dequeueDog().value, dog_1)\n",
    "        self.assertEqual(animal_shelter.dequeueCat().value, cat_1)\n",
    "    \n",
    "        random_animal = animal_shelter.dequeueAny().value\n",
    "        \n",
    "        if (isinstance(random_animal, Dog)):\n",
    "            self.assertEqual(random_animal, dog_2)\n",
    "        else:\n",
    "            self.assertEqual(random_animal, cat_2)   \n",
    "        \n",
    "        \n",
    "suite = unittest.TestLoader().loadTestsFromModule(TestCrackingCodeChapter3Questions())\n",
    "unittest.TextTestRunner().run(suite)"
   ]
  },
  {
   "cell_type": "code",
   "execution_count": null,
   "metadata": {
    "collapsed": true
   },
   "outputs": [],
   "source": []
  }
 ],
 "metadata": {
  "kernelspec": {
   "display_name": "Python 3",
   "language": "python",
   "name": "python3"
  },
  "language_info": {
   "codemirror_mode": {
    "name": "ipython",
    "version": 3
   },
   "file_extension": ".py",
   "mimetype": "text/x-python",
   "name": "python",
   "nbconvert_exporter": "python",
   "pygments_lexer": "ipython3",
   "version": "3.5.2"
  }
 },
 "nbformat": 4,
 "nbformat_minor": 1
}
