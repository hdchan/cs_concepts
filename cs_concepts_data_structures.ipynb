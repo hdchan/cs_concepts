{
 "cells": [
  {
   "cell_type": "markdown",
   "metadata": {},
   "source": [
    "# Data Structures\n",
    "\n",
    "### A Node"
   ]
  },
  {
   "cell_type": "code",
   "execution_count": 56,
   "metadata": {
    "collapsed": false
   },
   "outputs": [],
   "source": [
    "class Node(object):\n",
    "    \n",
    "    def __init__(self, value):\n",
    "        self.value = value\n",
    "        self.next_node = None\n",
    "        self.previous_node = None\n",
    "        \n",
    "    def append_node(self, node):\n",
    "        self.next_node = node\n",
    "        self.next_node.previous_node = self"
   ]
  },
  {
   "cell_type": "markdown",
   "metadata": {},
   "source": [
    "### Stacks\n",
    "\n",
    "LIFO"
   ]
  },
  {
   "cell_type": "code",
   "execution_count": 57,
   "metadata": {
    "collapsed": false
   },
   "outputs": [],
   "source": [
    "class Stack(object):\n",
    "    \n",
    "    def __init__(self):\n",
    "        self.head_node = None\n",
    "        self.tail_node = None\n",
    "        self.node_count = 0\n",
    "        \n",
    "    def push(self, value):\n",
    "        new_node = Node(value)\n",
    "        \n",
    "        if (self.head_node == None):\n",
    "            self.head_node = new_node\n",
    "            self.tail_node = new_node\n",
    "        else:\n",
    "            self.tail_node.append_node(new_node)\n",
    "            self.tail_node = new_node\n",
    "        \n",
    "        self.node_count += 1\n",
    "        \n",
    "    def pop(self):\n",
    "        if (self.node_count == 0):\n",
    "            raise Exception(\"nothing to pop!\")\n",
    "        \n",
    "        if (self.head_node == self.tail_node):\n",
    "            self.head_node = None\n",
    "            self.tail_node = None\n",
    "        else:\n",
    "            self.tail_node = self.tail_node.previous_node\n",
    "            self.tail_node.next_node = None\n",
    "            \n",
    "        self.node_count -= 1\n",
    "            \n",
    "    \n",
    "    def node_at_index(self, idx):\n",
    "        if (self.node_count == 0):\n",
    "            raise Exception(\"nothing in here\")\n",
    "        current_node = self.head_node\n",
    "        counter = 0\n",
    "        if (counter == idx): \n",
    "            return current_node\n",
    "    \n",
    "        while (current_node.next_node != None):\n",
    "            current_node = current_node.next_node\n",
    "            counter += 1\n",
    "            if (counter == idx):\n",
    "                return current_node\n",
    "            \n",
    "        raise Exception(\"index {} out of bounds\".format(idx)) \n",
    "    \n",
    "    def description(self):\n",
    "        string = \"\"\n",
    "        current_node = self.head_node\n",
    "        while (current_node != None):\n",
    "            string += str(current_node.value)\n",
    "            current_node = current_node.next_node\n",
    "            if (current_node != None):\n",
    "                string += \", \"\n",
    "\n",
    "        string = \"[\"+string+\"]\"\n",
    "#         print(string)\n",
    "        return string   "
   ]
  },
  {
   "cell_type": "markdown",
   "metadata": {},
   "source": [
    "### Testing our Stack"
   ]
  },
  {
   "cell_type": "code",
   "execution_count": 58,
   "metadata": {
    "collapsed": false
   },
   "outputs": [
    {
     "name": "stderr",
     "output_type": "stream",
     "text": [
      ".....\n",
      "----------------------------------------------------------------------\n",
      "Ran 5 tests in 0.008s\n",
      "\n",
      "OK\n"
     ]
    },
    {
     "data": {
      "text/plain": [
       "<unittest.runner.TextTestResult run=5 errors=0 failures=0>"
      ]
     },
     "execution_count": 58,
     "metadata": {},
     "output_type": "execute_result"
    }
   ],
   "source": [
    "import unittest\n",
    "\n",
    "class Test_Stack(unittest.TestCase):\n",
    "    \n",
    "    def setUp(self):\n",
    "        self.stack = Stack()\n",
    "    \n",
    "    def push_test_values(self):\n",
    "        self.stack.push(1)\n",
    "        self.stack.push(2)\n",
    "        self.stack.push(3)\n",
    "    \n",
    "    def test_initializer(self):\n",
    "        self.assertEqual(self.stack.node_count, 0)\n",
    "        \n",
    "    def test_push(self):\n",
    "        self.push_test_values()\n",
    "        self.assertEqual(self.stack.node_count, 3)\n",
    "    \n",
    "    def test_pop(self):\n",
    "        self.push_test_values()\n",
    "        self.stack.pop()\n",
    "        self.assertEqual(self.stack.node_count, 2)\n",
    "        self.stack.pop()\n",
    "        self.stack.pop()\n",
    "        self.assertEqual(self.stack.node_count, 0)\n",
    "    \n",
    "    def test_node_at_index(self):\n",
    "        self.push_test_values()\n",
    "        self.assertEqual(self.stack.node_at_index(1).value, 2)\n",
    "        \n",
    "    def test_description(self):\n",
    "        self.push_test_values()\n",
    "        self.assertEqual(self.stack.description(), \"[1, 2, 3]\")\n",
    "    \n",
    "suite = unittest.TestLoader().loadTestsFromModule(Test_Stack())\n",
    "unittest.TextTestRunner().run(suite)"
   ]
  },
  {
   "cell_type": "markdown",
   "metadata": {},
   "source": [
    "### Queues\n",
    "\n",
    "Similar to stacks except FIFO"
   ]
  },
  {
   "cell_type": "code",
   "execution_count": 59,
   "metadata": {
    "collapsed": true
   },
   "outputs": [],
   "source": [
    "class Queue(object):\n",
    "    \n",
    "    def __init__(self):\n",
    "        self.head_node = None\n",
    "        self.tail_node = None\n",
    "        self.node_count = 0\n",
    "        \n",
    "    def enqueue(self, value):\n",
    "        new_node = Node(value)\n",
    "        \n",
    "        if (self.head_node == None):\n",
    "            self.head_node = new_node\n",
    "            self.tail_node = new_node\n",
    "        else:\n",
    "            self.tail_node.append_node(new_node)\n",
    "            self.tail_node = new_node\n",
    "        \n",
    "        self.node_count += 1\n",
    "        \n",
    "    def dequeue(self):\n",
    "        if (self.node_count == 0):\n",
    "            raise Exception(\"nothing to dequeue!\")\n",
    "            \n",
    "        dequeued_node = self.head_node\n",
    "        self.head_node = dequeued_node.next_node\n",
    "        if (self.head_node != None):\n",
    "            self.head_node.previous_node = None\n",
    "        self.node_count -= 1\n",
    "        return dequeued_node\n",
    "        \n",
    "    def node_at_index(self, idx):\n",
    "        if (self.node_count == 0):\n",
    "            raise Exception(\"nothing in here\")\n",
    "        current_node = self.head_node\n",
    "        counter = 0\n",
    "        if (counter == idx): \n",
    "            return current_node\n",
    "    \n",
    "        while (current_node.next_node != None):\n",
    "            current_node = current_node.next_node\n",
    "            counter += 1\n",
    "            if (counter == idx):\n",
    "                return current_node\n",
    "            \n",
    "        raise Exception(\"index {} out of bounds\".format(idx)) \n",
    "    \n",
    "    def description(self):\n",
    "        string = \"\"\n",
    "        current_node = self.head_node\n",
    "        while (current_node != None):\n",
    "            string += str(current_node.value)\n",
    "            current_node = current_node.next_node\n",
    "            if (current_node != None):\n",
    "                string += \", \"\n",
    "\n",
    "        string = \"[\"+string+\"]\"\n",
    "#         print(string)\n",
    "        return string   "
   ]
  },
  {
   "cell_type": "markdown",
   "metadata": {},
   "source": [
    "### Testing our Stack"
   ]
  },
  {
   "cell_type": "code",
   "execution_count": 60,
   "metadata": {
    "collapsed": false
   },
   "outputs": [
    {
     "name": "stderr",
     "output_type": "stream",
     "text": [
      ".....\n",
      "----------------------------------------------------------------------\n",
      "Ran 5 tests in 0.006s\n",
      "\n",
      "OK\n"
     ]
    },
    {
     "data": {
      "text/plain": [
       "<unittest.runner.TextTestResult run=5 errors=0 failures=0>"
      ]
     },
     "execution_count": 60,
     "metadata": {},
     "output_type": "execute_result"
    }
   ],
   "source": [
    "class Test_Queue(unittest.TestCase):\n",
    "    \n",
    "    def setUp(self):\n",
    "        self.queue = Queue()\n",
    "    \n",
    "    def enqueue_test_values(self):\n",
    "        self.queue.enqueue(1)\n",
    "        self.queue.enqueue(2)\n",
    "        self.queue.enqueue(3)\n",
    "    \n",
    "    def test_initializer(self):\n",
    "        self.assertEqual(self.queue.node_count, 0)\n",
    "        \n",
    "    def test_enqueue(self):\n",
    "        self.enqueue_test_values()\n",
    "        self.assertEqual(self.queue.node_count, 3)\n",
    "    \n",
    "    def test_dequeue(self):\n",
    "        self.enqueue_test_values()\n",
    "        self.assertEqual(self.queue.dequeue().value, 1)\n",
    "        self.assertEqual(self.queue.dequeue().value, 2)\n",
    "        self.assertEqual(self.queue.dequeue().value, 3)\n",
    "        \n",
    "    def test_node_at_index(self):\n",
    "        self.enqueue_test_values()\n",
    "        self.assertEqual(self.queue.node_at_index(1).value, 2)\n",
    "    \n",
    "    def test_description(self):\n",
    "        self.enqueue_test_values()\n",
    "        self.assertEqual(self.queue.description(), \"[1, 2, 3]\")\n",
    "    \n",
    "suite = unittest.TestLoader().loadTestsFromModule(Test_Queue())\n",
    "unittest.TextTestRunner().run(suite)"
   ]
  },
  {
   "cell_type": "markdown",
   "metadata": {
    "collapsed": true
   },
   "source": [
    "## Cracking the Coding Interview\n",
    "\n",
    "**2.1** Write Code to remove duplicates from an unsorted linked list.<br> \n",
    "FOLLOW UP<br>\n",
    "How would you solve this problem if a temporary buffer is not allowed?"
   ]
  },
  {
   "cell_type": "code",
   "execution_count": 61,
   "metadata": {
    "collapsed": false
   },
   "outputs": [
    {
     "name": "stdout",
     "output_type": "stream",
     "text": [
      "Stack before: [6, 5, 4, 5, 0, 5, 6, 2, 1, 2]\n",
      "Stack after: [6, 5, 4, 0, 2, 1, 2]\n"
     ]
    }
   ],
   "source": [
    "import random\n",
    "\n",
    "def generate_randomized_stack(value_range=9, stack_size=10):\n",
    "    stack = Stack()\n",
    "    for i in range(stack_size):\n",
    "        random_int = random.randint(0, value_range)\n",
    "        stack.push(random_int)\n",
    "    return stack\n",
    "\n",
    "random_stack = generate_randomized_stack()\n",
    "\n",
    "print(\"Stack before: \" + random_stack.description())\n",
    "\n",
    "def remove_duplicates_from_stack(stack):\n",
    "    current_node = stack.head_node\n",
    "    while (current_node.next_node != None):\n",
    "        runner_node = current_node.next_node\n",
    "        while (runner_node.next_node != None):\n",
    "            if (runner_node.value == current_node.value):\n",
    "                runner_node.next_node.previous_node = runner_node.previous_node\n",
    "                runner_node.previous_node.next_node = runner_node.next_node\n",
    "            \n",
    "            runner_node = runner_node.next_node\n",
    "            \n",
    "        current_node = current_node.next_node\n",
    "\n",
    "remove_duplicates_from_stack(random_stack)\n",
    "\n",
    "print(\"Stack after: \" + random_stack.description())"
   ]
  },
  {
   "cell_type": "markdown",
   "metadata": {},
   "source": [
    "**2.2** Implement an algorithm to find the kth to last elemnt of a singly linked list."
   ]
  },
  {
   "cell_type": "code",
   "execution_count": 78,
   "metadata": {
    "collapsed": false
   },
   "outputs": [
    {
     "name": "stdout",
     "output_type": "stream",
     "text": [
      "[5, 6, 3, 9, 2, 6, 1, 9, 8, 6]\n",
      "4th position value: 1\n"
     ]
    }
   ],
   "source": [
    "# even though this stack is doubly linked\n",
    "# we'll pretend it is singly linked\n",
    "# and no size property\n",
    "random_stack = generate_randomized_stack()\n",
    "\n",
    "print(random_stack.description())\n",
    "\n",
    "def node_for_kth_to_last_index(stack, k):\n",
    "    runner_node = stack.head_node\n",
    "    for i in range(k-1):\n",
    "        runner_node = runner_node.next_node\n",
    "        \n",
    "    current_node = stack.head_node\n",
    "    stack_size = 1\n",
    "    while (runner_node.next_node != None):\n",
    "        stack_size += 1\n",
    "        current_node = current_node.next_node\n",
    "        runner_node = runner_node.next_node\n",
    "    \n",
    "    return current_node\n",
    "    \n",
    "    # O(2n) implementation\n",
    "#     index = stack_size - k\n",
    "    \n",
    "#     if (index < 0):\n",
    "#         raise Exception(\"to far left!\")\n",
    "#     else:\n",
    "#         counter = 0\n",
    "#         current_node = stack.head_node\n",
    "#         while (current_node.next_node != None):\n",
    "#             if (counter == index):\n",
    "#                 return current_node\n",
    "#             counter += 1\n",
    "#             current_node = current_node.next_node\n",
    "#     raise Exception(\"nothing found\")\n",
    "\n",
    "the_node = node_for_kth_to_last_index(random_stack, 4) # which means 4th to last, or 6th in a list of 10\n",
    "print(\"4th position value: {}\".format(the_node.value))"
   ]
  },
  {
   "cell_type": "markdown",
   "metadata": {
    "collapsed": true
   },
   "source": [
    "**2.3** Implement an algorithm to delete a node in the middle of a singly linked list, given only acess to that node.<br>\n",
    "EXAMPLE<br>\n",
    "Input: the code c from the linked list a->b->c->d->e<br>\n",
    "Result: nothing is returned, but the new linked list looks like a->b->c->d->d"
   ]
  },
  {
   "cell_type": "code",
   "execution_count": null,
   "metadata": {
    "collapsed": true
   },
   "outputs": [],
   "source": []
  }
 ],
 "metadata": {
  "kernelspec": {
   "display_name": "Python 3",
   "language": "python",
   "name": "python3"
  },
  "language_info": {
   "codemirror_mode": {
    "name": "ipython",
    "version": 3
   },
   "file_extension": ".py",
   "mimetype": "text/x-python",
   "name": "python",
   "nbconvert_exporter": "python",
   "pygments_lexer": "ipython3",
   "version": "3.5.2"
  }
 },
 "nbformat": 4,
 "nbformat_minor": 1
}
