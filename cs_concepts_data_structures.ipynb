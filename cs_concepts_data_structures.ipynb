{
 "cells": [
  {
   "cell_type": "markdown",
   "metadata": {},
   "source": [
    "# Data Structures\n",
    "\n",
    "### A Node"
   ]
  },
  {
   "cell_type": "code",
   "execution_count": 3,
   "metadata": {
    "collapsed": false
   },
   "outputs": [],
   "source": [
    "class Node(object):\n",
    "    \n",
    "    def __init__(self, value):\n",
    "        self.value = value\n",
    "        self.next_node = None\n",
    "        self.previous_node = None\n",
    "        \n",
    "    def append_node(self, node):\n",
    "        self.next_node = node\n",
    "        self.next_node.previous_node = self"
   ]
  },
  {
   "cell_type": "markdown",
   "metadata": {},
   "source": [
    "### Stacks\n",
    "\n",
    "LIFO"
   ]
  },
  {
   "cell_type": "code",
   "execution_count": 109,
   "metadata": {
    "collapsed": false
   },
   "outputs": [],
   "source": [
    "class Stack(object):\n",
    "    \n",
    "    def __init__(self):\n",
    "        self.head_node = None\n",
    "        self.tail_node = None\n",
    "        self.node_count = 0\n",
    "    \n",
    "    def push(self, value):\n",
    "        new_node = Node(value)\n",
    "        \n",
    "        if (self.head_node == None):\n",
    "            self.head_node = new_node\n",
    "            self.tail_node = new_node\n",
    "        else:\n",
    "            new_node.append_node(self.head_node)\n",
    "            self.head_node = new_node\n",
    "        \n",
    "        self.node_count += 1\n",
    "        \n",
    "    def pop(self):\n",
    "        if (self.node_count == 0):\n",
    "            raise Exception(\"nothing to pop!\")\n",
    "        \n",
    "        popped_node = None\n",
    "        \n",
    "        if (self.head_node == self.tail_node):\n",
    "            self.head_node = None\n",
    "            self.tail_node = None\n",
    "        else:\n",
    "            popped_node = self.head_node\n",
    "            self.head_node = self.head_node.next_node\n",
    "            self.head_node.previous_node = None\n",
    "            \n",
    "        self.node_count -= 1\n",
    "        \n",
    "        return popped_node\n",
    "    \n",
    "    def node_at_index(self, idx):\n",
    "        if (self.node_count == 0):\n",
    "            raise Exception(\"nothing in here\")\n",
    "        current_node = self.head_node\n",
    "        counter = 0\n",
    "        if (counter == idx): \n",
    "            return current_node\n",
    "    \n",
    "        while (current_node.next_node != None):\n",
    "            current_node = current_node.next_node\n",
    "            counter += 1\n",
    "            if (counter == idx):\n",
    "                return current_node\n",
    "            \n",
    "        raise Exception(\"index {} out of bounds\".format(idx)) \n",
    "    \n",
    "    def description(self):\n",
    "        string = \"\"\n",
    "        current_node = self.head_node\n",
    "        while (current_node != None):\n",
    "            string += str(current_node.value)\n",
    "            current_node = current_node.next_node\n",
    "            if (current_node != None):\n",
    "                string += \", \"\n",
    "\n",
    "        string = \"[\"+string+\"]\"\n",
    "#         print(string)\n",
    "        return string   "
   ]
  },
  {
   "cell_type": "markdown",
   "metadata": {},
   "source": [
    "### Testing our Stack"
   ]
  },
  {
   "cell_type": "code",
   "execution_count": 5,
   "metadata": {
    "collapsed": false
   },
   "outputs": [
    {
     "name": "stderr",
     "output_type": "stream",
     "text": [
      ".....\n",
      "----------------------------------------------------------------------\n",
      "Ran 5 tests in 0.006s\n",
      "\n",
      "OK\n"
     ]
    },
    {
     "data": {
      "text/plain": [
       "<unittest.runner.TextTestResult run=5 errors=0 failures=0>"
      ]
     },
     "execution_count": 5,
     "metadata": {},
     "output_type": "execute_result"
    }
   ],
   "source": [
    "import unittest\n",
    "\n",
    "class Test_Stack(unittest.TestCase):\n",
    "    \n",
    "    def setUp(self):\n",
    "        self.stack = Stack()\n",
    "    \n",
    "    def tearDown(self):\n",
    "        self.stack = None\n",
    "    \n",
    "    def push_test_values(self):\n",
    "        self.stack.push(1)\n",
    "        self.stack.push(2)\n",
    "        self.stack.push(3)\n",
    "    \n",
    "    def test_initializer(self):\n",
    "        self.assertEqual(self.stack.node_count, 0)\n",
    "        \n",
    "    def test_push(self):\n",
    "        self.push_test_values()\n",
    "        self.assertEqual(self.stack.node_count, 3)\n",
    "        self.assertEqual(self.stack.head_node.value, 3)\n",
    "        self.stack.push(4)\n",
    "        self.assertEqual(self.stack.head_node.value, 4)\n",
    "    \n",
    "    def test_pop(self):\n",
    "        self.push_test_values()\n",
    "        self.stack.pop()\n",
    "        self.assertEqual(self.stack.node_count, 2)\n",
    "        self.assertEqual(self.stack.head_node.value, 2)\n",
    "        self.stack.pop()\n",
    "        self.assertEqual(self.stack.head_node.value, 1)\n",
    "        self.stack.pop()\n",
    "        self.assertEqual(self.stack.node_count, 0)\n",
    "    \n",
    "    def test_node_at_index(self):\n",
    "        self.push_test_values()\n",
    "        self.assertEqual(self.stack.node_at_index(1).value, 2)\n",
    "        \n",
    "    def test_description(self):\n",
    "        self.push_test_values()\n",
    "        self.assertEqual(self.stack.description(), \"[3, 2, 1]\")\n",
    "    \n",
    "suite = unittest.TestLoader().loadTestsFromModule(Test_Stack())\n",
    "unittest.TextTestRunner().run(suite)"
   ]
  },
  {
   "cell_type": "markdown",
   "metadata": {},
   "source": [
    "### Queues\n",
    "\n",
    "Similar to stacks except FIFO"
   ]
  },
  {
   "cell_type": "code",
   "execution_count": 6,
   "metadata": {
    "collapsed": true
   },
   "outputs": [],
   "source": [
    "class Queue(object):\n",
    "    \n",
    "    def __init__(self):\n",
    "        self.head_node = None\n",
    "        self.tail_node = None\n",
    "        self.node_count = 0\n",
    "        \n",
    "    def enqueue(self, value):\n",
    "        new_node = Node(value)\n",
    "        \n",
    "        if (self.head_node == None):\n",
    "            self.head_node = new_node\n",
    "            self.tail_node = new_node\n",
    "        else:\n",
    "            self.tail_node.append_node(new_node)\n",
    "            self.tail_node = new_node\n",
    "        \n",
    "        self.node_count += 1\n",
    "        \n",
    "    def dequeue(self):\n",
    "        if (self.node_count == 0):\n",
    "            raise Exception(\"nothing to dequeue!\")\n",
    "            \n",
    "        dequeued_node = self.head_node\n",
    "        self.head_node = dequeued_node.next_node\n",
    "        if (self.head_node != None):\n",
    "            self.head_node.previous_node = None\n",
    "        self.node_count -= 1\n",
    "        return dequeued_node\n",
    "        \n",
    "    def node_at_index(self, idx):\n",
    "        if (self.node_count == 0):\n",
    "            raise Exception(\"nothing in here\")\n",
    "        current_node = self.head_node\n",
    "        counter = 0\n",
    "        if (counter == idx): \n",
    "            return current_node\n",
    "    \n",
    "        while (current_node.next_node != None):\n",
    "            current_node = current_node.next_node\n",
    "            counter += 1\n",
    "            if (counter == idx):\n",
    "                return current_node\n",
    "            \n",
    "        raise Exception(\"index {} out of bounds\".format(idx)) \n",
    "    \n",
    "    def description(self):\n",
    "        string = \"\"\n",
    "        current_node = self.head_node\n",
    "        while (current_node != None):\n",
    "            string += str(current_node.value)\n",
    "            current_node = current_node.next_node\n",
    "            if (current_node != None):\n",
    "                string += \", \"\n",
    "\n",
    "        string = \"[\"+string+\"]\"\n",
    "#         print(string)\n",
    "        return string   "
   ]
  },
  {
   "cell_type": "markdown",
   "metadata": {},
   "source": [
    "### Testing our Queue"
   ]
  },
  {
   "cell_type": "code",
   "execution_count": 7,
   "metadata": {
    "collapsed": false
   },
   "outputs": [
    {
     "name": "stderr",
     "output_type": "stream",
     "text": [
      ".....\n",
      "----------------------------------------------------------------------\n",
      "Ran 5 tests in 0.004s\n",
      "\n",
      "OK\n"
     ]
    },
    {
     "data": {
      "text/plain": [
       "<unittest.runner.TextTestResult run=5 errors=0 failures=0>"
      ]
     },
     "execution_count": 7,
     "metadata": {},
     "output_type": "execute_result"
    }
   ],
   "source": [
    "class Test_Queue(unittest.TestCase):\n",
    "    \n",
    "    def setUp(self):\n",
    "        self.queue = Queue()\n",
    "    \n",
    "    def enqueue_test_values(self):\n",
    "        self.queue.enqueue(1)\n",
    "        self.queue.enqueue(2)\n",
    "        self.queue.enqueue(3)\n",
    "    \n",
    "    def test_initializer(self):\n",
    "        self.assertEqual(self.queue.node_count, 0)\n",
    "        \n",
    "    def test_enqueue(self):\n",
    "        self.enqueue_test_values()\n",
    "        self.assertEqual(self.queue.node_count, 3)\n",
    "    \n",
    "    def test_dequeue(self):\n",
    "        self.enqueue_test_values()\n",
    "        self.assertEqual(self.queue.dequeue().value, 1)\n",
    "        self.assertEqual(self.queue.dequeue().value, 2)\n",
    "        self.assertEqual(self.queue.dequeue().value, 3)\n",
    "        \n",
    "    def test_node_at_index(self):\n",
    "        self.enqueue_test_values()\n",
    "        self.assertEqual(self.queue.node_at_index(1).value, 2)\n",
    "    \n",
    "    def test_description(self):\n",
    "        self.enqueue_test_values()\n",
    "        self.assertEqual(self.queue.description(), \"[1, 2, 3]\")\n",
    "    \n",
    "suite = unittest.TestLoader().loadTestsFromModule(Test_Queue())\n",
    "unittest.TextTestRunner().run(suite)"
   ]
  },
  {
   "cell_type": "markdown",
   "metadata": {},
   "source": [
    "## Cracking the Coding Interview"
   ]
  },
  {
   "cell_type": "code",
   "execution_count": 8,
   "metadata": {
    "collapsed": true
   },
   "outputs": [],
   "source": [
    "import random\n",
    "\n",
    "# Helper function\n",
    "def generate_randomized_stack(value_range=9, stack_size=10):\n",
    "    stack = Stack()\n",
    "    for i in range(stack_size):\n",
    "        random_int = random.randint(0, value_range)\n",
    "        stack.push(random_int)\n",
    "    return stack"
   ]
  },
  {
   "cell_type": "markdown",
   "metadata": {
    "collapsed": true
   },
   "source": [
    "**2.1** Write Code to remove duplicates from an unsorted linked list.<br> \n",
    "FOLLOW UP<br>\n",
    "How would you solve this problem if a temporary buffer is not allowed?"
   ]
  },
  {
   "cell_type": "code",
   "execution_count": 9,
   "metadata": {
    "collapsed": false
   },
   "outputs": [
    {
     "name": "stdout",
     "output_type": "stream",
     "text": [
      "Stack before: [0, 9, 8, 3, 1, 6, 6, 1, 2, 5]\n",
      "Stack after: [0, 9, 8, 3, 1, 6, 2]\n"
     ]
    }
   ],
   "source": [
    "random_stack = generate_randomized_stack()\n",
    "print(\"Stack before: \" + random_stack.description())\n",
    "\n",
    "def remove_duplicates_from_stack(stack):\n",
    "    current_node = stack.head_node\n",
    "    runner_node = None\n",
    "    while (current_node.next_node != None):\n",
    "        runner_node = current_node.next_node\n",
    "        while (runner_node.next_node != None):\n",
    "            if (runner_node.value == current_node.value):\n",
    "                runner_node.next_node.previous_node = runner_node.previous_node\n",
    "                runner_node.previous_node.next_node = runner_node.next_node\n",
    "                \n",
    "            runner_node = runner_node.next_node\n",
    "            \n",
    "        current_node = current_node.next_node\n",
    "        \n",
    "    if (runner_node.next_node == None):\n",
    "        # bug for the last duplicate item\n",
    "        # we'll handle this now here\n",
    "        if (runner_node.value == current_node.value):\n",
    "            runner_node.previous_node.next_node = None\n",
    "            runner_node.previous_node = None\n",
    "\n",
    "remove_duplicates_from_stack(random_stack)\n",
    "\n",
    "print(\"Stack after: \" + random_stack.description())"
   ]
  },
  {
   "cell_type": "markdown",
   "metadata": {},
   "source": [
    "**2.2** Implement an algorithm to find the kth to last elemnt of a singly linked list."
   ]
  },
  {
   "cell_type": "code",
   "execution_count": 10,
   "metadata": {
    "collapsed": false
   },
   "outputs": [
    {
     "name": "stdout",
     "output_type": "stream",
     "text": [
      "[5, 9, 2, 8, 3, 3, 2, 6, 0, 7]\n",
      "4th position value: 2\n"
     ]
    }
   ],
   "source": [
    "# even though this stack is doubly linked\n",
    "# we'll pretend it is singly linked\n",
    "# and no size property\n",
    "random_stack = generate_randomized_stack()\n",
    "\n",
    "print(random_stack.description())\n",
    "\n",
    "def node_for_kth_to_last_index(stack, k):\n",
    "    runner_node = stack.head_node\n",
    "    for i in range(k-1):\n",
    "        runner_node = runner_node.next_node\n",
    "        \n",
    "    current_node = stack.head_node\n",
    "    stack_size = 1\n",
    "    while (runner_node.next_node != None):\n",
    "        stack_size += 1\n",
    "        current_node = current_node.next_node\n",
    "        runner_node = runner_node.next_node\n",
    "    \n",
    "    return current_node\n",
    "    \n",
    "    # O(2n) implementation\n",
    "#     index = stack_size - k\n",
    "    \n",
    "#     if (index < 0):\n",
    "#         raise Exception(\"to far left!\")\n",
    "#     else:\n",
    "#         counter = 0\n",
    "#         current_node = stack.head_node\n",
    "#         while (current_node.next_node != None):\n",
    "#             if (counter == index):\n",
    "#                 return current_node\n",
    "#             counter += 1\n",
    "#             current_node = current_node.next_node\n",
    "#     raise Exception(\"nothing found\")\n",
    "\n",
    "the_node = node_for_kth_to_last_index(random_stack, 4) # which means 4th to last, or 6th in a list of 10\n",
    "print(\"4th position value: {}\".format(the_node.value))"
   ]
  },
  {
   "cell_type": "markdown",
   "metadata": {
    "collapsed": true
   },
   "source": [
    "**2.3** Implement an algorithm to delete a node in the middle of a singly linked list, given only acess to that node.<br>\n",
    "EXAMPLE<br>\n",
    "Input: the code c from the linked list a → b → c → d → e<br>\n",
    "Result: nothing is returned, but the new linked list looks like a → b → c → d\n"
   ]
  },
  {
   "cell_type": "code",
   "execution_count": 11,
   "metadata": {
    "collapsed": false
   },
   "outputs": [
    {
     "name": "stdout",
     "output_type": "stream",
     "text": [
      "Stack before: [1, 9, 3, 6, 2, 3, 3, 5, 7]\n",
      "Stack after: [1, 9, 3, 6, 3, 3, 5, 7]\n"
     ]
    }
   ],
   "source": [
    "random_stack = generate_randomized_stack(stack_size=9)\n",
    "print(\"Stack before: \" + random_stack.description())\n",
    "\n",
    "def get_middle_node(stack):\n",
    "    current_node = stack.head_node\n",
    "    counter = 0\n",
    "    while (current_node.next_node != None):\n",
    "        counter += 1\n",
    "        current_node = current_node.next_node\n",
    "    if (counter % 2 != 0):\n",
    "        raise Exception(\"even amount of items in array\")\n",
    "    \n",
    "    return node_for_kth_to_last_index(stack, int(counter / 2) + 1)\n",
    "\n",
    "def remove_middle_node(stack):\n",
    "    middle_node = get_middle_node(stack)\n",
    "    middle_node.next_node.previous_node = middle_node.previous_node\n",
    "    middle_node.previous_node.next_node = middle_node.next_node\n",
    "    \n",
    "remove_middle_node(random_stack)\n",
    "print(\"Stack after: \" + random_stack.description())\n"
   ]
  },
  {
   "cell_type": "markdown",
   "metadata": {},
   "source": [
    "**2.4** Write code to partition a linked list around a value x, such that all nodes less than x comes before all nodes greater than or equal to x."
   ]
  },
  {
   "cell_type": "code",
   "execution_count": 12,
   "metadata": {
    "collapsed": false
   },
   "outputs": [
    {
     "name": "stdout",
     "output_type": "stream",
     "text": [
      "Stack before: [5, 8, 1, 9, 7, 9, 2, 3, 5, 4]\n",
      "Stack after: [4, 5, 3, 2, 1, 5, 9, 7, 9, 8]\n"
     ]
    }
   ],
   "source": [
    "random_stack = generate_randomized_stack()\n",
    "print(\"Stack before: \" + random_stack.description())\n",
    "\n",
    "def partition_stack_around_value(stack, pivot):\n",
    "    lower_stack = Stack()\n",
    "    higher_stack = Stack()\n",
    "    \n",
    "    current_node = stack.head_node\n",
    "    while(current_node != None):\n",
    "        if (current_node.value < pivot):\n",
    "            lower_stack.push(current_node.value)\n",
    "        else:\n",
    "            higher_stack.push(current_node.value)\n",
    "        current_node = current_node.next_node\n",
    "            \n",
    "    lower_stack.tail_node.append_node(higher_stack.head_node)\n",
    "    return lower_stack\n",
    "    \n",
    "partitioned_stack = partition_stack_around_value(random_stack, 6)\n",
    "print(\"Stack after: \" + partitioned_stack.description())"
   ]
  },
  {
   "cell_type": "markdown",
   "metadata": {},
   "source": [
    "**2.5.** You have two numbers represented by a linked list, where each node contains a single digit. The digits are stored in reverse order, such that the 1's digit is at the head of the list. Write a function that adds the two numbers and returns the sum as a linked list.<br>\n",
    "EXAMPLE<br>\n",
    "Input: (7 → 1 → 6) + (5 → 9 → 2). that is, 617 + 295.<br>\n",
    "Output: 2 → 1 → 9. That is, 912.<br>\n",
    "FOLLOW UP<br>\n",
    "Suppose the digits are stored in forward order. Repeat the above problem.<br>\n",
    "EXAMPLE<br>\n",
    "Input: (6 → 1 → 7) + (2 → 9 → 5). That is, 617 + 295.<br>\n",
    "Output: 9 → 1 → 2. That is 912.\n"
   ]
  },
  {
   "cell_type": "code",
   "execution_count": 13,
   "metadata": {
    "collapsed": false
   },
   "outputs": [
    {
     "name": "stdout",
     "output_type": "stream",
     "text": [
      "First stack: [2, 2, 8]\n",
      "Second stack: [2, 9, 9]\n",
      "Reversed summation result: 1814\n",
      "Forward summation result: 527\n"
     ]
    }
   ],
   "source": [
    "first_stack = generate_randomized_stack(stack_size=3)\n",
    "second_stack = generate_randomized_stack(stack_size=3)\n",
    "print(\"First stack: \" + first_stack.description())\n",
    "print(\"Second stack: \" + second_stack.description())\n",
    "\n",
    "# Assumption that at most, we will only need to carry a 1 over\n",
    "# Assuming that both nodes have the same node count\n",
    "def sum_of_nodes(node_1, node_2):\n",
    "    return node_1.value + node_2.value\n",
    "\n",
    "def recursive_sum_of_nodes(node_1, node_2, stack_count, current_count=0):\n",
    "    summation = 0\n",
    "    current_count += 1\n",
    "    \n",
    "    multiplier = (10 ** (stack_count - current_count))\n",
    "#     print(multiplier)\n",
    "    \n",
    "    if (node_1.next_node == None):\n",
    "        return (node_1.value + node_2.value) * multiplier\n",
    "    else:\n",
    "        \n",
    "        summation += (node_1.value + node_2.value) * multiplier + recursive_sum_of_nodes(node_1.next_node, node_2.next_node, stack_count, current_count)\n",
    "        \n",
    "    return summation\n",
    "\n",
    "def sum_stack_values(stack_1, stack_2, forward=True):\n",
    "    current_node_stack_1 = stack_1.head_node\n",
    "    current_node_stack_2 = stack_2.head_node\n",
    "    carry_over = 0\n",
    "    sum_string = \"\"\n",
    "    \n",
    "    if (forward == False):\n",
    "        while(current_node_stack_1 != None):\n",
    "            \n",
    "            current_sum = sum_of_nodes(current_node_stack_1, current_node_stack_2)\n",
    "            current_sum += carry_over\n",
    "            \n",
    "            carry_over = current_sum // 10 # we want the 10's place value to carry over\n",
    "            \n",
    "            current_value = current_sum % 10\n",
    "            \n",
    "            sum_string = str(current_value) + sum_string\n",
    "            \n",
    "            current_node_stack_1 = current_node_stack_1.next_node\n",
    "            current_node_stack_2 = current_node_stack_2.next_node\n",
    "            \n",
    "        if (carry_over == 1): # the last carry over\n",
    "            sum_string = str(carry_over) + sum_string\n",
    "        \n",
    "    else:\n",
    "        # Recursion?\n",
    "        stack_count = 0\n",
    "        current_node = current_node_stack_1\n",
    "        while(current_node != None):\n",
    "            stack_count += 1\n",
    "            current_node = current_node.next_node\n",
    "\n",
    "        sum_string = str(recursive_sum_of_nodes(current_node_stack_1, current_node_stack_2, stack_count, 0))\n",
    "        \n",
    "    return sum_string\n",
    "\n",
    "summation_reverse = sum_stack_values(first_stack, second_stack, forward=False)\n",
    "print(\"Reversed summation result: \" + summation_reverse)\n",
    "\n",
    "summation_forward = sum_stack_values(first_stack, second_stack)\n",
    "print(\"Forward summation result: \" + summation_forward)"
   ]
  },
  {
   "cell_type": "markdown",
   "metadata": {},
   "source": [
    "**2.6** Given a circular linked list, implement an algorithm which returns the node at the beginning of the loop.<br>\n",
    "DEFINITION<br>\n",
    "Circular linked list: A (corrupt) linked list in which a node's next pointer points to an earlier node, so as to make a looop in the linked list.<br>\n",
    "EXAMPLE<br>\n",
    "Input: A → B → C → D → E → C<br>\n",
    "Output: C\n"
   ]
  },
  {
   "cell_type": "code",
   "execution_count": 97,
   "metadata": {
    "collapsed": false
   },
   "outputs": [
    {
     "name": "stdout",
     "output_type": "stream",
     "text": [
      "Your list: [1, 3, 3, 9, 4]\n",
      "Last node is looped with node at index: 3\n",
      "Reduant node value: 9\n",
      "<__main__.Node object at 0x1049c5208>\n",
      "Retrieved reduant node value: 9\n",
      "<__main__.Node object at 0x1049c5208>\n"
     ]
    }
   ],
   "source": [
    "def generate_circular_linked_list(list_size=5):\n",
    "    linked_list = generate_randomized_stack(stack_size=list_size)\n",
    "    random_position = random.randint(0, list_size - 2) # subtract 1 more because we don't want to use the last position\n",
    "    count = 0\n",
    "    current_node = linked_list.head_node\n",
    "    while (count != random_position):\n",
    "        current_node = current_node.next_node\n",
    "        count += 1\n",
    "    \n",
    "    print(\"Your list: \" + linked_list.description())\n",
    "    \n",
    "    linked_list.tail_node.next_node = current_node\n",
    "    \n",
    "    print(\"Last node is looped with node at index: {}\".format(random_position))\n",
    "    \n",
    "    return linked_list, current_node\n",
    "    \n",
    "circular_linked_list, redudant_node = generate_circular_linked_list()\n",
    "\n",
    "def find_redudant_node(circular_linked_list):\n",
    "    runner_1 = circular_linked_list.head_node\n",
    "    runner_2 = runner_1\n",
    "    while (runner_1 != None):\n",
    "        \n",
    "        runner_1 = runner_1.next_node\n",
    "        runner_2 = runner_2.next_node.next_node\n",
    "        \n",
    "        if (runner_1 == runner_2):\n",
    "            break\n",
    "    \n",
    "    runner_3 = circular_linked_list.head_node\n",
    "    while (runner_3 != runner_1):\n",
    "        runner_3 = runner_3.next_node\n",
    "        runner_1 = runner_1.next_node\n",
    "        \n",
    "    return runner_1\n",
    "        \n",
    "        \n",
    "retrieved_redundant_node = find_redudant_node(circular_linked_list)\n",
    "\n",
    "print(\"Reduant node value: \" + str(redudant_node.value))\n",
    "print(redudant_node)\n",
    "print(\"Retrieved reduant node value: \" + str(retrieved_redundant_node.value))\n",
    "print(retrieved_redundant_node)"
   ]
  },
  {
   "cell_type": "markdown",
   "metadata": {},
   "source": [
    "**In depth**\n",
    "\n",
    "Given a circular linked list: A → B → C → D → E → F → G → H → I → D<br>\n",
    "**k = 3** <i>(Steps between start of list and start of loop)</i><br>\n",
    "**LOOP_SIZE = 7**<br>\n",
    "<br>\n",
    "First we determine their collision point, where Runner 1 is taking 1 step, and Runner 2 is taking 2 steps.\n",
    "\n",
    "| Step # | Runner 1 | Runner 2 |\n",
    "|:---:|:---:|:---:|\n",
    "| Start | A | A |\n",
    "| 1 | B | D |\n",
    "| 2 | C | F | \n",
    "| 3 | D | H |\n",
    "| 4 | E | C |\n",
    "| 5 | F | E |\n",
    "| 6 | G | G |\n",
    "\n",
    "We find that both pointers meet at Node G after 6 steps.<br>\n",
    "Node G is also 4 steps away from the the start of the loop, which we can calculate from **K = mod(k, LOOP_SIZE)**.\n",
    "\n",
    "To find the start of the loop we can move Runner 2 back to the start of the list, but this time taking 1 step.\n",
    "Both Runner 1 and Runner 2 are now K steps away from the start of the loop, and when we run them, the next time they will meet (in K - 1 steps) will indicate the start of the loop.\n",
    "\n",
    "| Step # | Runner 1 | Runner 2 |\n",
    "|:---:|:---:|:---:|\n",
    "| Start | A | G |\n",
    "| 1 | B | H |\n",
    "| 2 | C | I | \n",
    "| 3 | D | D |\n",
    "\n"
   ]
  },
  {
   "cell_type": "markdown",
   "metadata": {},
   "source": [
    "**2.7** Implement a function to check if a linked list is a palindrome."
   ]
  },
  {
   "cell_type": "code",
   "execution_count": 116,
   "metadata": {
    "collapsed": false
   },
   "outputs": [],
   "source": [
    "# Helper to generate palindromes\n",
    "def generate_palindrome_list(list_size=5):\n",
    "    half_size = list_size // 2\n",
    "    first_half_list = generate_randomized_stack(stack_size=half_size)\n",
    "    \n",
    "    second_half_list = Stack()\n",
    "    current_node = first_half_list.head_node\n",
    "    while(current_node != None):\n",
    "        second_half_list.push(current_node.value)\n",
    "        current_node = current_node.next_node    \n",
    "    \n",
    "    if (list_size % 2 == 1):\n",
    "        center_node = generate_randomized_stack(stack_size=1).head_node\n",
    "        center_node.previous_node = first_half_list.tail_node\n",
    "        first_half_list.tail_node.next_node = center_node\n",
    "        first_half_list.tail_node = center_node\n",
    "  \n",
    "    first_half_list.tail_node.next_node = second_half_list.head_node\n",
    "    second_half_list.head_node.previous_node = first_half_list.tail_node\n",
    "    first_half_list.tail_node = second_half_list.tail_node\n",
    "    \n",
    "    first_half_list.node_count = list_size\n",
    "    \n",
    "    return first_half_list\n"
   ]
  },
  {
   "cell_type": "code",
   "execution_count": 128,
   "metadata": {
    "collapsed": false
   },
   "outputs": [
    {
     "name": "stdout",
     "output_type": "stream",
     "text": [
      "[4, 2, 6, 2, 4] is a palidrome?\n",
      "True\n"
     ]
    }
   ],
   "source": [
    "palindrome_list = generate_palindrome_list()\n",
    "\n",
    "def is_palindrome(palindrome_list):\n",
    "    \n",
    "    half_count = palindrome_list.node_count // 2\n",
    "    \n",
    "    front_runner = palindrome_list.head_node\n",
    "    back_runner = palindrome_list.tail_node\n",
    "    \n",
    "    # We're just going to take advantage of a doubly linked list here\n",
    "    step_count = 0\n",
    "    while (step_count != half_count):\n",
    "        \n",
    "        if (front_runner.value != back_runner.value):\n",
    "            return False\n",
    "        \n",
    "        front_runner = front_runner.next_node\n",
    "        back_runner = back_runner.previous_node\n",
    "        step_count += 1\n",
    "        \n",
    "    return True\n",
    "\n",
    "print(palindrome_list.description() + \" is a palidrome?\")\n",
    "print(is_palindrome(palindrome_list))"
   ]
  },
  {
   "cell_type": "markdown",
   "metadata": {},
   "source": [
    "## Unit Testing Chapter 2 Questions"
   ]
  },
  {
   "cell_type": "code",
   "execution_count": 129,
   "metadata": {
    "collapsed": false
   },
   "outputs": [
    {
     "name": "stderr",
     "output_type": "stream",
     "text": [
      "......."
     ]
    },
    {
     "name": "stdout",
     "output_type": "stream",
     "text": [
      "Your list: [0, 4, 4, 7, 2]\n",
      "Last node is looped with node at index: 3\n"
     ]
    },
    {
     "name": "stderr",
     "output_type": "stream",
     "text": [
      "\n",
      "----------------------------------------------------------------------\n",
      "Ran 7 tests in 0.006s\n",
      "\n",
      "OK\n"
     ]
    },
    {
     "data": {
      "text/plain": [
       "<unittest.runner.TextTestResult run=7 errors=0 failures=0>"
      ]
     },
     "execution_count": 129,
     "metadata": {},
     "output_type": "execute_result"
    }
   ],
   "source": [
    "class Test_Cracking_Code_Chapter_2_Questions(unittest.TestCase):\n",
    "    \n",
    "    def setUp(self):\n",
    "        stack = Stack()\n",
    "        stack.push(1)\n",
    "        stack.push(2)\n",
    "        stack.push(3)\n",
    "        stack.push(4)\n",
    "        stack.push(1)\n",
    "        stack.push(2)\n",
    "        stack.push(3)\n",
    "        stack.push(4)\n",
    "        stack.push(1)\n",
    "        stack.push(2)\n",
    "        stack.push(3)\n",
    "        self.stack = stack\n",
    "        \n",
    "    def tearDown(self):\n",
    "        self.stack = None\n",
    "        \n",
    "    def test_2_1(self):\n",
    "        remove_duplicates_from_stack(self.stack)\n",
    "        self.assertEqual(self.stack.description(), \"[3, 2, 1, 4]\")\n",
    "        \n",
    "    def test_2_2(self):\n",
    "        the_node = node_for_kth_to_last_index(self.stack, 4)\n",
    "        self.assertEqual(the_node.value, 4)\n",
    "        \n",
    "    def test_2_3(self):\n",
    "        remove_middle_node(self.stack)\n",
    "        self.assertEqual(self.stack.description(), \"[3, 2, 1, 4, 3, 1, 4, 3, 2, 1]\")\n",
    "    \n",
    "    def test_2_4(self):\n",
    "        partitioned_stack = partition_stack_around_value(self.stack, 3)\n",
    "        self.assertEqual(partitioned_stack.description(), \"[1, 2, 1, 2, 1, 2, 3, 4, 3, 4, 3]\")\n",
    "        \n",
    "    def test_2_5(self):\n",
    "        # Input: (7 → 1 → 6) + (5 → 9 → 2). that is, 617 + 295.\n",
    "        # Output: 2 → 1 → 9. That is, 912.\n",
    "        stack_1 = Stack()\n",
    "        stack_1.push(6)\n",
    "        stack_1.push(1)\n",
    "        stack_1.push(7)\n",
    "        \n",
    "        stack_2 = Stack()\n",
    "        stack_2.push(2)\n",
    "        stack_2.push(9)\n",
    "        stack_2.push(5)\n",
    "        \n",
    "        summation_reverse = sum_stack_values(stack_1, stack_2, forward=False)\n",
    "        self.assertEqual(summation_reverse, \"912\")\n",
    "        \n",
    "        # Input: (6 → 1 → 7) + (2 → 9 → 5). That is, 617 + 295.\n",
    "        # Output: 9 → 1 → 2. That is 912.\n",
    "        stack_3 = Stack()\n",
    "        stack_3.push(7)\n",
    "        stack_3.push(1)\n",
    "        stack_3.push(6)\n",
    "        \n",
    "        stack_4 = Stack()\n",
    "        stack_4.push(5)\n",
    "        stack_4.push(9)\n",
    "        stack_4.push(2)\n",
    "        \n",
    "        summation_forward = sum_stack_values(stack_3, stack_4)\n",
    "        self.assertEqual(summation_forward, \"912\")\n",
    "        \n",
    "    def test_2_6(self):\n",
    "        circular_linked_list, redudant_node = generate_circular_linked_list()\n",
    "        retrieved_redundant_node = find_redudant_node(circular_linked_list)\n",
    "        self.assertEqual(redudant_node.value, retrieved_redundant_node.value)\n",
    "        \n",
    "    def test_2_7(self):\n",
    "        self.assertEqual(is_palindrome(self.stack), False)\n",
    "        \n",
    "suite = unittest.TestLoader().loadTestsFromModule(Test_Cracking_Code_Chapter_2_Questions())\n",
    "unittest.TextTestRunner().run(suite)"
   ]
  },
  {
   "cell_type": "code",
   "execution_count": null,
   "metadata": {
    "collapsed": true
   },
   "outputs": [],
   "source": []
  }
 ],
 "metadata": {
  "kernelspec": {
   "display_name": "Python 3",
   "language": "python",
   "name": "python3"
  },
  "language_info": {
   "codemirror_mode": {
    "name": "ipython",
    "version": 3
   },
   "file_extension": ".py",
   "mimetype": "text/x-python",
   "name": "python",
   "nbconvert_exporter": "python",
   "pygments_lexer": "ipython3",
   "version": "3.5.2"
  }
 },
 "nbformat": 4,
 "nbformat_minor": 1
}
