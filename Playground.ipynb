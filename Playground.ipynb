{
 "cells": [
  {
   "cell_type": "code",
   "execution_count": 1,
   "metadata": {},
   "outputs": [],
   "source": [
    "%load_ext autoreload\n",
    "%autoreload 2"
   ]
  },
  {
   "cell_type": "code",
   "execution_count": 88,
   "metadata": {},
   "outputs": [],
   "source": [
    "from data_structure.linked_list import LinkedList\n",
    "from data_structure.stack import Stack\n",
    "from data_structure.queue import Queue\n",
    "from data_structure.helper import generate_randomized_stack\n",
    "from data_structure.binary_search_tree import BinarySearchTree\n",
    "from data_structure.avl_tree import AVLTree\n",
    "from data_structure.graph_adjacency_list import GraphAdjacencyList\n",
    "from data_structure.graph_edge import EdgeType\n",
    "from data_structure.trie import Trie\n",
    "\n",
    "from sort_algorithms.helper import generate_random_array\n",
    "from sort_algorithms.bubble_sort import bubble_sort\n",
    "from sort_algorithms.selection_sort import selection_sort\n",
    "from sort_algorithms.merge_sort import merge_sort\n",
    "from sort_algorithms.quick_sort import quick_sort_naive, quick_sort_lomuto, quick_sort_median\n",
    "\n",
    "import random\n",
    "from random import randint\n",
    "import unittest"
   ]
  },
  {
   "cell_type": "code",
   "execution_count": 64,
   "metadata": {},
   "outputs": [
    {
     "name": "stdout",
     "output_type": "stream",
     "text": [
      "Array before: [4, 8, 9, 3, 0, 2, 7, 1, 5, 6]\n",
      "Iteration 0: [4, 8, 9, 3, 0, 2, 7, 1, 5, 6] -- nothing to swap\n",
      "Iteration 1: [4, 8, 9, 3, 0, 2, 7, 1, 5, 6] -- nothing to swap\n",
      "Iteration 2: [4, 8, 3, 9, 0, 2, 7, 1, 5, 6] -- swapped 9 and 3\n",
      "Iteration 3: [4, 8, 3, 0, 9, 2, 7, 1, 5, 6] -- swapped 9 and 0\n",
      "Iteration 4: [4, 8, 3, 0, 2, 9, 7, 1, 5, 6] -- swapped 9 and 2\n",
      "Iteration 5: [4, 8, 3, 0, 2, 7, 9, 1, 5, 6] -- swapped 9 and 7\n",
      "Iteration 6: [4, 8, 3, 0, 2, 7, 1, 9, 5, 6] -- swapped 9 and 1\n",
      "Iteration 7: [4, 8, 3, 0, 2, 7, 1, 5, 9, 6] -- swapped 9 and 5\n",
      "Iteration 8: [4, 8, 3, 0, 2, 7, 1, 5, 6, 9] -- swapped 9 and 6\n",
      "Iteration 9: [4, 8, 3, 0, 2, 7, 1, 5, 6, 9] -- nothing to swap\n",
      "Iteration 10: [4, 3, 8, 0, 2, 7, 1, 5, 6, 9] -- swapped 8 and 3\n",
      "Iteration 11: [4, 3, 0, 8, 2, 7, 1, 5, 6, 9] -- swapped 8 and 0\n",
      "Iteration 12: [4, 3, 0, 2, 8, 7, 1, 5, 6, 9] -- swapped 8 and 2\n",
      "Iteration 13: [4, 3, 0, 2, 7, 8, 1, 5, 6, 9] -- swapped 8 and 7\n",
      "Iteration 14: [4, 3, 0, 2, 7, 1, 8, 5, 6, 9] -- swapped 8 and 1\n",
      "Iteration 15: [4, 3, 0, 2, 7, 1, 5, 8, 6, 9] -- swapped 8 and 5\n",
      "Iteration 16: [4, 3, 0, 2, 7, 1, 5, 6, 8, 9] -- swapped 8 and 6\n",
      "Iteration 17: [4, 3, 0, 2, 7, 1, 5, 6, 8, 9] -- nothing to swap\n",
      "Iteration 18: [3, 4, 0, 2, 7, 1, 5, 6, 8, 9] -- swapped 4 and 3\n",
      "Iteration 19: [3, 0, 4, 2, 7, 1, 5, 6, 8, 9] -- swapped 4 and 0\n",
      "Iteration 20: [3, 0, 2, 4, 7, 1, 5, 6, 8, 9] -- swapped 4 and 2\n",
      "Iteration 21: [3, 0, 2, 4, 7, 1, 5, 6, 8, 9] -- nothing to swap\n",
      "Iteration 22: [3, 0, 2, 4, 1, 7, 5, 6, 8, 9] -- swapped 7 and 1\n",
      "Iteration 23: [3, 0, 2, 4, 1, 5, 7, 6, 8, 9] -- swapped 7 and 5\n",
      "Iteration 24: [3, 0, 2, 4, 1, 5, 6, 7, 8, 9] -- swapped 7 and 6\n",
      "Iteration 25: [3, 0, 2, 4, 1, 5, 6, 7, 8, 9] -- nothing to swap\n",
      "Iteration 26: [3, 0, 2, 4, 1, 5, 6, 7, 8, 9] -- nothing to swap\n",
      "Iteration 27: [0, 3, 2, 4, 1, 5, 6, 7, 8, 9] -- swapped 3 and 0\n",
      "Iteration 28: [0, 2, 3, 4, 1, 5, 6, 7, 8, 9] -- swapped 3 and 2\n",
      "Iteration 29: [0, 2, 3, 4, 1, 5, 6, 7, 8, 9] -- nothing to swap\n",
      "Iteration 30: [0, 2, 3, 1, 4, 5, 6, 7, 8, 9] -- swapped 4 and 1\n",
      "Iteration 31: [0, 2, 3, 1, 4, 5, 6, 7, 8, 9] -- nothing to swap\n",
      "Iteration 32: [0, 2, 3, 1, 4, 5, 6, 7, 8, 9] -- nothing to swap\n",
      "Iteration 33: [0, 2, 3, 1, 4, 5, 6, 7, 8, 9] -- nothing to swap\n",
      "Iteration 34: [0, 2, 3, 1, 4, 5, 6, 7, 8, 9] -- nothing to swap\n",
      "Iteration 35: [0, 2, 3, 1, 4, 5, 6, 7, 8, 9] -- nothing to swap\n",
      "Iteration 36: [0, 2, 3, 1, 4, 5, 6, 7, 8, 9] -- nothing to swap\n",
      "Iteration 37: [0, 2, 3, 1, 4, 5, 6, 7, 8, 9] -- nothing to swap\n",
      "Iteration 38: [0, 2, 1, 3, 4, 5, 6, 7, 8, 9] -- swapped 3 and 1\n",
      "Iteration 39: [0, 2, 1, 3, 4, 5, 6, 7, 8, 9] -- nothing to swap\n",
      "Iteration 40: [0, 2, 1, 3, 4, 5, 6, 7, 8, 9] -- nothing to swap\n",
      "Iteration 41: [0, 2, 1, 3, 4, 5, 6, 7, 8, 9] -- nothing to swap\n",
      "Iteration 42: [0, 2, 1, 3, 4, 5, 6, 7, 8, 9] -- nothing to swap\n",
      "Iteration 43: [0, 2, 1, 3, 4, 5, 6, 7, 8, 9] -- nothing to swap\n",
      "Iteration 44: [0, 2, 1, 3, 4, 5, 6, 7, 8, 9] -- nothing to swap\n",
      "Iteration 45: [0, 2, 1, 3, 4, 5, 6, 7, 8, 9] -- nothing to swap\n",
      "Iteration 46: [0, 1, 2, 3, 4, 5, 6, 7, 8, 9] -- swapped 2 and 1\n",
      "Iteration 47: [0, 1, 2, 3, 4, 5, 6, 7, 8, 9] -- nothing to swap\n",
      "Iteration 48: [0, 1, 2, 3, 4, 5, 6, 7, 8, 9] -- nothing to swap\n",
      "Iteration 49: [0, 1, 2, 3, 4, 5, 6, 7, 8, 9] -- nothing to swap\n",
      "Iteration 50: [0, 1, 2, 3, 4, 5, 6, 7, 8, 9] -- nothing to swap\n",
      "Iteration 51: [0, 1, 2, 3, 4, 5, 6, 7, 8, 9] -- nothing to swap\n",
      "Iteration 52: [0, 1, 2, 3, 4, 5, 6, 7, 8, 9] -- nothing to swap\n",
      "Iteration 53: [0, 1, 2, 3, 4, 5, 6, 7, 8, 9] -- nothing to swap\n",
      "Iteration 54: [0, 1, 2, 3, 4, 5, 6, 7, 8, 9] -- nothing to swap\n",
      "Iteration 55: [0, 1, 2, 3, 4, 5, 6, 7, 8, 9] -- nothing to swap\n",
      "Iteration 56: [0, 1, 2, 3, 4, 5, 6, 7, 8, 9] -- nothing to swap\n",
      "Iteration 57: [0, 1, 2, 3, 4, 5, 6, 7, 8, 9] -- nothing to swap\n",
      "Iteration 58: [0, 1, 2, 3, 4, 5, 6, 7, 8, 9] -- nothing to swap\n",
      "Iteration 59: [0, 1, 2, 3, 4, 5, 6, 7, 8, 9] -- nothing to swap\n",
      "Iteration 60: [0, 1, 2, 3, 4, 5, 6, 7, 8, 9] -- nothing to swap\n",
      "Iteration 61: [0, 1, 2, 3, 4, 5, 6, 7, 8, 9] -- nothing to swap\n",
      "Iteration 62: [0, 1, 2, 3, 4, 5, 6, 7, 8, 9] -- nothing to swap\n",
      "\n",
      "        Summary: Bubble Sort\n",
      "        Start: 1547136095.469978\n",
      "        End: 1547136095.471793\n",
      "        Duration: 0.0018148422241210938\n",
      "        Iteration Count: 63\n",
      "        \n",
      "Array after: [0, 1, 2, 3, 4, 5, 6, 7, 8, 9]\n"
     ]
    }
   ],
   "source": [
    "random_array = generate_random_array()\n",
    "print(\"Array before: {}\".format(random_array))\n",
    "bubble_sort(random_array, True) # in place sort\n",
    "print(\"Array after: {}\".format(random_array))"
   ]
  },
  {
   "cell_type": "code",
   "execution_count": 131,
   "metadata": {},
   "outputs": [
    {
     "name": "stdout",
     "output_type": "stream",
     "text": [
      "True\n",
      "True\n",
      "True\n",
      "False\n"
     ]
    }
   ],
   "source": [
    "trie = Trie()\n",
    "cool = list(\"cool\")\n",
    "cold = list(\"cold\")\n",
    "calm = list(\"calm\")\n",
    "cut = list(\"cut\")\n",
    "cute = list(\"cute\")\n",
    "trie.insert(cool)\n",
    "trie.insert(cold)\n",
    "trie.insert(calm)\n",
    "trie.insert(cut)\n",
    "trie.insert(cute)\n",
    "# print(trie)\n",
    "# print(trie.contains(\"calm\"))\n",
    "\n",
    "# print(trie.remove(\"cool\"))\n",
    "# print(trie.remove(\"cool\"))\n",
    "\n",
    "print(trie.contains(\"cute\"))\n",
    "print(trie.contains(\"cut\"))\n",
    "trie.remove(\"cut\")\n",
    "print(trie.contains(\"cute\"))\n",
    "print(trie.contains(\"cut\"))\n"
   ]
  },
  {
   "cell_type": "code",
   "execution_count": 148,
   "metadata": {},
   "outputs": [
    {
     "name": "stdout",
     "output_type": "stream",
     "text": [
      "['car', 'card', 'care', 'cared', 'cars', 'carbs', 'carapace', 'cargo']\n",
      "['care', 'cared']\n"
     ]
    }
   ],
   "source": [
    "trie = Trie()\n",
    "trie.insert(list(\"car\"))\n",
    "trie.insert(list(\"card\"))\n",
    "trie.insert(list(\"care\"))\n",
    "trie.insert(list(\"cared\"))\n",
    "trie.insert(list(\"cars\"))\n",
    "trie.insert(list(\"carbs\"))\n",
    "trie.insert(list(\"carapace\"))\n",
    "trie.insert(list(\"cargo\"))\n",
    "\n",
    "print(trie.collections(list(\"car\")))\n",
    "print(trie.collections(list(\"care\")))"
   ]
  },
  {
   "cell_type": "code",
   "execution_count": 66,
   "metadata": {},
   "outputs": [
    {
     "name": "stdout",
     "output_type": "stream",
     "text": [
      "Array before: [2, 7, 3, 8, 5, 1, 6, 0, 4, 9]\n",
      "Iteration 0: [2, 7, 3, 8, 5, 1, 6, 0, 4, 9]\n",
      "Iteration 1: [2, 7, 3, 8, 5, 1, 6, 0, 4, 9]\n",
      "Iteration 2: [2, 7, 3, 8, 5, 1, 6, 0, 4, 9]\n",
      "Iteration 3: [2, 7, 3, 8, 5, 1, 6, 0, 4, 9]\n",
      "Iteration 4: [2, 7, 3, 8, 5, 1, 6, 0, 4, 9]\n",
      "Iteration 5: [2, 7, 3, 8, 5, 1, 6, 0, 4, 9]\n",
      "Iteration 6: [2, 7, 3, 8, 5, 1, 6, 0, 4, 9]\n",
      "Iteration 7: [2, 7, 3, 8, 5, 1, 6, 0, 4, 9]\n",
      "Iteration 8: [2, 7, 3, 8, 5, 1, 6, 0, 4, 9]\n",
      "Iteration 9: [2, 7, 3, 8, 5, 1, 6, 0, 4, 9]\n",
      "Iteration 10: [0, 7, 3, 8, 5, 1, 6, 2, 4, 9]\n",
      "Iteration 11: [0, 7, 3, 8, 5, 1, 6, 2, 4, 9]\n",
      "Iteration 12: [0, 7, 3, 8, 5, 1, 6, 2, 4, 9]\n",
      "Iteration 13: [0, 7, 3, 8, 5, 1, 6, 2, 4, 9]\n",
      "Iteration 14: [0, 7, 3, 8, 5, 1, 6, 2, 4, 9]\n",
      "Iteration 15: [0, 7, 3, 8, 5, 1, 6, 2, 4, 9]\n",
      "Iteration 16: [0, 7, 3, 8, 5, 1, 6, 2, 4, 9]\n",
      "Iteration 17: [0, 7, 3, 8, 5, 1, 6, 2, 4, 9]\n",
      "Iteration 18: [0, 7, 3, 8, 5, 1, 6, 2, 4, 9]\n",
      "Iteration 19: [0, 1, 3, 8, 5, 7, 6, 2, 4, 9]\n",
      "Iteration 20: [0, 1, 3, 8, 5, 7, 6, 2, 4, 9]\n",
      "Iteration 21: [0, 1, 3, 8, 5, 7, 6, 2, 4, 9]\n",
      "Iteration 22: [0, 1, 3, 8, 5, 7, 6, 2, 4, 9]\n",
      "Iteration 23: [0, 1, 3, 8, 5, 7, 6, 2, 4, 9]\n",
      "Iteration 24: [0, 1, 3, 8, 5, 7, 6, 2, 4, 9]\n",
      "Iteration 25: [0, 1, 3, 8, 5, 7, 6, 2, 4, 9]\n",
      "Iteration 26: [0, 1, 3, 8, 5, 7, 6, 2, 4, 9]\n",
      "Iteration 27: [0, 1, 2, 8, 5, 7, 6, 3, 4, 9]\n",
      "Iteration 28: [0, 1, 2, 8, 5, 7, 6, 3, 4, 9]\n",
      "Iteration 29: [0, 1, 2, 8, 5, 7, 6, 3, 4, 9]\n",
      "Iteration 30: [0, 1, 2, 8, 5, 7, 6, 3, 4, 9]\n",
      "Iteration 31: [0, 1, 2, 8, 5, 7, 6, 3, 4, 9]\n",
      "Iteration 32: [0, 1, 2, 8, 5, 7, 6, 3, 4, 9]\n",
      "Iteration 33: [0, 1, 2, 8, 5, 7, 6, 3, 4, 9]\n",
      "Iteration 34: [0, 1, 2, 3, 5, 7, 6, 8, 4, 9]\n",
      "Iteration 35: [0, 1, 2, 3, 5, 7, 6, 8, 4, 9]\n",
      "Iteration 36: [0, 1, 2, 3, 5, 7, 6, 8, 4, 9]\n",
      "Iteration 37: [0, 1, 2, 3, 5, 7, 6, 8, 4, 9]\n",
      "Iteration 38: [0, 1, 2, 3, 5, 7, 6, 8, 4, 9]\n",
      "Iteration 39: [0, 1, 2, 3, 5, 7, 6, 8, 4, 9]\n",
      "Iteration 40: [0, 1, 2, 3, 4, 7, 6, 8, 5, 9]\n",
      "Iteration 41: [0, 1, 2, 3, 4, 7, 6, 8, 5, 9]\n",
      "Iteration 42: [0, 1, 2, 3, 4, 7, 6, 8, 5, 9]\n",
      "Iteration 43: [0, 1, 2, 3, 4, 7, 6, 8, 5, 9]\n",
      "Iteration 44: [0, 1, 2, 3, 4, 7, 6, 8, 5, 9]\n",
      "Iteration 45: [0, 1, 2, 3, 4, 5, 6, 8, 7, 9]\n",
      "Iteration 46: [0, 1, 2, 3, 4, 5, 6, 8, 7, 9]\n",
      "Iteration 47: [0, 1, 2, 3, 4, 5, 6, 8, 7, 9]\n",
      "Iteration 48: [0, 1, 2, 3, 4, 5, 6, 8, 7, 9]\n",
      "Iteration 49: [0, 1, 2, 3, 4, 5, 6, 8, 7, 9]\n",
      "Iteration 50: [0, 1, 2, 3, 4, 5, 6, 8, 7, 9]\n",
      "Iteration 51: [0, 1, 2, 3, 4, 5, 6, 8, 7, 9]\n",
      "Iteration 52: [0, 1, 2, 3, 4, 5, 6, 7, 8, 9]\n",
      "Iteration 53: [0, 1, 2, 3, 4, 5, 6, 7, 8, 9]\n",
      "Iteration 54: [0, 1, 2, 3, 4, 5, 6, 7, 8, 9]\n",
      "\n",
      "        Summary: Selection Sort\n",
      "        Start: 1547136311.7921002\n",
      "        End: 1547136311.793518\n",
      "        Duration: 0.0014178752899169922\n",
      "        Iteration Count: 55\n",
      "        \n",
      "Array after: [0, 1, 2, 3, 4, 5, 6, 7, 8, 9]\n"
     ]
    }
   ],
   "source": [
    "random_array = generate_random_array()\n",
    "print(\"Array before: {}\".format(random_array))\n",
    "selection_sort(random_array, True) # in place sort\n",
    "print(\"Array after: {}\".format(random_array))"
   ]
  },
  {
   "cell_type": "code",
   "execution_count": 69,
   "metadata": {},
   "outputs": [
    {
     "name": "stdout",
     "output_type": "stream",
     "text": [
      "Array before: [7, 2, 8, 3, 9, 6, 4, 1, 5, 0]\n",
      "[7]\n",
      "[2]\n",
      "[2, 7]\n",
      "[8]\n",
      "[3]\n",
      "[9]\n",
      "[3, 9]\n",
      "[3, 8, 9]\n",
      "[2, 3, 7, 8, 9]\n",
      "[6]\n",
      "[4]\n",
      "[4, 6]\n",
      "[1]\n",
      "[5]\n",
      "[0]\n",
      "[0, 5]\n",
      "[0, 1, 5]\n",
      "[0, 1, 4, 5, 6]\n",
      "[0, 1, 2, 3, 4, 5, 6, 7, 8, 9]\n",
      "\n",
      "        Summary: Merge Sort\n",
      "        Start: 1547136453.152032\n",
      "        End: 1547136453.1531892\n",
      "        Duration: 0.0011572837829589844\n",
      "        \n",
      "Array after: [0, 1, 2, 3, 4, 5, 6, 7, 8, 9]\n"
     ]
    }
   ],
   "source": [
    "random_array = generate_random_array()\n",
    "print(\"Array before: {}\".format(random_array))\n",
    "sorted_array = merge_sort(random_array, True)\n",
    "print(\"Array after: {}\".format(sorted_array))"
   ]
  },
  {
   "cell_type": "code",
   "execution_count": 73,
   "metadata": {},
   "outputs": [
    {
     "name": "stdout",
     "output_type": "stream",
     "text": [
      "Array before: [5, 0, 8, 2, 4, 6, 9, 3, 1, 7]\n",
      "Picked pivot 0 at index 1 from [5, 0, 8, 2, 4, 6, 9, 3, 1, 7]\n",
      "[0]\n",
      "Picked pivot 9 at index 5 from [5, 8, 2, 4, 6, 9, 3, 1, 7]\n",
      "Picked pivot 3 at index 5 from [5, 8, 2, 4, 6, 3, 1, 7]\n",
      "Picked pivot 1 at index 1 from [2, 1]\n",
      "[1]\n",
      "[2]\n",
      "[1, 2]\n",
      "[3]\n",
      "Picked pivot 8 at index 1 from [5, 8, 4, 6, 7]\n",
      "Picked pivot 4 at index 1 from [5, 4, 6, 7]\n",
      "[4]\n",
      "Picked pivot 5 at index 0 from [5, 6, 7]\n",
      "[5]\n",
      "Picked pivot 6 at index 0 from [6, 7]\n",
      "[6]\n",
      "[7]\n",
      "[6, 7]\n",
      "[5, 6, 7]\n",
      "[4, 5, 6, 7]\n",
      "[8]\n",
      "[4, 5, 6, 7, 8]\n",
      "[1, 2, 3, 4, 5, 6, 7, 8]\n",
      "[9]\n",
      "[1, 2, 3, 4, 5, 6, 7, 8, 9]\n",
      "[0, 1, 2, 3, 4, 5, 6, 7, 8, 9]\n",
      "\n",
      "        Summary: Quick Sort Naive\n",
      "        Start: 1547136761.971429\n",
      "        End: 1547136761.973034\n",
      "        Duration: 0.0016047954559326172\n",
      "        \n",
      "Array after: [0, 1, 2, 3, 4, 5, 6, 7, 8, 9]\n"
     ]
    }
   ],
   "source": [
    "random_array = generate_random_array()\n",
    "print(\"Array before: {}\".format(random_array))\n",
    "quick_sort_naive(random_array, True)\n",
    "print(\"Array after: {}\".format(sorted_array))"
   ]
  },
  {
   "cell_type": "code",
   "execution_count": 86,
   "metadata": {},
   "outputs": [
    {
     "name": "stdout",
     "output_type": "stream",
     "text": [
      "Array before: [7, 6, 3, 9, 1, 8, 2, 4, 5, 0]\n",
      "\n",
      "        Summary: Quick Sort Lomuto\n",
      "        Start: 1547139124.8831859\n",
      "        End: 1547139124.883204\n",
      "        Duration: 1.811981201171875e-05\n",
      "        \n",
      "Array after: [0, 1, 2, 3, 4, 5, 6, 7, 8, 9]\n"
     ]
    }
   ],
   "source": [
    "random_array = generate_random_array()\n",
    "print(\"Array before: {}\".format(random_array))\n",
    "quick_sort_lomuto(random_array, True) # in place sort\n",
    "print(\"Array after: {}\".format(sorted_array))"
   ]
  },
  {
   "cell_type": "code",
   "execution_count": 87,
   "metadata": {},
   "outputs": [
    {
     "name": "stdout",
     "output_type": "stream",
     "text": [
      "Array before: [8, 4, 0, 6, 5, 9, 3, 1, 7, 2]\n",
      "Array before median swap [8, 4, 0, 6, 5, 9, 3, 1, 7, 2]\n",
      "Array before median swap [2, 4, 0, 6, 5, 9, 3, 1, 7, 8]\n",
      "\n",
      "        Summary: Quick Sort Median\n",
      "        Start: 1547139126.2383502\n",
      "        End: 1547139126.238438\n",
      "        Duration: 8.7738037109375e-05\n",
      "        \n",
      "Array after: [0, 1, 2, 3, 4, 5, 6, 7, 8, 9]\n"
     ]
    }
   ],
   "source": [
    "random_array = generate_random_array()\n",
    "print(\"Array before: {}\".format(random_array))\n",
    "quick_sort_median(random_array, True) # in place sort\n",
    "print(\"Array after: {}\".format(sorted_array))"
   ]
  },
  {
   "cell_type": "code",
   "execution_count": 7,
   "metadata": {},
   "outputs": [],
   "source": [
    "visit = lambda x: print(\"{}\".format(x))"
   ]
  },
  {
   "cell_type": "code",
   "execution_count": 176,
   "metadata": {},
   "outputs": [
    {
     "name": "stdout",
     "output_type": "stream",
     "text": [
      "Node(Singapore)  ---> [ Node(Tokyo), Node(Hong Kong) ]\n",
      "Node(Tokyo)  ---> [ Node(Singapore), Node(Washington, DC) ]\n",
      "Node(Hong Kong)  ---> [ Node(Singapore), Node(Tokyo) ]\n",
      "Node(San Francisco)  ---> [ Node(Hong Kong) ]\n",
      "\n"
     ]
    }
   ],
   "source": [
    "graph = GraphAdjacencyList()\n",
    "singapore = graph.create_vertex(\"Singapore\")\n",
    "tokyo = graph.create_vertex(\"Tokyo\")\n",
    "hong_kong = graph.create_vertex(\"Hong Kong\")\n",
    "san_francisco = graph.create_vertex(\"San Francisco\")\n",
    "washington = graph.create_vertex(\"Washington, DC\")\n",
    "\n",
    "graph.add(EdgeType.UNDIRECTED, singapore, tokyo, 500)\n",
    "graph.add(EdgeType.UNDIRECTED, singapore, hong_kong, 300)\n",
    "graph.add(EdgeType.DIRECTED, hong_kong, tokyo, 250)\n",
    "graph.add(EdgeType.DIRECTED, tokyo, washington, 300)\n",
    "graph.add(EdgeType.DIRECTED, san_francisco, hong_kong, 600)\n",
    "\n",
    "# print(graph.adjacencies)\n",
    "# print(graph.weight_for(v1, v2))\n",
    "print(graph)"
   ]
  },
  {
   "cell_type": "code",
   "execution_count": 177,
   "metadata": {},
   "outputs": [
    {
     "name": "stdout",
     "output_type": "stream",
     "text": [
      "Node(A)  ---> [ Node(D), Node(B), Node(C) ]\n",
      "Node(B)  ---> [ Node(A), Node(E) ]\n",
      "Node(C)  ---> [ Node(F), Node(G), Node(A) ]\n",
      "Node(D)  ---> [ Node(A) ]\n",
      "Node(E)  ---> [ Node(B), Node(H), Node(F) ]\n",
      "Node(F)  ---> [ Node(E), Node(G), Node(C) ]\n",
      "Node(G)  ---> [ Node(F), Node(C) ]\n",
      "Node(H)  ---> [ Node(E) ]\n",
      "\n"
     ]
    }
   ],
   "source": [
    "graph = GraphAdjacencyList()\n",
    "a = graph.create_vertex(\"A\")\n",
    "b = graph.create_vertex(\"B\")\n",
    "c = graph.create_vertex(\"C\")\n",
    "d = graph.create_vertex(\"D\")\n",
    "e = graph.create_vertex(\"E\")\n",
    "f = graph.create_vertex(\"F\")\n",
    "g = graph.create_vertex(\"G\")\n",
    "h = graph.create_vertex(\"H\")\n",
    "\n",
    "graph.add(EdgeType.UNDIRECTED, a, d)\n",
    "graph.add(EdgeType.UNDIRECTED, a, b)\n",
    "graph.add(EdgeType.UNDIRECTED, b, e)\n",
    "graph.add(EdgeType.UNDIRECTED, e, h)\n",
    "graph.add(EdgeType.UNDIRECTED, e, f)\n",
    "graph.add(EdgeType.UNDIRECTED, f, g)\n",
    "graph.add(EdgeType.UNDIRECTED, f, c)\n",
    "graph.add(EdgeType.UNDIRECTED, g, c)\n",
    "graph.add(EdgeType.UNDIRECTED, c, a)\n",
    "\n",
    "print(graph)"
   ]
  },
  {
   "cell_type": "code",
   "execution_count": 182,
   "metadata": {},
   "outputs": [
    {
     "name": "stdout",
     "output_type": "stream",
     "text": [
      "Node(A)\n",
      "Node(D)\n",
      "Node(B)\n",
      "Node(C)\n",
      "Node(E)\n",
      "Node(F)\n",
      "Node(G)\n",
      "Node(H)\n"
     ]
    }
   ],
   "source": [
    "# print(graph.adjacencies)\n",
    "graph.breadth_first_search(a, visit)"
   ]
  },
  {
   "cell_type": "code",
   "execution_count": 183,
   "metadata": {},
   "outputs": [
    {
     "name": "stdout",
     "output_type": "stream",
     "text": [
      "Node(A)\n",
      "Node(C)\n",
      "Node(G)\n",
      "Node(F)\n",
      "Node(E)\n",
      "Node(H)\n",
      "Node(B)\n",
      "Node(D)\n"
     ]
    }
   ],
   "source": [
    "graph.depth_first_search(a, visit)"
   ]
  },
  {
   "cell_type": "code",
   "execution_count": 14,
   "metadata": {},
   "outputs": [
    {
     "name": "stdout",
     "output_type": "stream",
     "text": [
      " ┌──5\n",
      "┌──4\n",
      "│ └──nil\n",
      "3\n",
      "│ ┌──2\n",
      "└──1\n",
      " └──0\n",
      "\n",
      "┌──2\n",
      "1\n",
      "└──0\n",
      "\n",
      "0\n",
      "\n",
      "2\n",
      "\n",
      "┌──5\n",
      "4\n",
      "└──nil\n",
      "\n",
      "5\n",
      "\n"
     ]
    },
    {
     "data": {
      "text/plain": [
       "True"
      ]
     },
     "execution_count": 14,
     "metadata": {},
     "output_type": "execute_result"
    }
   ],
   "source": [
    "binary_tree = BinarySearchTree()\n",
    "binary_tree.insert(3)\n",
    "binary_tree.insert(1)\n",
    "binary_tree.insert(4)\n",
    "binary_tree.insert(0)\n",
    "binary_tree.insert(2)\n",
    "binary_tree.insert(5)\n",
    "print(binary_tree)\n",
    "\n",
    "def get_height(node):\n",
    "    if node == None:\n",
    "        return -1\n",
    "    print(node)\n",
    "    return max(get_height(node.left), get_height(node.right)) + 1\n",
    "\n",
    "def is_balanced(node):\n",
    "    balance_factor = get_height(node.left) - get_height(node.right)\n",
    "    return balance_factor < 2 and balance_factor > -2\n",
    "\n",
    "is_balanced(binary_tree.root)"
   ]
  },
  {
   "cell_type": "code",
   "execution_count": 9,
   "metadata": {},
   "outputs": [
    {
     "name": "stdout",
     "output_type": "stream",
     "text": [
      "┌──nil\n",
      "3\n",
      "└──2\n",
      "\n"
     ]
    },
    {
     "data": {
      "text/plain": [
       "True"
      ]
     },
     "execution_count": 9,
     "metadata": {},
     "output_type": "execute_result"
    }
   ],
   "source": [
    "avl_tree = AVLTree()\n",
    "avl_tree.insert(3)\n",
    "avl_tree.insert(2)\n",
    "print(avl_tree)\n",
    "is_balanced(avl_tree.root)"
   ]
  },
  {
   "cell_type": "code",
   "execution_count": 10,
   "metadata": {},
   "outputs": [
    {
     "name": "stdout",
     "output_type": "stream",
     "text": [
      "┌──75\n",
      "50\n",
      "│  ┌──40\n",
      "│ ┌──37\n",
      "│ │ └──nil\n",
      "└──25\n",
      " └──nil\n",
      "\n"
     ]
    },
    {
     "data": {
      "text/plain": [
       "False"
      ]
     },
     "execution_count": 10,
     "metadata": {},
     "output_type": "execute_result"
    }
   ],
   "source": [
    "# Example of unbalanced tree\n",
    "unbalanced_tree = BinarySearchTree()\n",
    "unbalanced_tree.insert(50)\n",
    "unbalanced_tree.insert(75)\n",
    "unbalanced_tree.insert(25)\n",
    "unbalanced_tree.insert(37)\n",
    "unbalanced_tree.insert(40)\n",
    "print(unbalanced_tree)\n",
    "is_balanced(unbalanced_tree.root)"
   ]
  },
  {
   "cell_type": "code",
   "execution_count": 173,
   "metadata": {},
   "outputs": [
    {
     "name": "stdout",
     "output_type": "stream",
     "text": [
      "┌──75\n",
      "50\n",
      "│ ┌──40\n",
      "└──37\n",
      " └──25\n",
      "\n"
     ]
    }
   ],
   "source": [
    "# Example of unbalanced tree\n",
    "unbalanced_avl_tree = AVLTree()\n",
    "unbalanced_avl_tree.insert(50)\n",
    "unbalanced_avl_tree.insert(75)\n",
    "unbalanced_avl_tree.insert(25)\n",
    "unbalanced_avl_tree.insert(37)\n",
    "unbalanced_avl_tree.insert(40)\n",
    "print(unbalanced_avl_tree)"
   ]
  },
  {
   "cell_type": "code",
   "execution_count": 15,
   "metadata": {},
   "outputs": [
    {
     "name": "stdout",
     "output_type": "stream",
     "text": [
      "  ┌──14\n",
      " ┌──13\n",
      " │ └──12\n",
      "┌──11\n",
      "│ │ ┌──10\n",
      "│ └──9\n",
      "│  └──8\n",
      "7\n",
      "│  ┌──6\n",
      "│ ┌──5\n",
      "│ │ └──4\n",
      "└──3\n",
      " │ ┌──2\n",
      " └──1\n",
      "  └──0\n",
      "\n",
      " ┌──6\n",
      "┌──5\n",
      "│ └──4\n",
      "3\n",
      "│ ┌──2\n",
      "└──1\n",
      " └──0\n",
      "\n",
      "┌──2\n",
      "1\n",
      "└──0\n",
      "\n",
      "0\n",
      "\n",
      "2\n",
      "\n",
      "┌──6\n",
      "5\n",
      "└──4\n",
      "\n",
      "4\n",
      "\n",
      "6\n",
      "\n",
      " ┌──14\n",
      "┌──13\n",
      "│ └──12\n",
      "11\n",
      "│ ┌──10\n",
      "└──9\n",
      " └──8\n",
      "\n",
      "┌──10\n",
      "9\n",
      "└──8\n",
      "\n",
      "8\n",
      "\n",
      "10\n",
      "\n",
      "┌──14\n",
      "13\n",
      "└──12\n",
      "\n",
      "12\n",
      "\n",
      "14\n",
      "\n"
     ]
    },
    {
     "data": {
      "text/plain": [
       "True"
      ]
     },
     "execution_count": 15,
     "metadata": {},
     "output_type": "execute_result"
    }
   ],
   "source": [
    "example_tree = AVLTree()\n",
    "for counter in range(0, 15):\n",
    "    example_tree.insert(counter)\n",
    "print(example_tree)\n",
    "is_balanced(example_tree.root)"
   ]
  },
  {
   "cell_type": "code",
   "execution_count": 175,
   "metadata": {},
   "outputs": [
    {
     "name": "stdout",
     "output_type": "stream",
     "text": [
      " ┌──nil\n",
      "┌──9\n",
      "│ └──8\n",
      "7\n",
      "│ ┌──5\n",
      "└──1\n",
      " └──0\n",
      "\n"
     ]
    }
   ],
   "source": [
    "from data_structure.binary_tree_node import BinaryTreeNode as BinaryTreeNode\n",
    "zero = BinaryTreeNode(0)\n",
    "one = BinaryTreeNode(1)\n",
    "five = BinaryTreeNode(5)\n",
    "seven = BinaryTreeNode(7)\n",
    "eight = BinaryTreeNode(8)\n",
    "nine = BinaryTreeNode(9)\n",
    "\n",
    "seven.left = one\n",
    "one.left = zero\n",
    "one.right = five\n",
    "seven.right = nine\n",
    "nine.left = eight\n",
    "\n",
    "tree = seven\n",
    "print(tree)\n",
    "\n"
   ]
  },
  {
   "cell_type": "code",
   "execution_count": 176,
   "metadata": {},
   "outputs": [
    {
     "name": "stdout",
     "output_type": "stream",
     "text": [
      "0\n",
      "1\n",
      "5\n",
      "7\n",
      "8\n",
      "9\n"
     ]
    }
   ],
   "source": [
    "tree.traverse_in_order(visit)"
   ]
  },
  {
   "cell_type": "code",
   "execution_count": 177,
   "metadata": {},
   "outputs": [
    {
     "name": "stdout",
     "output_type": "stream",
     "text": [
      "7\n",
      "1\n",
      "0\n",
      "5\n",
      "9\n",
      "8\n"
     ]
    }
   ],
   "source": [
    "tree.traverse_pre_order(visit)"
   ]
  },
  {
   "cell_type": "code",
   "execution_count": 178,
   "metadata": {},
   "outputs": [
    {
     "name": "stdout",
     "output_type": "stream",
     "text": [
      "0\n",
      "5\n",
      "1\n",
      "8\n",
      "9\n",
      "7\n"
     ]
    }
   ],
   "source": [
    "tree.traverse_post_order(visit)"
   ]
  },
  {
   "cell_type": "code",
   "execution_count": 179,
   "metadata": {},
   "outputs": [
    {
     "name": "stdout",
     "output_type": "stream",
     "text": [
      "2\n",
      "None\n"
     ]
    }
   ],
   "source": [
    "linked_list = LinkedList()\n",
    "linked_list.append(1)\n",
    "linked_list.append(2)\n",
    "linked_list.append(3)\n",
    "linked_list.remove_head()\n",
    "linked_list.remove_tail()\n",
    "print(linked_list.remove_tail())\n",
    "print(linked_list.head)"
   ]
  },
  {
   "cell_type": "code",
   "execution_count": 200,
   "metadata": {},
   "outputs": [
    {
     "name": "stdout",
     "output_type": "stream",
     "text": [
      "  ┌──14\n",
      " ┌──13\n",
      " │ └──12\n",
      "┌──11\n",
      "│ │ ┌──10\n",
      "│ └──9\n",
      "│  └──8\n",
      "7\n",
      "│  ┌──6\n",
      "│ ┌──5\n",
      "│ │ └──4\n",
      "└──3\n",
      " │ ┌──2\n",
      " └──1\n",
      "  └──0\n",
      "\n"
     ]
    }
   ],
   "source": [
    "example_tree = AVLTree()\n",
    "for counter in range(0, 15):\n",
    "    example_tree.insert(counter)\n",
    "print(example_tree)"
   ]
  },
  {
   "cell_type": "code",
   "execution_count": 198,
   "metadata": {},
   "outputs": [
    {
     "name": "stderr",
     "output_type": "stream",
     "text": [
      ".........\n",
      "----------------------------------------------------------------------\n",
      "Ran 9 tests in 0.013s\n",
      "\n",
      "OK\n"
     ]
    },
    {
     "data": {
      "text/plain": [
       "<unittest.runner.TextTestResult run=9 errors=0 failures=0>"
      ]
     },
     "execution_count": 198,
     "metadata": {},
     "output_type": "execute_result"
    }
   ],
   "source": [
    "## loader = unittest.TestLoader()\n",
    "start_dir = 'tests'\n",
    "suite = loader.discover(start_dir)\n",
    "\n",
    "runner = unittest.TextTestRunner()\n",
    "runner.run(suite)"
   ]
  },
  {
   "cell_type": "code",
   "execution_count": null,
   "metadata": {},
   "outputs": [],
   "source": []
  }
 ],
 "metadata": {
  "kernelspec": {
   "display_name": "Python 3",
   "language": "python",
   "name": "python3"
  },
  "language_info": {
   "codemirror_mode": {
    "name": "ipython",
    "version": 3
   },
   "file_extension": ".py",
   "mimetype": "text/x-python",
   "name": "python",
   "nbconvert_exporter": "python",
   "pygments_lexer": "ipython3",
   "version": "3.7.1"
  }
 },
 "nbformat": 4,
 "nbformat_minor": 2
}
