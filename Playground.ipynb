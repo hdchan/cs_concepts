{
 "cells": [
  {
   "cell_type": "code",
   "execution_count": 1,
   "metadata": {},
   "outputs": [],
   "source": [
    "from data_structure.stack import Stack\n",
    "from data_structure.queue import Queue\n",
    "from data_structure.helper import generate_randomized_stack\n",
    "from data_structure.binary_search_tree import BinarySearchTree\n",
    "\n",
    "import random\n",
    "from random import randint\n",
    "import unittest"
   ]
  },
  {
   "cell_type": "code",
   "execution_count": 2,
   "metadata": {},
   "outputs": [
    {
     "name": "stdout",
     "output_type": "stream",
     "text": [
      " ┌──5\n",
      "┌──4\n",
      "│ └──nil\n",
      "3\n",
      "│ ┌──2\n",
      "└──1\n",
      " └──0\n",
      "\n"
     ]
    }
   ],
   "source": [
    "binary_tree = BinarySearchTree()\n",
    "binary_tree.insert(3)\n",
    "binary_tree.insert(1)\n",
    "binary_tree.insert(4)\n",
    "binary_tree.insert(0)\n",
    "binary_tree.insert(2)\n",
    "binary_tree.insert(5)\n",
    "print(binary_tree)"
   ]
  },
  {
   "cell_type": "code",
   "execution_count": 7,
   "metadata": {},
   "outputs": [
    {
     "name": "stderr",
     "output_type": "stream",
     "text": [
      "F............\n",
      "======================================================================\n",
      "FAIL: test_insert (test_binary_search_tree.TestBinarySearchTree)\n",
      "----------------------------------------------------------------------\n",
      "Traceback (most recent call last):\n",
      "  File \"/Users/henry.chan/Desktop/cs_concepts/tests/test_binary_search_tree.py\", line 17, in test_insert\n",
      "    # self.assertEqual(\"{}\".format(self.binary_search_tree), \"┌──5\\n┌──4\\n│ └──nil\\n3\\n│ ┌──2\\n└──1\\n└──0\")\n",
      "AssertionError: <data_structure.binary_search_tree.BinarySearchTree object at 0x111b524e0> != '┌──5\\n┌──4\\n│ └──nil\\n3\\n│ ┌──2\\n└──1\\n└──0'\n",
      "\n",
      "----------------------------------------------------------------------\n",
      "Ran 13 tests in 0.031s\n",
      "\n",
      "FAILED (failures=1)\n"
     ]
    },
    {
     "data": {
      "text/plain": [
       "<unittest.runner.TextTestResult run=13 errors=0 failures=1>"
      ]
     },
     "execution_count": 7,
     "metadata": {},
     "output_type": "execute_result"
    }
   ],
   "source": [
    "loader = unittest.TestLoader()\n",
    "start_dir = 'tests'\n",
    "suite = loader.discover(start_dir)\n",
    "\n",
    "runner = unittest.TextTestRunner()\n",
    "runner.run(suite)"
   ]
  },
  {
   "cell_type": "code",
   "execution_count": null,
   "metadata": {},
   "outputs": [],
   "source": []
  }
 ],
 "metadata": {
  "kernelspec": {
   "display_name": "Python 3",
   "language": "python",
   "name": "python3"
  },
  "language_info": {
   "codemirror_mode": {
    "name": "ipython",
    "version": 3
   },
   "file_extension": ".py",
   "mimetype": "text/x-python",
   "name": "python",
   "nbconvert_exporter": "python",
   "pygments_lexer": "ipython3",
   "version": "3.7.1"
  }
 },
 "nbformat": 4,
 "nbformat_minor": 2
}
