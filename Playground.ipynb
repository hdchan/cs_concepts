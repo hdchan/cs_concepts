{
 "cells": [
  {
   "cell_type": "code",
   "execution_count": 1,
   "metadata": {},
   "outputs": [],
   "source": [
    "%load_ext autoreload\n",
    "%autoreload 2"
   ]
  },
  {
   "cell_type": "code",
   "execution_count": 2,
   "metadata": {},
   "outputs": [],
   "source": [
    "from data_structure.linked_list import LinkedList\n",
    "from data_structure.stack import Stack\n",
    "from data_structure.queue import Queue\n",
    "from data_structure.helper import generate_randomized_stack\n",
    "from data_structure.binary_search_tree import BinarySearchTree\n",
    "from data_structure.avl_tree import AVLTree\n",
    "from data_structure.graph_adjacency_list import GraphAdjacencyList\n",
    "from data_structure.graph_edge import EdgeType\n",
    "\n",
    "from sort_algorithms.bubble_sort import bubble_sort\n",
    "from sort_algorithms.helper import generate_random_array\n",
    "\n",
    "import random\n",
    "from random import randint\n",
    "import unittest"
   ]
  },
  {
   "cell_type": "code",
   "execution_count": 3,
   "metadata": {},
   "outputs": [
    {
     "name": "stdout",
     "output_type": "stream",
     "text": [
      "[1, 6, 8, 3, 5, 9, 2, 7, 4, 0] True\n"
     ]
    }
   ],
   "source": [
    "random_array = generate_random_array()\n",
    "print(random_array, True)"
   ]
  },
  {
   "cell_type": "code",
   "execution_count": 9,
   "metadata": {},
   "outputs": [
    {
     "name": "stdout",
     "output_type": "stream",
     "text": [
      "Iteration 0: [1, 6, 8, 3, 5, 9, 2, 7, 4, 0] -- nothing to swap\n",
      "Iteration 1: [1, 6, 8, 3, 5, 9, 2, 7, 4, 0] -- nothing to swap\n",
      "Iteration 2: [1, 6, 3, 8, 5, 9, 2, 7, 4, 0] -- swapped 8 and 3\n",
      "Iteration 3: [1, 6, 3, 5, 8, 9, 2, 7, 4, 0] -- swapped 8 and 5\n",
      "Iteration 4: [1, 6, 3, 5, 8, 9, 2, 7, 4, 0] -- nothing to swap\n",
      "Iteration 5: [1, 6, 3, 5, 8, 2, 9, 7, 4, 0] -- swapped 9 and 2\n",
      "Iteration 6: [1, 6, 3, 5, 8, 2, 7, 9, 4, 0] -- swapped 9 and 7\n",
      "Iteration 7: [1, 6, 3, 5, 8, 2, 7, 4, 9, 0] -- swapped 9 and 4\n",
      "Iteration 8: [1, 6, 3, 5, 8, 2, 7, 4, 0, 9] -- swapped 9 and 0\n",
      "Iteration 9: [1, 6, 3, 5, 8, 2, 7, 4, 0, 9] -- nothing to swap\n",
      "Iteration 10: [1, 3, 6, 5, 8, 2, 7, 4, 0, 9] -- swapped 6 and 3\n",
      "Iteration 11: [1, 3, 5, 6, 8, 2, 7, 4, 0, 9] -- swapped 6 and 5\n",
      "Iteration 12: [1, 3, 5, 6, 8, 2, 7, 4, 0, 9] -- nothing to swap\n",
      "Iteration 13: [1, 3, 5, 6, 2, 8, 7, 4, 0, 9] -- swapped 8 and 2\n",
      "Iteration 14: [1, 3, 5, 6, 2, 7, 8, 4, 0, 9] -- swapped 8 and 7\n",
      "Iteration 15: [1, 3, 5, 6, 2, 7, 4, 8, 0, 9] -- swapped 8 and 4\n",
      "Iteration 16: [1, 3, 5, 6, 2, 7, 4, 0, 8, 9] -- swapped 8 and 0\n",
      "Iteration 17: [1, 3, 5, 6, 2, 7, 4, 0, 8, 9] -- nothing to swap\n",
      "Iteration 18: [1, 3, 5, 6, 2, 7, 4, 0, 8, 9] -- nothing to swap\n",
      "Iteration 19: [1, 3, 5, 6, 2, 7, 4, 0, 8, 9] -- nothing to swap\n",
      "Iteration 20: [1, 3, 5, 6, 2, 7, 4, 0, 8, 9] -- nothing to swap\n",
      "Iteration 21: [1, 3, 5, 2, 6, 7, 4, 0, 8, 9] -- swapped 6 and 2\n",
      "Iteration 22: [1, 3, 5, 2, 6, 7, 4, 0, 8, 9] -- nothing to swap\n",
      "Iteration 23: [1, 3, 5, 2, 6, 4, 7, 0, 8, 9] -- swapped 7 and 4\n",
      "Iteration 24: [1, 3, 5, 2, 6, 4, 0, 7, 8, 9] -- swapped 7 and 0\n",
      "Iteration 25: [1, 3, 5, 2, 6, 4, 0, 7, 8, 9] -- nothing to swap\n",
      "Iteration 26: [1, 3, 5, 2, 6, 4, 0, 7, 8, 9] -- nothing to swap\n",
      "Iteration 27: [1, 3, 5, 2, 6, 4, 0, 7, 8, 9] -- nothing to swap\n",
      "Iteration 28: [1, 3, 5, 2, 6, 4, 0, 7, 8, 9] -- nothing to swap\n",
      "Iteration 29: [1, 3, 2, 5, 6, 4, 0, 7, 8, 9] -- swapped 5 and 2\n",
      "Iteration 30: [1, 3, 2, 5, 6, 4, 0, 7, 8, 9] -- nothing to swap\n",
      "Iteration 31: [1, 3, 2, 5, 4, 6, 0, 7, 8, 9] -- swapped 6 and 4\n",
      "Iteration 32: [1, 3, 2, 5, 4, 0, 6, 7, 8, 9] -- swapped 6 and 0\n",
      "Iteration 33: [1, 3, 2, 5, 4, 0, 6, 7, 8, 9] -- nothing to swap\n",
      "Iteration 34: [1, 3, 2, 5, 4, 0, 6, 7, 8, 9] -- nothing to swap\n",
      "Iteration 35: [1, 3, 2, 5, 4, 0, 6, 7, 8, 9] -- nothing to swap\n",
      "Iteration 36: [1, 3, 2, 5, 4, 0, 6, 7, 8, 9] -- nothing to swap\n",
      "Iteration 37: [1, 2, 3, 5, 4, 0, 6, 7, 8, 9] -- swapped 3 and 2\n",
      "Iteration 38: [1, 2, 3, 5, 4, 0, 6, 7, 8, 9] -- nothing to swap\n",
      "Iteration 39: [1, 2, 3, 4, 5, 0, 6, 7, 8, 9] -- swapped 5 and 4\n",
      "Iteration 40: [1, 2, 3, 4, 0, 5, 6, 7, 8, 9] -- swapped 5 and 0\n",
      "Iteration 41: [1, 2, 3, 4, 0, 5, 6, 7, 8, 9] -- nothing to swap\n",
      "Iteration 42: [1, 2, 3, 4, 0, 5, 6, 7, 8, 9] -- nothing to swap\n",
      "Iteration 43: [1, 2, 3, 4, 0, 5, 6, 7, 8, 9] -- nothing to swap\n",
      "Iteration 44: [1, 2, 3, 4, 0, 5, 6, 7, 8, 9] -- nothing to swap\n",
      "Iteration 45: [1, 2, 3, 4, 0, 5, 6, 7, 8, 9] -- nothing to swap\n",
      "Iteration 46: [1, 2, 3, 4, 0, 5, 6, 7, 8, 9] -- nothing to swap\n",
      "Iteration 47: [1, 2, 3, 4, 0, 5, 6, 7, 8, 9] -- nothing to swap\n",
      "Iteration 48: [1, 2, 3, 0, 4, 5, 6, 7, 8, 9] -- swapped 4 and 0\n",
      "Iteration 49: [1, 2, 3, 0, 4, 5, 6, 7, 8, 9] -- nothing to swap\n",
      "Iteration 50: [1, 2, 3, 0, 4, 5, 6, 7, 8, 9] -- nothing to swap\n",
      "Iteration 51: [1, 2, 3, 0, 4, 5, 6, 7, 8, 9] -- nothing to swap\n",
      "Iteration 52: [1, 2, 3, 0, 4, 5, 6, 7, 8, 9] -- nothing to swap\n",
      "Iteration 53: [1, 2, 3, 0, 4, 5, 6, 7, 8, 9] -- nothing to swap\n",
      "Iteration 54: [1, 2, 3, 0, 4, 5, 6, 7, 8, 9] -- nothing to swap\n",
      "Iteration 55: [1, 2, 3, 0, 4, 5, 6, 7, 8, 9] -- nothing to swap\n",
      "Iteration 56: [1, 2, 0, 3, 4, 5, 6, 7, 8, 9] -- swapped 3 and 0\n",
      "Iteration 57: [1, 2, 0, 3, 4, 5, 6, 7, 8, 9] -- nothing to swap\n",
      "Iteration 58: [1, 2, 0, 3, 4, 5, 6, 7, 8, 9] -- nothing to swap\n",
      "Iteration 59: [1, 2, 0, 3, 4, 5, 6, 7, 8, 9] -- nothing to swap\n",
      "Iteration 60: [1, 2, 0, 3, 4, 5, 6, 7, 8, 9] -- nothing to swap\n",
      "Iteration 61: [1, 2, 0, 3, 4, 5, 6, 7, 8, 9] -- nothing to swap\n",
      "Iteration 62: [1, 2, 0, 3, 4, 5, 6, 7, 8, 9] -- nothing to swap\n",
      "Iteration 63: [1, 2, 0, 3, 4, 5, 6, 7, 8, 9] -- nothing to swap\n",
      "Iteration 64: [1, 0, 2, 3, 4, 5, 6, 7, 8, 9] -- swapped 2 and 0\n",
      "Iteration 65: [1, 0, 2, 3, 4, 5, 6, 7, 8, 9] -- nothing to swap\n",
      "Iteration 66: [1, 0, 2, 3, 4, 5, 6, 7, 8, 9] -- nothing to swap\n",
      "Iteration 67: [1, 0, 2, 3, 4, 5, 6, 7, 8, 9] -- nothing to swap\n",
      "Iteration 68: [1, 0, 2, 3, 4, 5, 6, 7, 8, 9] -- nothing to swap\n",
      "Iteration 69: [1, 0, 2, 3, 4, 5, 6, 7, 8, 9] -- nothing to swap\n",
      "Iteration 70: [1, 0, 2, 3, 4, 5, 6, 7, 8, 9] -- nothing to swap\n",
      "Iteration 71: [1, 0, 2, 3, 4, 5, 6, 7, 8, 9] -- nothing to swap\n",
      "Iteration 72: [0, 1, 2, 3, 4, 5, 6, 7, 8, 9] -- swapped 1 and 0\n",
      "Iteration 73: [0, 1, 2, 3, 4, 5, 6, 7, 8, 9] -- nothing to swap\n",
      "Iteration 74: [0, 1, 2, 3, 4, 5, 6, 7, 8, 9] -- nothing to swap\n",
      "Iteration 75: [0, 1, 2, 3, 4, 5, 6, 7, 8, 9] -- nothing to swap\n",
      "Iteration 76: [0, 1, 2, 3, 4, 5, 6, 7, 8, 9] -- nothing to swap\n",
      "Iteration 77: [0, 1, 2, 3, 4, 5, 6, 7, 8, 9] -- nothing to swap\n",
      "Iteration 78: [0, 1, 2, 3, 4, 5, 6, 7, 8, 9] -- nothing to swap\n",
      "Iteration 79: [0, 1, 2, 3, 4, 5, 6, 7, 8, 9] -- nothing to swap\n",
      "Iteration 80: [0, 1, 2, 3, 4, 5, 6, 7, 8, 9] -- nothing to swap\n",
      "Iteration 81: [0, 1, 2, 3, 4, 5, 6, 7, 8, 9] -- nothing to swap\n",
      "Iteration 82: [0, 1, 2, 3, 4, 5, 6, 7, 8, 9] -- nothing to swap\n",
      "Iteration 83: [0, 1, 2, 3, 4, 5, 6, 7, 8, 9] -- nothing to swap\n",
      "Iteration 84: [0, 1, 2, 3, 4, 5, 6, 7, 8, 9] -- nothing to swap\n",
      "Iteration 85: [0, 1, 2, 3, 4, 5, 6, 7, 8, 9] -- nothing to swap\n",
      "Iteration 86: [0, 1, 2, 3, 4, 5, 6, 7, 8, 9] -- nothing to swap\n",
      "Iteration 87: [0, 1, 2, 3, 4, 5, 6, 7, 8, 9] -- nothing to swap\n",
      "Iteration 88: [0, 1, 2, 3, 4, 5, 6, 7, 8, 9] -- nothing to swap\n",
      "Iteration 89: [0, 1, 2, 3, 4, 5, 6, 7, 8, 9] -- nothing to swap\n",
      "\n",
      "        Summary: Bubble Sort\n",
      "        Start: 1546882490.2224221\n",
      "        End: 1546882490.2255402\n",
      "        Duration: 0.0031180381774902344\n",
      "        Iteration Count: 90\n",
      "        \n",
      "True\n"
     ]
    },
    {
     "data": {
      "text/plain": [
       "[0, 1, 2, 3, 4, 5, 6, 7, 8, 9]"
      ]
     },
     "execution_count": 9,
     "metadata": {},
     "output_type": "execute_result"
    }
   ],
   "source": [
    "bubble_sort(random_array, True)"
   ]
  },
  {
   "cell_type": "code",
   "execution_count": 175,
   "metadata": {},
   "outputs": [],
   "source": [
    "visit = lambda x: print(\"{}\".format(x))"
   ]
  },
  {
   "cell_type": "code",
   "execution_count": 176,
   "metadata": {},
   "outputs": [
    {
     "name": "stdout",
     "output_type": "stream",
     "text": [
      "Node(Singapore)  ---> [ Node(Tokyo), Node(Hong Kong) ]\n",
      "Node(Tokyo)  ---> [ Node(Singapore), Node(Washington, DC) ]\n",
      "Node(Hong Kong)  ---> [ Node(Singapore), Node(Tokyo) ]\n",
      "Node(San Francisco)  ---> [ Node(Hong Kong) ]\n",
      "\n"
     ]
    }
   ],
   "source": [
    "graph = GraphAdjacencyList()\n",
    "singapore = graph.create_vertex(\"Singapore\")\n",
    "tokyo = graph.create_vertex(\"Tokyo\")\n",
    "hong_kong = graph.create_vertex(\"Hong Kong\")\n",
    "san_francisco = graph.create_vertex(\"San Francisco\")\n",
    "washington = graph.create_vertex(\"Washington, DC\")\n",
    "\n",
    "graph.add(EdgeType.UNDIRECTED, singapore, tokyo, 500)\n",
    "graph.add(EdgeType.UNDIRECTED, singapore, hong_kong, 300)\n",
    "graph.add(EdgeType.DIRECTED, hong_kong, tokyo, 250)\n",
    "graph.add(EdgeType.DIRECTED, tokyo, washington, 300)\n",
    "graph.add(EdgeType.DIRECTED, san_francisco, hong_kong, 600)\n",
    "\n",
    "# print(graph.adjacencies)\n",
    "# print(graph.weight_for(v1, v2))\n",
    "print(graph)"
   ]
  },
  {
   "cell_type": "code",
   "execution_count": 177,
   "metadata": {},
   "outputs": [
    {
     "name": "stdout",
     "output_type": "stream",
     "text": [
      "Node(A)  ---> [ Node(D), Node(B), Node(C) ]\n",
      "Node(B)  ---> [ Node(A), Node(E) ]\n",
      "Node(C)  ---> [ Node(F), Node(G), Node(A) ]\n",
      "Node(D)  ---> [ Node(A) ]\n",
      "Node(E)  ---> [ Node(B), Node(H), Node(F) ]\n",
      "Node(F)  ---> [ Node(E), Node(G), Node(C) ]\n",
      "Node(G)  ---> [ Node(F), Node(C) ]\n",
      "Node(H)  ---> [ Node(E) ]\n",
      "\n"
     ]
    }
   ],
   "source": [
    "graph = GraphAdjacencyList()\n",
    "a = graph.create_vertex(\"A\")\n",
    "b = graph.create_vertex(\"B\")\n",
    "c = graph.create_vertex(\"C\")\n",
    "d = graph.create_vertex(\"D\")\n",
    "e = graph.create_vertex(\"E\")\n",
    "f = graph.create_vertex(\"F\")\n",
    "g = graph.create_vertex(\"G\")\n",
    "h = graph.create_vertex(\"H\")\n",
    "\n",
    "graph.add(EdgeType.UNDIRECTED, a, d)\n",
    "graph.add(EdgeType.UNDIRECTED, a, b)\n",
    "graph.add(EdgeType.UNDIRECTED, b, e)\n",
    "graph.add(EdgeType.UNDIRECTED, e, h)\n",
    "graph.add(EdgeType.UNDIRECTED, e, f)\n",
    "graph.add(EdgeType.UNDIRECTED, f, g)\n",
    "graph.add(EdgeType.UNDIRECTED, f, c)\n",
    "graph.add(EdgeType.UNDIRECTED, g, c)\n",
    "graph.add(EdgeType.UNDIRECTED, c, a)\n",
    "\n",
    "print(graph)"
   ]
  },
  {
   "cell_type": "code",
   "execution_count": 182,
   "metadata": {},
   "outputs": [
    {
     "name": "stdout",
     "output_type": "stream",
     "text": [
      "Node(A)\n",
      "Node(D)\n",
      "Node(B)\n",
      "Node(C)\n",
      "Node(E)\n",
      "Node(F)\n",
      "Node(G)\n",
      "Node(H)\n"
     ]
    }
   ],
   "source": [
    "# print(graph.adjacencies)\n",
    "graph.breadth_first_search(a, visit)"
   ]
  },
  {
   "cell_type": "code",
   "execution_count": 183,
   "metadata": {},
   "outputs": [
    {
     "name": "stdout",
     "output_type": "stream",
     "text": [
      "Node(A)\n",
      "Node(C)\n",
      "Node(G)\n",
      "Node(F)\n",
      "Node(E)\n",
      "Node(H)\n",
      "Node(B)\n",
      "Node(D)\n"
     ]
    }
   ],
   "source": [
    "graph.depth_first_search(a, visit)"
   ]
  },
  {
   "cell_type": "code",
   "execution_count": 14,
   "metadata": {},
   "outputs": [
    {
     "name": "stdout",
     "output_type": "stream",
     "text": [
      " ┌──5\n",
      "┌──4\n",
      "│ └──nil\n",
      "3\n",
      "│ ┌──2\n",
      "└──1\n",
      " └──0\n",
      "\n",
      "┌──2\n",
      "1\n",
      "└──0\n",
      "\n",
      "0\n",
      "\n",
      "2\n",
      "\n",
      "┌──5\n",
      "4\n",
      "└──nil\n",
      "\n",
      "5\n",
      "\n"
     ]
    },
    {
     "data": {
      "text/plain": [
       "True"
      ]
     },
     "execution_count": 14,
     "metadata": {},
     "output_type": "execute_result"
    }
   ],
   "source": [
    "binary_tree = BinarySearchTree()\n",
    "binary_tree.insert(3)\n",
    "binary_tree.insert(1)\n",
    "binary_tree.insert(4)\n",
    "binary_tree.insert(0)\n",
    "binary_tree.insert(2)\n",
    "binary_tree.insert(5)\n",
    "print(binary_tree)\n",
    "\n",
    "def get_height(node):\n",
    "    if node == None:\n",
    "        return -1\n",
    "    print(node)\n",
    "    return max(get_height(node.left), get_height(node.right)) + 1\n",
    "\n",
    "def is_balanced(node):\n",
    "    balance_factor = get_height(node.left) - get_height(node.right)\n",
    "    return balance_factor < 2 and balance_factor > -2\n",
    "\n",
    "is_balanced(binary_tree.root)"
   ]
  },
  {
   "cell_type": "code",
   "execution_count": 9,
   "metadata": {},
   "outputs": [
    {
     "name": "stdout",
     "output_type": "stream",
     "text": [
      "┌──nil\n",
      "3\n",
      "└──2\n",
      "\n"
     ]
    },
    {
     "data": {
      "text/plain": [
       "True"
      ]
     },
     "execution_count": 9,
     "metadata": {},
     "output_type": "execute_result"
    }
   ],
   "source": [
    "avl_tree = AVLTree()\n",
    "avl_tree.insert(3)\n",
    "avl_tree.insert(2)\n",
    "print(avl_tree)\n",
    "is_balanced(avl_tree.root)"
   ]
  },
  {
   "cell_type": "code",
   "execution_count": 10,
   "metadata": {},
   "outputs": [
    {
     "name": "stdout",
     "output_type": "stream",
     "text": [
      "┌──75\n",
      "50\n",
      "│  ┌──40\n",
      "│ ┌──37\n",
      "│ │ └──nil\n",
      "└──25\n",
      " └──nil\n",
      "\n"
     ]
    },
    {
     "data": {
      "text/plain": [
       "False"
      ]
     },
     "execution_count": 10,
     "metadata": {},
     "output_type": "execute_result"
    }
   ],
   "source": [
    "# Example of unbalanced tree\n",
    "unbalanced_tree = BinarySearchTree()\n",
    "unbalanced_tree.insert(50)\n",
    "unbalanced_tree.insert(75)\n",
    "unbalanced_tree.insert(25)\n",
    "unbalanced_tree.insert(37)\n",
    "unbalanced_tree.insert(40)\n",
    "print(unbalanced_tree)\n",
    "is_balanced(unbalanced_tree.root)"
   ]
  },
  {
   "cell_type": "code",
   "execution_count": 173,
   "metadata": {},
   "outputs": [
    {
     "name": "stdout",
     "output_type": "stream",
     "text": [
      "┌──75\n",
      "50\n",
      "│ ┌──40\n",
      "└──37\n",
      " └──25\n",
      "\n"
     ]
    }
   ],
   "source": [
    "# Example of unbalanced tree\n",
    "unbalanced_avl_tree = AVLTree()\n",
    "unbalanced_avl_tree.insert(50)\n",
    "unbalanced_avl_tree.insert(75)\n",
    "unbalanced_avl_tree.insert(25)\n",
    "unbalanced_avl_tree.insert(37)\n",
    "unbalanced_avl_tree.insert(40)\n",
    "print(unbalanced_avl_tree)"
   ]
  },
  {
   "cell_type": "code",
   "execution_count": 15,
   "metadata": {},
   "outputs": [
    {
     "name": "stdout",
     "output_type": "stream",
     "text": [
      "  ┌──14\n",
      " ┌──13\n",
      " │ └──12\n",
      "┌──11\n",
      "│ │ ┌──10\n",
      "│ └──9\n",
      "│  └──8\n",
      "7\n",
      "│  ┌──6\n",
      "│ ┌──5\n",
      "│ │ └──4\n",
      "└──3\n",
      " │ ┌──2\n",
      " └──1\n",
      "  └──0\n",
      "\n",
      " ┌──6\n",
      "┌──5\n",
      "│ └──4\n",
      "3\n",
      "│ ┌──2\n",
      "└──1\n",
      " └──0\n",
      "\n",
      "┌──2\n",
      "1\n",
      "└──0\n",
      "\n",
      "0\n",
      "\n",
      "2\n",
      "\n",
      "┌──6\n",
      "5\n",
      "└──4\n",
      "\n",
      "4\n",
      "\n",
      "6\n",
      "\n",
      " ┌──14\n",
      "┌──13\n",
      "│ └──12\n",
      "11\n",
      "│ ┌──10\n",
      "└──9\n",
      " └──8\n",
      "\n",
      "┌──10\n",
      "9\n",
      "└──8\n",
      "\n",
      "8\n",
      "\n",
      "10\n",
      "\n",
      "┌──14\n",
      "13\n",
      "└──12\n",
      "\n",
      "12\n",
      "\n",
      "14\n",
      "\n"
     ]
    },
    {
     "data": {
      "text/plain": [
       "True"
      ]
     },
     "execution_count": 15,
     "metadata": {},
     "output_type": "execute_result"
    }
   ],
   "source": [
    "example_tree = AVLTree()\n",
    "for counter in range(0, 15):\n",
    "    example_tree.insert(counter)\n",
    "print(example_tree)\n",
    "is_balanced(example_tree.root)"
   ]
  },
  {
   "cell_type": "code",
   "execution_count": 175,
   "metadata": {},
   "outputs": [
    {
     "name": "stdout",
     "output_type": "stream",
     "text": [
      " ┌──nil\n",
      "┌──9\n",
      "│ └──8\n",
      "7\n",
      "│ ┌──5\n",
      "└──1\n",
      " └──0\n",
      "\n"
     ]
    }
   ],
   "source": [
    "from data_structure.binary_tree_node import BinaryTreeNode as BinaryTreeNode\n",
    "zero = BinaryTreeNode(0)\n",
    "one = BinaryTreeNode(1)\n",
    "five = BinaryTreeNode(5)\n",
    "seven = BinaryTreeNode(7)\n",
    "eight = BinaryTreeNode(8)\n",
    "nine = BinaryTreeNode(9)\n",
    "\n",
    "seven.left = one\n",
    "one.left = zero\n",
    "one.right = five\n",
    "seven.right = nine\n",
    "nine.left = eight\n",
    "\n",
    "tree = seven\n",
    "print(tree)\n",
    "\n"
   ]
  },
  {
   "cell_type": "code",
   "execution_count": 176,
   "metadata": {},
   "outputs": [
    {
     "name": "stdout",
     "output_type": "stream",
     "text": [
      "0\n",
      "1\n",
      "5\n",
      "7\n",
      "8\n",
      "9\n"
     ]
    }
   ],
   "source": [
    "tree.traverse_in_order(visit)"
   ]
  },
  {
   "cell_type": "code",
   "execution_count": 177,
   "metadata": {},
   "outputs": [
    {
     "name": "stdout",
     "output_type": "stream",
     "text": [
      "7\n",
      "1\n",
      "0\n",
      "5\n",
      "9\n",
      "8\n"
     ]
    }
   ],
   "source": [
    "tree.traverse_pre_order(visit)"
   ]
  },
  {
   "cell_type": "code",
   "execution_count": 178,
   "metadata": {},
   "outputs": [
    {
     "name": "stdout",
     "output_type": "stream",
     "text": [
      "0\n",
      "5\n",
      "1\n",
      "8\n",
      "9\n",
      "7\n"
     ]
    }
   ],
   "source": [
    "tree.traverse_post_order(visit)"
   ]
  },
  {
   "cell_type": "code",
   "execution_count": 179,
   "metadata": {},
   "outputs": [
    {
     "name": "stdout",
     "output_type": "stream",
     "text": [
      "2\n",
      "None\n"
     ]
    }
   ],
   "source": [
    "linked_list = LinkedList()\n",
    "linked_list.append(1)\n",
    "linked_list.append(2)\n",
    "linked_list.append(3)\n",
    "linked_list.remove_head()\n",
    "linked_list.remove_tail()\n",
    "print(linked_list.remove_tail())\n",
    "print(linked_list.head)"
   ]
  },
  {
   "cell_type": "code",
   "execution_count": 200,
   "metadata": {},
   "outputs": [
    {
     "name": "stdout",
     "output_type": "stream",
     "text": [
      "  ┌──14\n",
      " ┌──13\n",
      " │ └──12\n",
      "┌──11\n",
      "│ │ ┌──10\n",
      "│ └──9\n",
      "│  └──8\n",
      "7\n",
      "│  ┌──6\n",
      "│ ┌──5\n",
      "│ │ └──4\n",
      "└──3\n",
      " │ ┌──2\n",
      " └──1\n",
      "  └──0\n",
      "\n"
     ]
    }
   ],
   "source": [
    "example_tree = AVLTree()\n",
    "for counter in range(0, 15):\n",
    "    example_tree.insert(counter)\n",
    "print(example_tree)"
   ]
  },
  {
   "cell_type": "code",
   "execution_count": 198,
   "metadata": {},
   "outputs": [
    {
     "name": "stderr",
     "output_type": "stream",
     "text": [
      ".........\n",
      "----------------------------------------------------------------------\n",
      "Ran 9 tests in 0.013s\n",
      "\n",
      "OK\n"
     ]
    },
    {
     "data": {
      "text/plain": [
       "<unittest.runner.TextTestResult run=9 errors=0 failures=0>"
      ]
     },
     "execution_count": 198,
     "metadata": {},
     "output_type": "execute_result"
    }
   ],
   "source": [
    "## loader = unittest.TestLoader()\n",
    "start_dir = 'tests'\n",
    "suite = loader.discover(start_dir)\n",
    "\n",
    "runner = unittest.TextTestRunner()\n",
    "runner.run(suite)"
   ]
  },
  {
   "cell_type": "code",
   "execution_count": null,
   "metadata": {},
   "outputs": [],
   "source": []
  }
 ],
 "metadata": {
  "kernelspec": {
   "display_name": "Python 3",
   "language": "python",
   "name": "python3"
  },
  "language_info": {
   "codemirror_mode": {
    "name": "ipython",
    "version": 3
   },
   "file_extension": ".py",
   "mimetype": "text/x-python",
   "name": "python",
   "nbconvert_exporter": "python",
   "pygments_lexer": "ipython3",
   "version": "3.7.1"
  }
 },
 "nbformat": 4,
 "nbformat_minor": 2
}
