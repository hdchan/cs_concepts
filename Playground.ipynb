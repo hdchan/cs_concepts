{
 "cells": [
  {
   "cell_type": "code",
   "execution_count": 104,
   "metadata": {},
   "outputs": [
    {
     "name": "stdout",
     "output_type": "stream",
     "text": [
      "The autoreload extension is already loaded. To reload it, use:\n",
      "  %reload_ext autoreload\n"
     ]
    }
   ],
   "source": [
    "%load_ext autoreload\n",
    "%autoreload 2"
   ]
  },
  {
   "cell_type": "code",
   "execution_count": 105,
   "metadata": {},
   "outputs": [],
   "source": [
    "from data_structure.stack import Stack\n",
    "from data_structure.queue import Queue\n",
    "from data_structure.helper import generate_randomized_stack\n",
    "from data_structure.binary_search_tree import BinarySearchTree\n",
    "from data_structure.avl_tree import AVLTree\n",
    "\n",
    "import random\n",
    "from random import randint\n",
    "import unittest"
   ]
  },
  {
   "cell_type": "code",
   "execution_count": 106,
   "metadata": {},
   "outputs": [
    {
     "name": "stdout",
     "output_type": "stream",
     "text": [
      " ┌──5\n",
      "┌──4\n",
      "│ └──nil\n",
      "3\n",
      "│ ┌──2\n",
      "└──1\n",
      " └──0\n",
      "\n"
     ]
    }
   ],
   "source": [
    "binary_tree = BinarySearchTree()\n",
    "binary_tree.insert(3)\n",
    "binary_tree.insert(1)\n",
    "binary_tree.insert(4)\n",
    "binary_tree.insert(0)\n",
    "binary_tree.insert(2)\n",
    "binary_tree.insert(5)\n",
    "print(binary_tree)"
   ]
  },
  {
   "cell_type": "code",
   "execution_count": 107,
   "metadata": {},
   "outputs": [
    {
     "name": "stdout",
     "output_type": "stream",
     "text": [
      "┌──nil\n",
      "3\n",
      "└──2\n",
      "\n"
     ]
    }
   ],
   "source": [
    "avl_tree = AVLTree()\n",
    "avl_tree.insert(3)\n",
    "avl_tree.insert(2)\n",
    "print(avl_tree)"
   ]
  },
  {
   "cell_type": "code",
   "execution_count": 108,
   "metadata": {},
   "outputs": [
    {
     "name": "stdout",
     "output_type": "stream",
     "text": [
      "┌──75\n",
      "50\n",
      "│  ┌──40\n",
      "│ ┌──37\n",
      "│ │ └──nil\n",
      "└──25\n",
      " └──nil\n",
      "\n"
     ]
    }
   ],
   "source": [
    "# Example of unbalanced tree\n",
    "unbalanced_tree = BinarySearchTree()\n",
    "unbalanced_tree.insert(50)\n",
    "unbalanced_tree.insert(75)\n",
    "unbalanced_tree.insert(25)\n",
    "unbalanced_tree.insert(37)\n",
    "unbalanced_tree.insert(40)\n",
    "print(unbalanced_tree)"
   ]
  },
  {
   "cell_type": "code",
   "execution_count": 109,
   "metadata": {},
   "outputs": [
    {
     "name": "stdout",
     "output_type": "stream",
     "text": [
      "┌──75\n",
      "50\n",
      "│ ┌──40\n",
      "└──37\n",
      " └──25\n",
      "\n"
     ]
    }
   ],
   "source": [
    "# Example of unbalanced tree\n",
    "unbalanced_avl_tree = AVLTree()\n",
    "unbalanced_avl_tree.insert(50)\n",
    "unbalanced_avl_tree.insert(75)\n",
    "unbalanced_avl_tree.insert(25)\n",
    "unbalanced_avl_tree.insert(37)\n",
    "unbalanced_avl_tree.insert(40)\n",
    "print(unbalanced_avl_tree)"
   ]
  },
  {
   "cell_type": "code",
   "execution_count": 110,
   "metadata": {},
   "outputs": [
    {
     "name": "stdout",
     "output_type": "stream",
     "text": [
      "  ┌──14\n",
      " ┌──13\n",
      " │ └──12\n",
      "┌──11\n",
      "│ │ ┌──10\n",
      "│ └──9\n",
      "│  └──8\n",
      "7\n",
      "│  ┌──6\n",
      "│ ┌──5\n",
      "│ │ └──4\n",
      "└──3\n",
      " │ ┌──2\n",
      " └──1\n",
      "  └──0\n",
      "\n"
     ]
    }
   ],
   "source": [
    "example_tree = AVLTree()\n",
    "for counter in range(0, 15):\n",
    "    example_tree.insert(counter)\n",
    "print(example_tree)"
   ]
  },
  {
   "cell_type": "code",
   "execution_count": 123,
   "metadata": {},
   "outputs": [
    {
     "name": "stdout",
     "output_type": "stream",
     "text": [
      " ┌──nil\n",
      "┌──9\n",
      "│ └──8\n",
      "7\n",
      "│ ┌──5\n",
      "└──1\n",
      " └──0\n",
      "\n"
     ]
    }
   ],
   "source": [
    "from data_structure.binary_tree_node import BinaryTreeNode as BinaryTreeNode\n",
    "zero = BinaryTreeNode(0)\n",
    "one = BinaryTreeNode(1)\n",
    "five = BinaryTreeNode(5)\n",
    "seven = BinaryTreeNode(7)\n",
    "eight = BinaryTreeNode(8)\n",
    "nine = BinaryTreeNode(9)\n",
    "\n",
    "seven.left = one\n",
    "one.left = zero\n",
    "one.right = five\n",
    "seven.right = nine\n",
    "nine.left = eight\n",
    "\n",
    "tree = seven\n",
    "print(tree)\n",
    "\n",
    "visit = lambda x: print(\"{}\".format(x))"
   ]
  },
  {
   "cell_type": "code",
   "execution_count": 124,
   "metadata": {},
   "outputs": [
    {
     "name": "stdout",
     "output_type": "stream",
     "text": [
      "0\n",
      "1\n",
      "5\n",
      "7\n",
      "8\n",
      "9\n"
     ]
    }
   ],
   "source": [
    "tree.traverse_in_order(visit)"
   ]
  },
  {
   "cell_type": "code",
   "execution_count": 125,
   "metadata": {},
   "outputs": [
    {
     "name": "stdout",
     "output_type": "stream",
     "text": [
      "7\n",
      "1\n",
      "0\n",
      "5\n",
      "9\n",
      "8\n"
     ]
    }
   ],
   "source": [
    "tree.traverse_pre_order(visit)"
   ]
  },
  {
   "cell_type": "code",
   "execution_count": 127,
   "metadata": {},
   "outputs": [
    {
     "name": "stdout",
     "output_type": "stream",
     "text": [
      "0\n",
      "5\n",
      "1\n",
      "8\n",
      "9\n",
      "7\n"
     ]
    }
   ],
   "source": [
    "tree.traverse_post_order(visit)"
   ]
  },
  {
   "cell_type": "code",
   "execution_count": 63,
   "metadata": {},
   "outputs": [
    {
     "name": "stderr",
     "output_type": "stream",
     "text": [
      "..............\n",
      "----------------------------------------------------------------------\n",
      "Ran 14 tests in 0.024s\n",
      "\n",
      "OK\n"
     ]
    },
    {
     "data": {
      "text/plain": [
       "<unittest.runner.TextTestResult run=14 errors=0 failures=0>"
      ]
     },
     "execution_count": 63,
     "metadata": {},
     "output_type": "execute_result"
    }
   ],
   "source": [
    "loader = unittest.TestLoader()\n",
    "start_dir = 'tests'\n",
    "suite = loader.discover(start_dir)\n",
    "\n",
    "runner = unittest.TextTestRunner()\n",
    "runner.run(suite)"
   ]
  },
  {
   "cell_type": "code",
   "execution_count": null,
   "metadata": {},
   "outputs": [],
   "source": []
  }
 ],
 "metadata": {
  "kernelspec": {
   "display_name": "Python 3",
   "language": "python",
   "name": "python3"
  },
  "language_info": {
   "codemirror_mode": {
    "name": "ipython",
    "version": 3
   },
   "file_extension": ".py",
   "mimetype": "text/x-python",
   "name": "python",
   "nbconvert_exporter": "python",
   "pygments_lexer": "ipython3",
   "version": "3.7.1"
  }
 },
 "nbformat": 4,
 "nbformat_minor": 2
}
